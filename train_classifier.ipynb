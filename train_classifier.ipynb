{
  "nbformat": 4,
  "nbformat_minor": 0,
  "metadata": {
    "colab": {
      "provenance": [],
      "collapsed_sections": [
        "fiOWVmbv74lw",
        "4MsCKHba74lx",
        "fGv8XmPmbqiZ",
        "n3viTR-yfDIb",
        "8WmGkhWdb6Ay"
      ],
      "gpuType": "T4",
      "authorship_tag": "ABX9TyMMDylUJKjMbKd2ap2bK+zX",
      "include_colab_link": true
    },
    "kernelspec": {
      "name": "python3",
      "display_name": "Python 3"
    },
    "language_info": {
      "name": "python"
    },
    "accelerator": "GPU"
  },
  "cells": [
    {
      "cell_type": "markdown",
      "metadata": {
        "id": "view-in-github",
        "colab_type": "text"
      },
      "source": [
        "<a href=\"https://colab.research.google.com/github/cjkreienkamp/wpolo-scoresheet-ocr/blob/main/train_classifier.ipynb\" target=\"_parent\"><img src=\"https://colab.research.google.com/assets/colab-badge.svg\" alt=\"Open In Colab\"/></a>"
      ]
    },
    {
      "cell_type": "markdown",
      "metadata": {
        "id": "NT66vo1E74lv"
      },
      "source": [
        "## 0. Configure Environment"
      ]
    },
    {
      "cell_type": "markdown",
      "source": [
        "**Note**: If you are running this in Colab, enable a GPU\n",
        "\n",
        "> `Runtime`   →   `Change runtime type`   →   `Hardware Accelerator: GPU`"
      ],
      "metadata": {
        "id": "lHJXL-vzaTfY"
      }
    },
    {
      "cell_type": "markdown",
      "source": [
        "### 0.1 Imports"
      ],
      "metadata": {
        "id": "tzXdzxosbwcA"
      }
    },
    {
      "cell_type": "code",
      "source": [
        "import torch\n",
        "from torch.utils.data import DataLoader\n",
        "from torch.utils.data import random_split\n",
        "import torch.optim as optim\n",
        "import torch.nn as nn\n",
        "import torch.nn.functional as F\n",
        "import torchvision\n",
        "from torchvision import datasets, transforms\n",
        "import matplotlib.pyplot as plt\n",
        "import numpy as np\n",
        "import os\n",
        "import tarfile\n",
        "from tqdm import tqdm\n",
        "from io import BytesIO\n",
        "from zipfile import ZipFile\n",
        "from urllib.request import urlopen\n",
        "import pandas as pd\n",
        "from PIL import Image\n",
        "import csv\n",
        "from torchvision.io import read_image\n",
        "from timeit import default_timer as timer\n",
        "import pathlib\n",
        "from typing import Dict, List"
      ],
      "metadata": {
        "id": "o14lHDw4bn5S"
      },
      "execution_count": 8,
      "outputs": []
    },
    {
      "cell_type": "markdown",
      "source": [
        "### 0.2 Configure GPU"
      ],
      "metadata": {
        "id": "4HmAs9UAbrOi"
      }
    },
    {
      "cell_type": "code",
      "execution_count": 9,
      "metadata": {
        "id": "64TjFuww74lv",
        "colab": {
          "base_uri": "https://localhost:8080/",
          "height": 0
        },
        "outputId": "9963c705-82e5-4b1c-f3cc-0243a7320d69"
      },
      "outputs": [
        {
          "output_type": "stream",
          "name": "stdout",
          "text": [
            "2.4.0+cu121\n"
          ]
        },
        {
          "output_type": "execute_result",
          "data": {
            "text/plain": [
              "'cpu'"
            ],
            "application/vnd.google.colaboratory.intrinsic+json": {
              "type": "string"
            }
          },
          "metadata": {},
          "execution_count": 9
        }
      ],
      "source": [
        "print(torch.__version__)   # this notebook requires torch >= 1.10.0\n",
        "device = 'cuda' if torch.cuda.is_available() else 'cpu'\n",
        "device"
      ]
    },
    {
      "cell_type": "markdown",
      "source": [
        "### 0.3 Data Structures"
      ],
      "metadata": {
        "id": "lXaS_wzb7y3Y"
      }
    },
    {
      "cell_type": "code",
      "source": [
        "from torch.utils.data import Dataset\n",
        "\n",
        "class RoboflowDataset(Dataset):\n",
        "    def __init__(self, data, targets, transform=None):\n",
        "        self.data = data\n",
        "        self.targets = targets\n",
        "        self.transform = transform\n",
        "        self.classes = [];\n",
        "\n",
        "    def __getitem__(self, index):\n",
        "        image = self.data[index]\n",
        "        label = self.targets[index]\n",
        "        if self.transform:\n",
        "            image = self.transform(image)\n",
        "        return image, label\n",
        "\n",
        "    def __len__(self):\n",
        "        return len(self.data)\n",
        "        return"
      ],
      "metadata": {
        "id": "iEUYGrdB5f5A"
      },
      "execution_count": 10,
      "outputs": []
    },
    {
      "cell_type": "markdown",
      "metadata": {
        "id": "fiOWVmbv74lw"
      },
      "source": [
        "## 1. Collect Data"
      ]
    },
    {
      "cell_type": "markdown",
      "source": [
        "### 1.1 Pull the data from an online repository"
      ],
      "metadata": {
        "id": "Cic4rEf7XXJ9"
      }
    },
    {
      "cell_type": "code",
      "source": [
        "!rm -r train\n",
        "!rm README*\n",
        "!curl -L \"https://app.roboflow.com/ds/M661DNgI8g?key=cGCjih57DA\" > roboflow.zip; unzip roboflow.zip; rm roboflow.zip"
      ],
      "metadata": {
        "colab": {
          "base_uri": "https://localhost:8080/"
        },
        "id": "Ip6iiQXRsEKm",
        "outputId": "d5829eb8-6ff0-467d-d868-1af48fc8d755"
      },
      "execution_count": 11,
      "outputs": [
        {
          "output_type": "stream",
          "name": "stdout",
          "text": [
            "  % Total    % Received % Xferd  Average Speed   Time    Time     Time  Current\n",
            "                                 Dload  Upload   Total   Spent    Left  Speed\n",
            "100   907  100   907    0     0   4122      0 --:--:-- --:--:-- --:--:--  4141\n",
            "100 1119k  100 1119k    0     0  1639k      0 --:--:-- --:--:-- --:--:-- 1639k\n",
            "Archive:  roboflow.zip\n",
            "  inflating: README.dataset.txt      \n",
            "  inflating: README.roboflow.txt     \n",
            "   creating: train/\n",
            "  inflating: train/_classes.csv      \n",
            " extracting: train/log10_0_14_png.rf.37188c9a8e43092b0af46096ae26d78c.jpg  \n",
            " extracting: train/log10_0_19_png.rf.d29b91f7507faa3ea25f2c834cbdbb08.jpg  \n",
            " extracting: train/log10_0_24_png.rf.2dbd196d26c4586fb9551dc499462a89.jpg  \n",
            " extracting: train/log10_0_29_png.rf.83624c1eb151a1466297a782597570fe.jpg  \n",
            " extracting: train/log10_0_34_png.rf.989415e0212050cc33953630db8fdb5c.jpg  \n",
            " extracting: train/log10_0_39_png.rf.d3d1e73768f586ce4c406c0becbcbdf8.jpg  \n",
            " extracting: train/log10_0_44_png.rf.3594f4cc42af5e89086c2b8cf6e94807.jpg  \n",
            " extracting: train/log10_0_49_png.rf.d6c578d8e615d783cfdb90b20712bca3.jpg  \n",
            " extracting: train/log10_0_4_png.rf.0146e7b4a2e6f3d6fc48c387f2b8d576.jpg  \n",
            " extracting: train/log10_0_54_png.rf.d47363d2f5dc2b018a27e4171bbf9403.jpg  \n",
            " extracting: train/log10_0_59_png.rf.1b61a8e3d728bd324493c1225cb764f3.jpg  \n",
            " extracting: train/log10_0_64_png.rf.06fed378e9186fae3dd253e96550ce8f.jpg  \n",
            " extracting: train/log10_0_9_png.rf.0371f20ab589c2910fd957bbf63e91a4.jpg  \n",
            " extracting: train/log10_1_14_png.rf.da8f278e6691f217de4ec3b759673e4f.jpg  \n",
            " extracting: train/log10_1_19_png.rf.3c33c7939cade7d350675d6e5e013b88.jpg  \n",
            " extracting: train/log10_1_24_png.rf.e32c2c475a328adfdccc6ad647a63a89.jpg  \n",
            " extracting: train/log10_1_29_png.rf.afdc2aad1565d5be504792f7a672af3c.jpg  \n",
            " extracting: train/log10_1_34_png.rf.9f44fcafccd62c20745289f2d5c86db0.jpg  \n",
            " extracting: train/log10_1_39_png.rf.23fe62ab80448aad4e4ffcf8ba393ea7.jpg  \n",
            " extracting: train/log10_1_44_png.rf.6fc2b1dda93148cebd79c4d278ad2e58.jpg  \n",
            " extracting: train/log10_1_49_png.rf.26cd4928c287a2cbb920d0839be49005.jpg  \n",
            " extracting: train/log10_1_4_png.rf.bc5a1761264653ab4b98eb35883a4da8.jpg  \n",
            " extracting: train/log10_1_54_png.rf.8d5bf02509e71a93c67568bd96beae7d.jpg  \n",
            " extracting: train/log10_1_59_png.rf.18ee99a839d81c04fff603f6e99f71d4.jpg  \n",
            " extracting: train/log10_1_64_png.rf.bf7a1328f80bf94037c05cfb5b3a655a.jpg  \n",
            " extracting: train/log10_1_9_png.rf.34215d76e4e35632e03d2b36439fc8ed.jpg  \n",
            " extracting: train/log10_2_14_png.rf.88be7e399b6cb011a819437665f1d1db.jpg  \n",
            " extracting: train/log10_2_19_png.rf.1cdcb228ef304e57a4cd2f9b9bdfb1a1.jpg  \n",
            " extracting: train/log10_2_24_png.rf.d2fc20c8378c385556d8f46ff32a92e0.jpg  \n",
            " extracting: train/log10_2_29_png.rf.7ecbbef540e652bbffb172c3ee9d2b79.jpg  \n",
            " extracting: train/log10_2_34_png.rf.b50cf0d1f2df549b94b24836d9d753f6.jpg  \n",
            " extracting: train/log10_2_39_png.rf.fe8f49212828840bff456ea54efff0f2.jpg  \n",
            " extracting: train/log10_2_44_png.rf.92abdadfb2472a296ec08b3172177eae.jpg  \n",
            " extracting: train/log10_2_49_png.rf.062d6e05d037dfbc5555676d1b1781e9.jpg  \n",
            " extracting: train/log10_2_4_png.rf.bb61c24fbb9973daf63f3b371a3e8d07.jpg  \n",
            " extracting: train/log10_2_54_png.rf.09486b09144370aa437f757605773692.jpg  \n",
            " extracting: train/log10_2_59_png.rf.686e8f661a0b8f4ed32a618c229a311c.jpg  \n",
            " extracting: train/log10_2_64_png.rf.337d6b0ae83e8b3145a63a9ce4b30c70.jpg  \n",
            " extracting: train/log10_2_9_png.rf.ca12f8c0c987e785ef44c480b3871460.jpg  \n",
            " extracting: train/log10_3_14_png.rf.1e4ea3074c8768a9d3532bf74fc05572.jpg  \n",
            " extracting: train/log10_3_19_png.rf.4bdbfe5177667a76c4095a55696a3116.jpg  \n",
            " extracting: train/log10_3_24_png.rf.f132b86de68130cbba4dfc279b431ce6.jpg  \n",
            " extracting: train/log10_3_29_png.rf.93fc120b8ab1bf4f1c9160beec2b5ab7.jpg  \n",
            " extracting: train/log10_3_34_png.rf.b3d659416bc4d4a2a88e2584b0cf370c.jpg  \n",
            " extracting: train/log10_3_39_png.rf.8538f22f170f106d34b42fdd74ecd511.jpg  \n",
            " extracting: train/log10_3_44_png.rf.0b659d1f0494243f8dcc7b786f74f2c5.jpg  \n",
            " extracting: train/log10_3_49_png.rf.5e3b566c48a61c14d6828127f76ace56.jpg  \n",
            " extracting: train/log10_3_4_png.rf.bd9a5312609bf5e9be9cf69732e9faef.jpg  \n",
            " extracting: train/log10_3_54_png.rf.150925c805cedf6ea4d49cdabff75d93.jpg  \n",
            " extracting: train/log10_3_59_png.rf.d0c51be88576bc6f54608e5521548695.jpg  \n",
            " extracting: train/log10_3_64_png.rf.5bae6623272a1185c092cbe90effb4cf.jpg  \n",
            " extracting: train/log10_3_9_png.rf.95ec162a50aecae495b802ce1812c18a.jpg  \n",
            " extracting: train/log10_4_14_png.rf.0e9a6fedf1b62f385ae77dc7315fc93e.jpg  \n",
            " extracting: train/log10_4_19_png.rf.73b30cb08b93e1ad9d2834bd22745a4e.jpg  \n",
            " extracting: train/log10_4_24_png.rf.f5f190af21bd2d2db33cd6f475a33aa5.jpg  \n",
            " extracting: train/log10_4_29_png.rf.be1dc75327a15e879608f1e6792e5e05.jpg  \n",
            " extracting: train/log10_4_34_png.rf.08ceeb586eb1f659dc598ef10058d9ea.jpg  \n",
            " extracting: train/log10_4_39_png.rf.ffe9a5ccf85951b0e063171426fda430.jpg  \n",
            " extracting: train/log10_4_44_png.rf.a5e62977373a070ddd10b569abe41335.jpg  \n",
            " extracting: train/log10_4_49_png.rf.e786fa91c26b6693a57fb3738505881d.jpg  \n",
            " extracting: train/log10_4_4_png.rf.82a39e411069e98e8871f53d60be1e2a.jpg  \n",
            " extracting: train/log10_4_54_png.rf.0bba05312cad53e973500426bf5d18dc.jpg  \n",
            " extracting: train/log10_4_59_png.rf.f2a8f4620c13f5b94a46804f8b7ff03a.jpg  \n",
            " extracting: train/log10_4_64_png.rf.a1b7726641e1a5e45d4e72b6ab84e2f9.jpg  \n",
            " extracting: train/log10_4_9_png.rf.b10f79fcd91fccfdc96d974c8a9c777e.jpg  \n",
            " extracting: train/log11_0_14_png.rf.1f2901b1e3ab6d553ea41a9d60d69206.jpg  \n",
            " extracting: train/log11_0_19_png.rf.26b3d3fe2ed00593e831ea0f406ffe1e.jpg  \n",
            " extracting: train/log11_0_24_png.rf.e989def87ed23ccb0fa5e30abcdf6ded.jpg  \n",
            " extracting: train/log11_0_29_png.rf.e0fcd743de36d14702b1b24f17b9297a.jpg  \n",
            " extracting: train/log11_0_34_png.rf.4dfb85b50b90fde0eaac0916f048c93a.jpg  \n",
            " extracting: train/log11_0_39_png.rf.efdbc0ab0d58e8da4d2314bd46965c58.jpg  \n",
            " extracting: train/log11_0_44_png.rf.f9b45bc2f6a36076e79facb0467f1cbe.jpg  \n",
            " extracting: train/log11_0_49_png.rf.ada7265d79486882d6e01e601ef76ee8.jpg  \n",
            " extracting: train/log11_0_4_png.rf.7061ebeb03bfbc1cb27b45d363f7a1e7.jpg  \n",
            " extracting: train/log11_0_54_png.rf.36e59956004852d801f48fefb5dff32a.jpg  \n",
            " extracting: train/log11_0_59_png.rf.85830a5aae980078ac12e5d5e03148b0.jpg  \n",
            " extracting: train/log11_0_64_png.rf.3622e5b3192c3addd5e520a899cbf224.jpg  \n",
            " extracting: train/log11_0_9_png.rf.d3fb7ba0cc9914e8c64c003f562ade92.jpg  \n",
            " extracting: train/log11_1_14_png.rf.5ace9f6ef1e70f8cc26d9980c7155fe1.jpg  \n",
            " extracting: train/log11_1_19_png.rf.0e13718887199ce115e683488ca14849.jpg  \n",
            " extracting: train/log11_1_24_png.rf.b84aa82e864162715c84ccd5727ded02.jpg  \n",
            " extracting: train/log11_1_29_png.rf.149e6188f538374db25707e861523df9.jpg  \n",
            " extracting: train/log11_1_34_png.rf.a99dd532acf58d5d2dad12ab2859abc5.jpg  \n",
            " extracting: train/log11_1_39_png.rf.17f484ceb61b25b2937d400d52c139aa.jpg  \n",
            " extracting: train/log11_1_44_png.rf.383edb8f19963fbda8612051a2d7ba4d.jpg  \n",
            " extracting: train/log11_1_49_png.rf.47c3a8bb3ec66e6c94af20c17b0f4700.jpg  \n",
            " extracting: train/log11_1_4_png.rf.97e7ceec459c10d6d347ccabb007282d.jpg  \n",
            " extracting: train/log11_1_54_png.rf.9185c6f7bdf43fb2836778ee8c904221.jpg  \n",
            " extracting: train/log11_1_59_png.rf.8fa6107a45d5bbc09da6aab6adf7cc9a.jpg  \n",
            " extracting: train/log11_1_64_png.rf.3f254616bfb160596358b58170634804.jpg  \n",
            " extracting: train/log11_1_9_png.rf.06fc90ea20259ddc79650f754110c5e5.jpg  \n",
            " extracting: train/log11_2_14_png.rf.8e5e823743386fb477c4236ae4242c63.jpg  \n",
            " extracting: train/log11_2_19_png.rf.91a8e564a93ffb097ec1b0c8b63fd00a.jpg  \n",
            " extracting: train/log11_2_24_png.rf.3abf2452b0a13dbf47b011b7f4c8ad28.jpg  \n",
            " extracting: train/log11_2_29_png.rf.421ead3e85c2a3798dfc1be59730f024.jpg  \n",
            " extracting: train/log11_2_34_png.rf.349d8048c3fa0f5dff5673befcc631ac.jpg  \n",
            " extracting: train/log11_2_39_png.rf.7ddf9a367176a263acaf86a8c2d64c5d.jpg  \n",
            " extracting: train/log11_2_44_png.rf.5f3b058ef7bc3b0439b1ceae1a77a0aa.jpg  \n",
            " extracting: train/log11_2_49_png.rf.7b4d9ee883b5842ff85f89dda6fa6e42.jpg  \n",
            " extracting: train/log11_2_4_png.rf.89d13173cf8b9f25210f3377e65e4981.jpg  \n",
            " extracting: train/log11_2_54_png.rf.627874109c62e3e0bc655a487101df9b.jpg  \n",
            " extracting: train/log11_2_59_png.rf.20979a478307a8049a88672fd06b3e09.jpg  \n",
            " extracting: train/log11_2_64_png.rf.b1556535370126f05e45735743b5a36b.jpg  \n",
            " extracting: train/log11_2_9_png.rf.c9f73a88e0fdc685bb10ab6ecb7b1f4c.jpg  \n",
            " extracting: train/log11_3_14_png.rf.541a45f1c74ae2986e6b5cce89fe9eca.jpg  \n",
            " extracting: train/log11_3_19_png.rf.b49452e0aec6ab2de80fda83cbf4538b.jpg  \n",
            " extracting: train/log11_3_24_png.rf.f81d4e0aa26ea3464a38f83cfa193978.jpg  \n",
            " extracting: train/log11_3_29_png.rf.12bb4e1ee703f37a75a5b7de57077f30.jpg  \n",
            " extracting: train/log11_3_54_png.rf.539b5c94e71d00c9766e27561ecaee20.jpg  \n",
            " extracting: train/log11_3_59_png.rf.cfe2f18dff64180f34f029003dc06e9a.jpg  \n",
            " extracting: train/log11_3_64_png.rf.f67cacf6ef3271bab4bd066cb55b70e4.jpg  \n",
            " extracting: train/log11_3_9_png.rf.94f1dca4e448b64d1f56e4843cfe0c9a.jpg  \n",
            " extracting: train/log11_4_14_png.rf.4f6e0bd0a7eb3907f6b6cb821bfabb65.jpg  \n",
            " extracting: train/log11_4_19_png.rf.05cc8e628c29cf946da58418944e9268.jpg  \n",
            " extracting: train/log11_4_24_png.rf.15af1f917ed9c93abbd5548cd8b02d44.jpg  \n",
            " extracting: train/log11_4_9_png.rf.b09b5781bc1f3d7238862ea0eb6e037e.jpg  \n",
            " extracting: train/log12_0_14_png.rf.dbaf0d5c259b89d9d054625d5f1f9642.jpg  \n",
            " extracting: train/log12_0_19_png.rf.24eae7d2f9b718df77f958b029649142.jpg  \n",
            " extracting: train/log12_0_24_png.rf.28e83542dc8846cec977ac9c6e9544eb.jpg  \n",
            " extracting: train/log12_0_29_png.rf.3c4ea5c620d28db7a9b3ebf13cfe6650.jpg  \n",
            " extracting: train/log12_0_34_png.rf.b66f65a718a0c7c4bfe8dbfa7abb3076.jpg  \n",
            " extracting: train/log12_0_39_png.rf.776d2cbc32690e3a031a8731a9614b08.jpg  \n",
            " extracting: train/log12_0_44_png.rf.2cb5695170d3758b070c707055a7d679.jpg  \n",
            " extracting: train/log12_0_49_png.rf.d23c8d522eb2029165536585685ade13.jpg  \n",
            " extracting: train/log12_0_4_png.rf.d8b1afa40c0b257c3734791d5f27df95.jpg  \n",
            " extracting: train/log12_0_54_png.rf.54418d1c9b47723e098fd08fa6a6c3b2.jpg  \n",
            " extracting: train/log12_0_59_png.rf.575bee1084e5678dc333962a7c7e01ee.jpg  \n",
            " extracting: train/log12_0_64_png.rf.3f8b8d94b1fa109dd584562059fca843.jpg  \n",
            " extracting: train/log12_0_9_png.rf.ebed2095f9f22f3645590b54432dae6a.jpg  \n",
            " extracting: train/log12_1_14_png.rf.335df45d12505091e213dca155b76590.jpg  \n",
            " extracting: train/log12_1_19_png.rf.1a06b097bc0b2fb075d3f1803e07068d.jpg  \n",
            " extracting: train/log12_1_24_png.rf.892e9c076b49c4e9598bc8ef4e98395d.jpg  \n",
            " extracting: train/log12_1_29_png.rf.83915977e2b64fae34a6c4fc2f1a6cc1.jpg  \n",
            " extracting: train/log12_1_34_png.rf.a3a4b6b12020522b8b9491cfa8d6052b.jpg  \n",
            " extracting: train/log12_1_39_png.rf.f40a797b96a2dde129ba9754ec72aaee.jpg  \n",
            " extracting: train/log12_1_44_png.rf.10244a1c255496ab0f389ba03a34b1b7.jpg  \n",
            " extracting: train/log12_1_49_png.rf.848f65285f2069c8295d893b66fab5cf.jpg  \n",
            " extracting: train/log12_1_4_png.rf.5224539d3c08430cc3359ca0cc4c560f.jpg  \n",
            " extracting: train/log12_1_54_png.rf.4cee7d14a9a627b8e9a5e6359bb7d1dd.jpg  \n",
            " extracting: train/log12_1_59_png.rf.75ded6fdf4563f2eac8c0984c50e3c6c.jpg  \n",
            " extracting: train/log12_1_64_png.rf.a074b44dd68c12910a731bb631cd40f0.jpg  \n",
            " extracting: train/log12_1_9_png.rf.8ddf8cd0bb6f5dc98425aaa73dd96cb9.jpg  \n",
            " extracting: train/log12_2_14_png.rf.17c058df194581ef70ef41f09228c568.jpg  \n",
            " extracting: train/log12_2_19_png.rf.1669ffd5a0afe41d6e2f15d1c65b4b95.jpg  \n",
            " extracting: train/log12_2_24_png.rf.18962b85ab506c1203517429a51ed26c.jpg  \n",
            " extracting: train/log12_2_29_png.rf.c0de79fc02cba4ae3b912303830f6fcd.jpg  \n",
            " extracting: train/log12_2_34_png.rf.54e9b1fa412de51b96ddf36fb2dae152.jpg  \n",
            " extracting: train/log12_2_39_png.rf.5137222b6d6460b60e74ee82f11ca643.jpg  \n",
            " extracting: train/log12_2_44_png.rf.67f0b1792a2f4eb7426b142d52b58015.jpg  \n",
            " extracting: train/log12_2_49_png.rf.b0836ec8a59723668108245333a9fef6.jpg  \n",
            " extracting: train/log12_2_4_png.rf.e49364f3d45b160fa0794f191422f5e5.jpg  \n",
            " extracting: train/log12_2_54_png.rf.516cd393b9e251c4d0106c9adb582db8.jpg  \n",
            " extracting: train/log12_2_59_png.rf.22df3bbd5c51d2950896139b923f16d2.jpg  \n",
            " extracting: train/log12_2_64_png.rf.d5679f520811ff45a7cad49538463fc4.jpg  \n",
            " extracting: train/log12_2_9_png.rf.420ac9f38abc4c23e98b98011e5b28b3.jpg  \n",
            " extracting: train/log12_3_14_png.rf.298c864adda1d75bfa15534cf812c18f.jpg  \n",
            " extracting: train/log12_3_19_png.rf.507b414b017c62dbc20611fee7e82aad.jpg  \n",
            " extracting: train/log12_3_24_png.rf.0e719d57691412541a13d89e0ab48745.jpg  \n",
            " extracting: train/log12_3_29_png.rf.41a95c5f7910ff608235f57bc0b16f90.jpg  \n",
            " extracting: train/log12_3_64_png.rf.6280e947d6aafa788f4c010f24d13f81.jpg  \n",
            " extracting: train/log12_3_9_png.rf.9090457fbc7d10b803dc217f935941fc.jpg  \n",
            " extracting: train/log12_4_14_png.rf.01b58fd6c615a4e446be86747df6ed0a.jpg  \n",
            " extracting: train/log12_4_19_png.rf.ebafc7d8264354d6fcb1eeeba5fa66c1.jpg  \n",
            " extracting: train/log12_4_24_png.rf.76bbdbedf2e432d7e8452cd209d03fa8.jpg  \n",
            " extracting: train/log12_4_49_png.rf.6687110774a47d921b626e8af1a66ff9.jpg  \n",
            " extracting: train/log12_4_54_png.rf.135777f105e5af9bcd26aca95acacde9.jpg  \n",
            " extracting: train/log12_4_59_png.rf.070dcf0192811e5848a86e70bd8353b7.jpg  \n",
            " extracting: train/log12_4_64_png.rf.cc5b00673c4a7fbb9c510b504dd287f0.jpg  \n",
            " extracting: train/log12_4_9_png.rf.60908998a6cf79d377e0c9d2a3392ee6.jpg  \n",
            " extracting: train/log13_0_14_png.rf.586d9d9be96c31286b48f9601dac13f4.jpg  \n",
            " extracting: train/log13_0_19_png.rf.0fdba7dff2af5ad20e5c3b91666bc0d2.jpg  \n",
            " extracting: train/log13_0_24_png.rf.4c8396d9f8cf7178495f804efdc5dfc2.jpg  \n",
            " extracting: train/log13_0_29_png.rf.6b13ffb7e6b261821dc7bdb954ee7cd8.jpg  \n",
            " extracting: train/log13_0_34_png.rf.e834c8d7860121a39d66b7f11ce33ff9.jpg  \n",
            " extracting: train/log13_0_39_png.rf.8d960084c2f085d6a22144810b3bc7ee.jpg  \n",
            " extracting: train/log13_0_44_png.rf.4cd905b270dbe1615f81640579f66e0e.jpg  \n",
            " extracting: train/log13_0_49_png.rf.6644eab80a3cc73449bacf421f620de7.jpg  \n",
            " extracting: train/log13_0_4_png.rf.7327befab00179819329da27239732ab.jpg  \n",
            " extracting: train/log13_0_54_png.rf.abea77a311d8a344e304bd8f7c3e3d59.jpg  \n",
            " extracting: train/log13_0_59_png.rf.bf2e54c43df984250aacfb03a173ac49.jpg  \n",
            " extracting: train/log13_0_64_png.rf.78742f452314ea22b4ba99299a68c52c.jpg  \n",
            " extracting: train/log13_0_9_png.rf.c1a6d414927457659e49e3c51378e4e1.jpg  \n",
            " extracting: train/log13_1_14_png.rf.c2995ff46169b42a34487e61ed0d9dd4.jpg  \n",
            " extracting: train/log13_1_19_png.rf.157977aae6095f43283dc4eae63c0d68.jpg  \n",
            " extracting: train/log13_1_24_png.rf.11fba5778eb360ab07868f4879141f2e.jpg  \n",
            " extracting: train/log13_1_29_png.rf.10579f7dd991decd4fa0a0c5cefcdece.jpg  \n",
            " extracting: train/log13_1_34_png.rf.3c19d0e84e42a8ad2b9c06069ed46840.jpg  \n",
            " extracting: train/log13_1_39_png.rf.65b8027d181069ffde24d5d70c077eea.jpg  \n",
            " extracting: train/log13_1_44_png.rf.c2d2d1ddc0c7fab9a12c8ba1c014f7f1.jpg  \n",
            " extracting: train/log13_1_49_png.rf.52c2c846d443e6f8491553d9bfb76ded.jpg  \n",
            " extracting: train/log13_1_4_png.rf.77c23590ba15b3a01dd3ca9795459ce5.jpg  \n",
            " extracting: train/log13_1_54_png.rf.5c1f2e534dc3476cd422d999c1a0f7c0.jpg  \n",
            " extracting: train/log13_1_59_png.rf.79d89da08441355dc992b1fa18ca2473.jpg  \n",
            " extracting: train/log13_1_64_png.rf.358da9dc310351b1cca8f865ac652820.jpg  \n",
            " extracting: train/log13_1_9_png.rf.3a323938dcdf016fd7759ae450fec391.jpg  \n",
            " extracting: train/log13_2_14_png.rf.f405251cb445cde85f3f09ed8ada3bb2.jpg  \n",
            " extracting: train/log13_2_19_png.rf.67472e7717ba2f2f54e0070e1da56905.jpg  \n",
            " extracting: train/log13_2_24_png.rf.34fdf9d3bbac383814f7f818fda3c5fa.jpg  \n",
            " extracting: train/log13_2_29_png.rf.4b44f54c7839a044cf414aa91d12a6ba.jpg  \n",
            " extracting: train/log13_2_34_png.rf.f85b9bf17d0901abae32d21b9e777ad8.jpg  \n",
            " extracting: train/log13_2_39_png.rf.c20d43a5d0fa044f39adcf67f239bb76.jpg  \n",
            " extracting: train/log13_2_44_png.rf.5fc37bba38dfacbed1d34477baf88f6e.jpg  \n",
            " extracting: train/log13_2_49_png.rf.27add5bd87af20713e3fe22ac33a74f9.jpg  \n",
            " extracting: train/log13_2_4_png.rf.6507380e3d7986c512ec25f40d6f90d8.jpg  \n",
            " extracting: train/log13_2_54_png.rf.21e3fb690afe7761ac9b59684350d492.jpg  \n",
            " extracting: train/log13_2_59_png.rf.bb16f05807ed3f05ddd25cf395cab25d.jpg  \n",
            " extracting: train/log13_2_64_png.rf.6c161fe7b0397391f3eaa699326f8985.jpg  \n",
            " extracting: train/log13_2_9_png.rf.f997d07a13493d7a7e47a8cd477e5380.jpg  \n",
            " extracting: train/log13_3_14_png.rf.e41c5b23cd046469b648e90a93e90527.jpg  \n",
            " extracting: train/log13_3_19_png.rf.8a0d5ae4a7c70661af980e7cde2db7ce.jpg  \n",
            " extracting: train/log13_3_24_png.rf.9cb4deb6c1d8f1c1ff60bd8e81a0aebc.jpg  \n",
            " extracting: train/log13_3_29_png.rf.b72174a85028b301bbc709e5fd5a8d54.jpg  \n",
            " extracting: train/log13_3_34_png.rf.020d89ad31513c14ef8ed8d76ad454b8.jpg  \n",
            " extracting: train/log13_3_39_png.rf.cb5afec1369ce81aff58e9e149e95797.jpg  \n",
            " extracting: train/log13_3_44_png.rf.998ebad02c8ffa9819aabc73d8e12ef9.jpg  \n",
            " extracting: train/log13_3_49_png.rf.6a3d84ecf17a751c7f1bfc0fb2743ece.jpg  \n",
            " extracting: train/log13_3_4_png.rf.ac54ce74b891a5bac251deed901f7a85.jpg  \n",
            " extracting: train/log13_3_54_png.rf.3698c104ebdfdc1bcf804ab9007f1a7f.jpg  \n",
            " extracting: train/log13_3_59_png.rf.5b5e05904f25ef357c91c7b85ffd3b4d.jpg  \n",
            " extracting: train/log13_3_64_png.rf.973af80ba4fe85bc9b3e434c3b425514.jpg  \n",
            " extracting: train/log13_3_9_png.rf.bb99b873c277ca3cabd8e5e4006e9581.jpg  \n",
            " extracting: train/log13_4_14_png.rf.cdc9b6897fc37bba5c5ca9e023f02925.jpg  \n",
            " extracting: train/log13_4_19_png.rf.189d9b3a384b7a7b5e7eb40c53b899a3.jpg  \n",
            " extracting: train/log13_4_24_png.rf.3e7c10e173a5cd33373eb77769bd7151.jpg  \n",
            " extracting: train/log14_0_14_png.rf.a2912ade2e3fb47bc73f4c1eed1047f9.jpg  \n",
            " extracting: train/log14_0_19_png.rf.9bfd870e910efd92d0427a4014727522.jpg  \n",
            " extracting: train/log14_0_24_png.rf.b63628d759f6baec241a7823b13bef1d.jpg  \n",
            " extracting: train/log14_0_29_png.rf.585dc23972185a00a03f9f0ae38c1599.jpg  \n",
            " extracting: train/log14_0_34_png.rf.b38dd789c45a51abd0c6e453c591d99a.jpg  \n",
            " extracting: train/log14_0_39_png.rf.a423e5b07b33d53c723df43ad17b8eaf.jpg  \n",
            " extracting: train/log14_0_44_png.rf.db145fe0c1c2bbb488be0c175fb18692.jpg  \n",
            " extracting: train/log14_0_49_png.rf.c2dadcbce5d741b7657f46806fe62104.jpg  \n",
            " extracting: train/log14_0_4_png.rf.ae705d626a13edfa84ebd0c69049ec40.jpg  \n",
            " extracting: train/log14_0_54_png.rf.4308481ccd6d9abc45559b4ccda0e0de.jpg  \n",
            " extracting: train/log14_0_59_png.rf.3916c39a57aef71eb3865c74d4aabc27.jpg  \n",
            " extracting: train/log14_0_64_png.rf.6c3fda3942b6a9cdcd60dfa9b17a0d50.jpg  \n",
            " extracting: train/log14_0_9_png.rf.0bbf85f775e65d251159f2343c224e42.jpg  \n",
            " extracting: train/log14_1_14_png.rf.9f4f87d78fe5545745bffab05fb0c925.jpg  \n",
            " extracting: train/log14_1_19_png.rf.070bb791032a04a5238fe3141169874c.jpg  \n",
            " extracting: train/log14_1_24_png.rf.7a7076a5663171c099019895cb398e3d.jpg  \n",
            " extracting: train/log14_1_29_png.rf.c7a4c966dadd502ec8ea4e52e59f8278.jpg  \n",
            " extracting: train/log14_1_34_png.rf.302769da2260a00ab4fe0ae2b2e7f252.jpg  \n",
            " extracting: train/log14_1_39_png.rf.a333f8f519efda08249b983c271bb305.jpg  \n",
            " extracting: train/log14_1_44_png.rf.8ebe542e6e6e587df3862e7538ae5360.jpg  \n",
            " extracting: train/log14_1_49_png.rf.12f397887bb6ddb45acf7f60f9544fea.jpg  \n",
            " extracting: train/log14_1_4_png.rf.b9ebd084dd25d2328430c9196faa196e.jpg  \n",
            " extracting: train/log14_1_54_png.rf.a1f1b50acb87060db383bb6c4d4d444c.jpg  \n",
            " extracting: train/log14_1_59_png.rf.ffc1cc37b6484a05ab28b55594e6d3e3.jpg  \n",
            " extracting: train/log14_1_64_png.rf.85e266f1316774ac10d1af88836003b5.jpg  \n",
            " extracting: train/log14_1_9_png.rf.f6c9ddecd07ef97bf03b1d6469547bcf.jpg  \n",
            " extracting: train/log14_2_14_png.rf.677610e9756f0de627806f2085d22c3a.jpg  \n",
            " extracting: train/log14_2_19_png.rf.6d22a2efc872c6108b6f7bf369d02ca9.jpg  \n",
            " extracting: train/log14_2_24_png.rf.ab1e699b8bb39d2fbec981900538cde6.jpg  \n",
            " extracting: train/log14_2_29_png.rf.73fc93985592760fa871aa5b33b1bbcf.jpg  \n",
            " extracting: train/log14_2_34_png.rf.f9d624fb2f9450554f37f33761de71ac.jpg  \n",
            " extracting: train/log14_2_39_png.rf.359529e280082e8b463da7b5cbe3f532.jpg  \n",
            " extracting: train/log14_2_44_png.rf.652611232f3eceb75a23738eeb092996.jpg  \n",
            " extracting: train/log14_2_49_png.rf.e82c918153c00375b077e1abe65fe100.jpg  \n",
            " extracting: train/log14_2_4_png.rf.d04538539277c4fe82ab165c3b12f83c.jpg  \n",
            " extracting: train/log14_2_54_png.rf.4b5d47f41d1f5800f19df198e7b71e88.jpg  \n",
            " extracting: train/log14_2_59_png.rf.1b126cd9a927c3c4368ffaffee7b23ce.jpg  \n",
            " extracting: train/log14_2_64_png.rf.5ca58244704c1bb7ca6fa5a88b98f186.jpg  \n",
            " extracting: train/log14_2_9_png.rf.83e38cfd0541df772ff596bc0a41acf0.jpg  \n",
            " extracting: train/log14_3_14_png.rf.416d5ca7ab27057240e0ae2013db3e7f.jpg  \n",
            " extracting: train/log14_3_19_png.rf.9bca5f2d8d8448680e7d035ee1fbefd7.jpg  \n",
            " extracting: train/log14_3_64_png.rf.0dfd4986de7d254c783693c7037bb671.jpg  \n",
            " extracting: train/log14_4_14_png.rf.7a81e495831fc45877c2ef8993eae7f4.jpg  \n",
            " extracting: train/log14_4_14_png.rf.a5f2134ec297cf9eec64ca28c34fac69.jpg  \n",
            " extracting: train/log14_4_19_png.rf.0f731d5f2fd5eb75be62be64bd242a64.jpg  \n",
            " extracting: train/log14_4_19_png.rf.e9bf72b9c2e5a47c2f839580b4ac54d6.jpg  \n",
            " extracting: train/log14_4_49_png.rf.03c6ba214369fe4867c621b47e0a0176.jpg  \n",
            " extracting: train/log14_4_49_png.rf.5afc2a0301d601d3a17815a35f9b1934.jpg  \n",
            " extracting: train/log14_4_54_png.rf.4685ff9c8fbca5b55cf17a0cbb0180c1.jpg  \n",
            " extracting: train/log14_4_54_png.rf.b18719e2d9bc4ff0c98ffcbe554a190c.jpg  \n",
            " extracting: train/log14_4_59_png.rf.b53ea04152b1940a4998f7ae94764e04.jpg  \n",
            " extracting: train/log14_4_64_png.rf.b42f0a9b555b64c1324dc751beab2671.jpg  \n",
            " extracting: train/log14_4_9_png.rf.1e8d07d8556a1401de9f471581edd473.jpg  \n",
            " extracting: train/log15_0_14_png.rf.4880ed216c076eddc3e7069eb01dca8c.jpg  \n",
            " extracting: train/log15_0_14_png.rf.91a1b2085b6b6eba47cce633d4e5f598.jpg  \n",
            " extracting: train/log15_0_19_png.rf.25f3094b8f34fb8b78cbd34c7d1d34a1.jpg  \n",
            " extracting: train/log15_0_19_png.rf.7961567c5795e1ec5b4624a46dedfdca.jpg  \n",
            " extracting: train/log15_0_24_png.rf.2a2973338e585d2c78ece5940c7e4f4d.jpg  \n",
            " extracting: train/log15_0_24_png.rf.f67c794c8e65a6332e19f9403742fb14.jpg  \n",
            " extracting: train/log15_0_29_png.rf.57cb1c7938340878dd41f1cf2dc13c75.jpg  \n",
            " extracting: train/log15_0_29_png.rf.aadef4547f46eeaafae52fed0d148597.jpg  \n",
            " extracting: train/log15_0_34_png.rf.9d8f2f1f5d339009dbb7afe3a0d218c2.jpg  \n",
            " extracting: train/log15_0_34_png.rf.c1619f9e1a4382f80f523013f5da91b8.jpg  \n",
            " extracting: train/log15_0_39_png.rf.03563f1f0199d49b842fc9bc39421f04.jpg  \n",
            " extracting: train/log15_0_39_png.rf.32509d2ed83ab95419bccf20896e5bda.jpg  \n",
            " extracting: train/log15_0_44_png.rf.5e8d0a3cb1a4da1e8924411098ba0255.jpg  \n",
            " extracting: train/log15_0_44_png.rf.86ad4fdd395f3a495a13aa01160508fc.jpg  \n",
            " extracting: train/log15_0_49_png.rf.a7ac656536b67d6aa5f55f86086cc752.jpg  \n",
            " extracting: train/log15_0_49_png.rf.cd9743c9fde0d5479c2b9819eabb75a3.jpg  \n",
            " extracting: train/log15_0_4_png.rf.5dcc050ead2f8bfa8c9d68a712f37acf.jpg  \n",
            " extracting: train/log15_0_4_png.rf.634db1d18d7c49909c57bbb1efd8c18c.jpg  \n",
            " extracting: train/log15_0_54_png.rf.2d9ac082764b2e3785712fa955b58922.jpg  \n",
            " extracting: train/log15_0_54_png.rf.dc9b571e01e7828a5a6b5cfd7974b89e.jpg  \n",
            " extracting: train/log15_0_59_png.rf.c075a219238ad98c113dbca1d086c34e.jpg  \n",
            " extracting: train/log15_0_59_png.rf.d74fc6d33abd68f40fc863afe5d15aa1.jpg  \n",
            " extracting: train/log15_0_64_png.rf.426ad3375525f48320b81c2b54df9e23.jpg  \n",
            " extracting: train/log15_0_64_png.rf.5d1c72800818df274b2c9a47d25ccf00.jpg  \n",
            " extracting: train/log15_0_9_png.rf.3fe9df745d8739eec531c530f4c488f9.jpg  \n",
            " extracting: train/log15_0_9_png.rf.e9f289ed888165c4af5b88d1b235bf71.jpg  \n",
            " extracting: train/log15_1_14_png.rf.8fc9577ce6c6d5e8796abf958b33736d.jpg  \n",
            " extracting: train/log15_1_14_png.rf.b97c5b6343dcdf52582ada0d292e248d.jpg  \n",
            " extracting: train/log15_1_19_png.rf.09adb5e84eba180e20ee2f9b8df4ab2d.jpg  \n",
            " extracting: train/log15_1_19_png.rf.6d703852317d5fb548be922574cbc0f0.jpg  \n",
            " extracting: train/log15_1_24_png.rf.c60446ea7c9a69ddc093ba1582b7e3bd.jpg  \n",
            " extracting: train/log15_1_24_png.rf.fff8e6cdddcc850c5f27d3b456e797e4.jpg  \n",
            " extracting: train/log15_1_29_png.rf.137dd3b47271fe5ae9f59accba7368cf.jpg  \n",
            " extracting: train/log15_1_29_png.rf.b61429dda2824a9a99bbf8f4a5e96e89.jpg  \n",
            " extracting: train/log15_1_34_png.rf.819b9ee1c8667984ea8a1fd73dab814c.jpg  \n",
            " extracting: train/log15_1_34_png.rf.946f71653fc4d3b8fb0437c9013ae698.jpg  \n",
            " extracting: train/log15_1_39_png.rf.57cc2ecbe32bbc35769819339e430097.jpg  \n",
            " extracting: train/log15_1_39_png.rf.80f2bcab2b904a504e2e9c19810055f3.jpg  \n",
            " extracting: train/log15_1_44_png.rf.6d04b0c02a3a489f1539009de79276c8.jpg  \n",
            " extracting: train/log15_1_44_png.rf.fdd7716fdd555a5390a1ae346978dc89.jpg  \n",
            " extracting: train/log15_1_49_png.rf.2bd35bdba6acca7e375835793de53a88.jpg  \n",
            " extracting: train/log15_1_49_png.rf.7b1e7e7b17c1e1752e6832a9cef908c0.jpg  \n",
            " extracting: train/log15_1_4_png.rf.292c370ce961f287a4a90774db012cdb.jpg  \n",
            " extracting: train/log15_1_4_png.rf.d39de9551dae526157d9695c8c0b5bde.jpg  \n",
            " extracting: train/log15_1_54_png.rf.3570b54f7be907b66a329fe0091df31d.jpg  \n",
            " extracting: train/log15_1_54_png.rf.e43f201ceca511cfd2e90426852db8ec.jpg  \n",
            " extracting: train/log15_1_59_png.rf.25628793f17875c370b194151cae1e8c.jpg  \n",
            " extracting: train/log15_1_59_png.rf.bcc366440617014c51b064ae825f35ad.jpg  \n",
            " extracting: train/log15_1_64_png.rf.20e841c14909fee4a1c3f8a6798bf6cd.jpg  \n",
            " extracting: train/log15_1_64_png.rf.eece5b1dad31287b4706d7ca444097b8.jpg  \n",
            " extracting: train/log15_1_9_png.rf.43a8ec49d91b9e31c86de3838d6a4071.jpg  \n",
            " extracting: train/log15_1_9_png.rf.d2e84740ec980f610badd414f400068e.jpg  \n",
            " extracting: train/log15_2_14_png.rf.27c9cdc9a213b39fad55dccd5891ac53.jpg  \n",
            " extracting: train/log15_2_14_png.rf.7bc80bc204319c55edab83c6b6b60b03.jpg  \n",
            " extracting: train/log15_2_19_png.rf.1ef3e3dcebad0a4fa594828136cf0fc3.jpg  \n",
            " extracting: train/log15_2_19_png.rf.95a101fbeedef8f858b1f647a4b05509.jpg  \n",
            " extracting: train/log15_2_24_png.rf.60f02ae9fcc45d2ee02a6a43b1f97c68.jpg  \n",
            " extracting: train/log15_2_24_png.rf.7c2e48a5b6a154bd65ed6e18fde54750.jpg  \n",
            " extracting: train/log15_2_29_png.rf.02bf35c893e412921f7dd974075d13d8.jpg  \n",
            " extracting: train/log15_2_34_png.rf.6c2e5a3257680224d21ab56d5d9e6659.jpg  \n",
            " extracting: train/log15_2_39_png.rf.7776b94bff100fe37bad381a639e88c3.jpg  \n",
            " extracting: train/log15_2_39_png.rf.b8c966db099026b990edd899cac7db66.jpg  \n",
            " extracting: train/log15_2_44_png.rf.49da7ebb2e2958259169c98ed5764ce0.jpg  \n",
            " extracting: train/log15_2_49_png.rf.0a46cb43e3ce88b6640682c2017befbe.jpg  \n",
            " extracting: train/log15_2_49_png.rf.b6e5bf88e6ee3db2f1ea012d65b6c12b.jpg  \n",
            " extracting: train/log15_2_4_png.rf.5475d0b09034e113c47d2fa0fed8ee96.jpg  \n",
            " extracting: train/log15_2_4_png.rf.91e5222300f3b46e5de7bc9d8d504a82.jpg  \n",
            " extracting: train/log15_2_54_png.rf.23b55a49d035c195584be8d86838de41.jpg  \n",
            " extracting: train/log15_2_54_png.rf.e1848d88c225dc49b39834fc568c4908.jpg  \n",
            " extracting: train/log15_2_59_png.rf.c81b0e352e45766c526db6cfcccce473.jpg  \n",
            " extracting: train/log15_2_64_png.rf.481ca48b9c263a294a7f2a0166daa473.jpg  \n",
            " extracting: train/log15_2_64_png.rf.a3c770d19ebb421f5419e27eb2370361.jpg  \n",
            " extracting: train/log15_2_9_png.rf.1d53ac3d1284344548b5084d39c2d4a2.jpg  \n",
            " extracting: train/log15_2_9_png.rf.ab72dbbccc149f0c99b418331651b9aa.jpg  \n",
            " extracting: train/log15_3_14_png.rf.6cba831f5884cfe1e651641f9fc660a6.jpg  \n",
            " extracting: train/log15_3_14_png.rf.cf593d47e7be53285178013807736f29.jpg  \n",
            " extracting: train/log15_3_19_png.rf.90d8d5091f1c9c1e24b1086138506376.jpg  \n",
            " extracting: train/log15_3_19_png.rf.d1a114cc10d46c5b4ec21ef4232dc077.jpg  \n",
            " extracting: train/log15_3_24_png.rf.638ab75dd7f5f202283051d86e869f61.jpg  \n",
            " extracting: train/log15_3_24_png.rf.d1dda9dc678d58d20ca5ca95d0105f6d.jpg  \n",
            " extracting: train/log15_3_29_png.rf.215390933ac5d4a22c46742b2ec6eae0.jpg  \n",
            " extracting: train/log15_3_34_png.rf.79b478114bd4b1ba88fd6e352406a44f.jpg  \n",
            " extracting: train/log15_3_39_png.rf.820cbf4226321d20989b867f2d60bdc2.jpg  \n",
            " extracting: train/log15_3_39_png.rf.85bba472a83045bef43b28f685fa0c3e.jpg  \n",
            " extracting: train/log2_0_14_png.rf.ae9bf547fe59704d7bdcbcecaee18af4.jpg  \n",
            " extracting: train/log2_0_14_png.rf.e1ca95bc7eae4fbc24c558adcd8d5661.jpg  \n",
            " extracting: train/log2_0_19_png.rf.a7851c207271bf13f2516f461c422961.jpg  \n",
            " extracting: train/log2_0_19_png.rf.e54ef0fa6dc8a2d3ec7717f75a42a24a.jpg  \n",
            " extracting: train/log2_0_24_png.rf.499a166052d70a5a8c6c323aab67d0b4.jpg  \n",
            " extracting: train/log2_0_24_png.rf.674503f2fca33203905bee5f31b6447e.jpg  \n",
            " extracting: train/log2_0_29_png.rf.9e6e36ac9192e539dd89f592ab544fbc.jpg  \n",
            " extracting: train/log2_0_29_png.rf.c34383064f5af0768517184a2ca6853f.jpg  \n",
            " extracting: train/log2_0_34_png.rf.37b966ca310217bdcb602ee233d16a71.jpg  \n",
            " extracting: train/log2_0_34_png.rf.d83b5808c1f60b813ba68a5df85d02e0.jpg  \n",
            " extracting: train/log2_0_39_png.rf.0c472e0880a2e4e8c7499c40438dbf10.jpg  \n",
            " extracting: train/log2_0_39_png.rf.98a287ed4e0c1ead37235e3b159154ee.jpg  \n",
            " extracting: train/log2_0_44_png.rf.072aaaeae80ecf0aa7c8d78094eba993.jpg  \n",
            " extracting: train/log2_0_44_png.rf.714f0e5cee8cadd59c776338bfdb5c0f.jpg  \n",
            " extracting: train/log2_0_49_png.rf.05bdae07cac8f0b3b3072092247c7470.jpg  \n",
            " extracting: train/log2_0_49_png.rf.bce0ebda1f5c5fcdc3e766cc087d73c9.jpg  \n",
            " extracting: train/log2_0_4_png.rf.703ee86778a05dc5a4a193063d957175.jpg  \n",
            " extracting: train/log2_0_4_png.rf.75216cf5a28beab273f60833db8ed3e4.jpg  \n",
            " extracting: train/log2_0_54_png.rf.171c13995e5e2befc080a027b1d4ddcb.jpg  \n",
            " extracting: train/log2_0_54_png.rf.b773dbb3577590dd9b88245a577d4dd4.jpg  \n",
            " extracting: train/log2_0_59_png.rf.47ca41f2a5c35cabd7a9b8557a940a94.jpg  \n",
            " extracting: train/log2_0_59_png.rf.ce5221105e3003280787cc918110c678.jpg  \n",
            " extracting: train/log2_0_64_png.rf.164802caec6eca565a19715b1573d0ef.jpg  \n",
            " extracting: train/log2_0_64_png.rf.4c171c74e7b4c0ad54a10790d7a56911.jpg  \n",
            " extracting: train/log2_0_9_png.rf.074097496143e6cc21031caee754dc25.jpg  \n",
            " extracting: train/log2_0_9_png.rf.8b45e8b25ab28558afc25eb1add0104b.jpg  \n",
            " extracting: train/log2_1_14_png.rf.066d5feb1b2c486d7534b43c157a0df2.jpg  \n",
            " extracting: train/log2_1_14_png.rf.e4d0a1898a3cf702b59147482c5005ed.jpg  \n",
            " extracting: train/log2_1_19_png.rf.0ef9e50b4fa5a347c626c401053ab778.jpg  \n",
            " extracting: train/log2_1_19_png.rf.cabf097a816e7c63b2db9055fe26f9e9.jpg  \n",
            " extracting: train/log2_1_24_png.rf.2dea4eb36074d4f829a7f2a737bae48d.jpg  \n",
            " extracting: train/log2_1_24_png.rf.526e155624d3a5e2494cd4de3a1f4ce1.jpg  \n",
            " extracting: train/log2_1_29_png.rf.2de36bb08569383c2b6e27735ec602aa.jpg  \n",
            " extracting: train/log2_1_29_png.rf.3e062887f6eb6a281dea00ab683e6571.jpg  \n",
            " extracting: train/log2_1_34_png.rf.25d9ca08d567f59a1595b1aec6139ddb.jpg  \n",
            " extracting: train/log2_1_34_png.rf.78255ccf802246bac22372a18b09656f.jpg  \n",
            " extracting: train/log2_1_39_png.rf.bb0a2f66a9dadedc24f14dcc70aae183.jpg  \n",
            " extracting: train/log2_1_39_png.rf.e3ea3648cae78e5efec0358515e0bc33.jpg  \n",
            " extracting: train/log2_1_44_png.rf.9aef95633ffb9de0a64daba0a6cdf5b6.jpg  \n",
            " extracting: train/log2_1_49_png.rf.2ef11778bd120d499b4a480bfdb4fbb0.jpg  \n",
            " extracting: train/log2_1_4_png.rf.3650bbda193c7634a7a1a2deacf73057.jpg  \n",
            " extracting: train/log2_1_4_png.rf.e3c7a749703a61a6c63c0d8e5407840d.jpg  \n",
            " extracting: train/log2_1_54_png.rf.1b1e32b2430dd16c7094861e8e17e730.jpg  \n",
            " extracting: train/log2_1_54_png.rf.ce0637a21ab4c0f6b6e9b6f60280e2e1.jpg  \n",
            " extracting: train/log2_1_59_png.rf.430b12e815ae677de9069bbd901124d8.jpg  \n",
            " extracting: train/log2_1_64_png.rf.f7ca80b512f919ce5b7aa9e34e64af1a.jpg  \n",
            " extracting: train/log2_1_9_png.rf.f06b318054598c75f1498935d122438f.jpg  \n",
            " extracting: train/log2_2_14_png.rf.5df52b854305d5cfb6b150a992f96d37.jpg  \n",
            " extracting: train/log2_2_19_png.rf.ab43a0132d9f7b530542e55954af5c8e.jpg  \n",
            " extracting: train/log2_2_19_png.rf.fd7ebd53da9a394855a8d2e96c388b7f.jpg  \n",
            " extracting: train/log2_2_24_png.rf.6e4e4e81c22d878898298a2ba576b50e.jpg  \n",
            " extracting: train/log2_2_29_png.rf.8e1eb7bb53c7b6c9d597952c2d9fb64b.jpg  \n",
            " extracting: train/log2_2_29_png.rf.f750b3be819c6e2453436aafef5a03cb.jpg  \n",
            " extracting: train/log2_2_34_png.rf.148a11039b7b4871ecc6a52b882500c0.jpg  \n",
            " extracting: train/log2_2_39_png.rf.5153b9fc943ebade5449245bb4234c81.jpg  \n",
            " extracting: train/log2_2_39_png.rf.86e6bb29d827ee564021b1da8e8fb1eb.jpg  \n",
            " extracting: train/log2_2_44_png.rf.2e472b89d6fc2df21c76ad4f23cadd11.jpg  \n",
            " extracting: train/log2_2_44_png.rf.404e7fa457da57d2af83d34312e747bc.jpg  \n",
            " extracting: train/log2_2_49_png.rf.a45642778641b15a9f1cb4102a530549.jpg  \n",
            " extracting: train/log2_2_4_png.rf.aa232150d7e6a9f2f2615451953b5831.jpg  \n",
            " extracting: train/log2_2_54_png.rf.d9de1abe8a996210135e772f60a30f2f.jpg  \n",
            " extracting: train/log2_2_59_png.rf.5224137142638b7cc3000b91d53146fd.jpg  \n",
            " extracting: train/log2_2_64_png.rf.8f47408ad3ffbfd876f1c904d98b6ade.jpg  \n",
            " extracting: train/log2_2_9_png.rf.8dba7f08d5d167c17a0cd7a52ed536b3.jpg  \n",
            " extracting: train/log2_3_14_png.rf.6f0ff551bf2aeea797c238e671445d70.jpg  \n",
            " extracting: train/log2_3_19_png.rf.396dd1f0ec8aeb6f25b48de6b5bd6d91.jpg  \n",
            " extracting: train/log2_3_24_png.rf.9f714c5c6bcfe1f8aaaf624c822ab1e2.jpg  \n",
            " extracting: train/log2_3_29_png.rf.730188f22bb7d7314d88473ea64d94ab.jpg  \n",
            " extracting: train/log2_3_34_png.rf.38175b07ba5c9e28be1ed6ff9d05a837.jpg  \n",
            " extracting: train/log2_3_39_png.rf.4c64a5a1e227ffe668a854c5ef4dfadc.jpg  \n",
            " extracting: train/log2_3_44_png.rf.d52d4a6ec62f518d5a00750eb45e03cf.jpg  \n",
            " extracting: train/log2_3_49_png.rf.f95bd6bcd84fbd5aec1af250a4d1cd57.jpg  \n",
            " extracting: train/log2_3_4_png.rf.3c97481baef723a994ed574a4a4e43c0.jpg  \n",
            " extracting: train/log2_3_54_png.rf.1b6bd3221c2d1e352b26b68860da6bfd.jpg  \n",
            " extracting: train/log2_3_59_png.rf.044619ce9ff62eeeb50acd94c7fb3d23.jpg  \n",
            " extracting: train/log2_3_64_png.rf.bf0c993bc23747d9881f1fd7e1202474.jpg  \n",
            " extracting: train/log2_3_9_png.rf.0e67aa3e8cd76db05a0f7898421361e8.jpg  \n",
            " extracting: train/log2_4_14_png.rf.75145f701967e87ffb0ffc83ee5cf457.jpg  \n",
            " extracting: train/log2_4_19_png.rf.b88ec0bcc9afc282f9a29fb98f3e9509.jpg  \n",
            " extracting: train/log2_4_24_png.rf.f561658bc1714305fbf2d39883cdb10e.jpg  \n",
            " extracting: train/log2_4_29_png.rf.7316109a51eb4ff6aa4f6d0bc8960ef3.jpg  \n",
            " extracting: train/log2_4_34_png.rf.1c5e911b817a0cc2e31455e8b34eac25.jpg  \n",
            " extracting: train/log2_4_39_png.rf.892652a579ab141da5accd490a32d433.jpg  \n",
            " extracting: train/log2_4_44_png.rf.171b4694530294523b241aa494b0d533.jpg  \n",
            " extracting: train/log2_4_49_png.rf.f2a2457f9dfeb538cdc303b6aa59654d.jpg  \n",
            " extracting: train/log2_4_4_png.rf.7be40a038ba64fbbed32d3abd43dbc9f.jpg  \n",
            " extracting: train/log2_4_54_png.rf.c1152cbb6e605fe19528a8408172a951.jpg  \n",
            " extracting: train/log2_4_59_png.rf.5e7fe920ed42289fb4b77c2a7748a9ce.jpg  \n",
            " extracting: train/log2_4_64_png.rf.a50962a0d44a16c1fdf9dd9659318578.jpg  \n",
            " extracting: train/log2_4_9_png.rf.617b9070d3bc8a3174b2b3f823aa2dea.jpg  \n",
            " extracting: train/log3_0_14_png.rf.1c0f311e58ae4762625a8c0ddd7c7ba5.jpg  \n",
            " extracting: train/log3_0_19_png.rf.a5da8b0b8230d51825cbb3eb01ebb691.jpg  \n",
            " extracting: train/log3_0_24_png.rf.9fcc9d5655edd7a953aaa74ccdbaeafd.jpg  \n",
            " extracting: train/log3_0_29_png.rf.643dc9dfb92a279bfd6e6e824b12fc8c.jpg  \n",
            " extracting: train/log3_0_34_png.rf.712da27bec242e0624e4a0b9fe233294.jpg  \n",
            " extracting: train/log3_0_39_png.rf.153861ff5cebc161bbfe199c02020752.jpg  \n",
            " extracting: train/log3_0_44_png.rf.0a8190a0cce2255cedef1946e5383c72.jpg  \n",
            " extracting: train/log3_0_49_png.rf.ca86de203b6d11bfe98ea1eec514e43b.jpg  \n",
            " extracting: train/log3_0_4_png.rf.e18e9a411118d06fdb8ec4558dd787e8.jpg  \n",
            " extracting: train/log3_0_54_png.rf.ca25e29143b00f8738a3f2be93302048.jpg  \n",
            " extracting: train/log3_0_59_png.rf.23d062691ef20358ceb28f22a838004c.jpg  \n",
            " extracting: train/log3_0_64_png.rf.fb8f871c069a35c899132c4df794a02b.jpg  \n",
            " extracting: train/log3_0_9_png.rf.d221c185ae1f53b9407a1c07f0cdcdbc.jpg  \n",
            " extracting: train/log3_1_14_png.rf.325b0a46efa3811a74b6e1018bce777d.jpg  \n",
            " extracting: train/log3_1_19_png.rf.c7b23dc504057a98f049d96433345969.jpg  \n",
            " extracting: train/log3_1_24_png.rf.b907c820f67b7a3fbe2a582494dc73d7.jpg  \n",
            " extracting: train/log3_1_29_png.rf.fe568c908d6d4049c2678d86ce558af2.jpg  \n",
            " extracting: train/log3_1_34_png.rf.10599e062e5686d2a4d501412d2391a2.jpg  \n",
            " extracting: train/log3_1_39_png.rf.8fed7094a3f500a4b702971ac249ec91.jpg  \n",
            " extracting: train/log3_1_44_png.rf.3ad1e45771821fae0660850bd8416039.jpg  \n",
            " extracting: train/log3_1_49_png.rf.13d08216c747b3dd6e03bb737bf715a4.jpg  \n",
            " extracting: train/log3_1_4_png.rf.32a02e868b5e82cfc48c0645bbcf8782.jpg  \n",
            " extracting: train/log3_1_54_png.rf.19a94af4fa1864aa6eab1ae654888cdc.jpg  \n",
            " extracting: train/log3_1_59_png.rf.891fa7db806e32ab8f88446912fe0857.jpg  \n",
            " extracting: train/log3_1_64_png.rf.10b13848ebb92afc75f6d92663b014cd.jpg  \n",
            " extracting: train/log3_1_9_png.rf.d929ef2dde4c299f27b17bf10880d218.jpg  \n",
            " extracting: train/log3_2_14_png.rf.ba8b5b057324df173c4a4ac021bf3ec1.jpg  \n",
            " extracting: train/log3_2_19_png.rf.2db6961f4e068c9d30235e30c986da05.jpg  \n",
            " extracting: train/log3_2_24_png.rf.55be294c867c0afbb0a5094881e48743.jpg  \n",
            " extracting: train/log3_2_29_png.rf.3e4492e4a192813ce61d8088489214d4.jpg  \n",
            " extracting: train/log3_2_34_png.rf.faa9680feefb4ee8898d86409c5cecd6.jpg  \n",
            " extracting: train/log3_2_39_png.rf.2ff6737186c8101a65394a6726bcbc7c.jpg  \n",
            " extracting: train/log3_2_44_png.rf.b57d4b5b91ef5030abd418afa42a19e5.jpg  \n",
            " extracting: train/log3_2_49_png.rf.f74c50b96baeadc9df96d8a32d02c317.jpg  \n",
            " extracting: train/log3_2_4_png.rf.e63caa43f09c3ec734440be412e0edd1.jpg  \n",
            " extracting: train/log3_2_54_png.rf.b38b5ccd92c04ce16478c84321ec23c8.jpg  \n",
            " extracting: train/log3_2_59_png.rf.03497af3b789ef58dd5cd6aa99496442.jpg  \n",
            " extracting: train/log3_2_64_png.rf.ea5b4019af2eb7607b87ca4bf24e54ff.jpg  \n",
            " extracting: train/log3_2_9_png.rf.69a32de67ca00c927158b65c9327c523.jpg  \n",
            " extracting: train/log3_3_14_png.rf.c1d11968ac901a21ec4877b901c3fe73.jpg  \n",
            " extracting: train/log3_3_19_png.rf.29c5bebedd13abe20c6023a58090a08f.jpg  \n",
            " extracting: train/log3_3_24_png.rf.d8e98605300c462064233bd63f730493.jpg  \n",
            " extracting: train/log3_3_29_png.rf.0a2b5fe544eb505a6e339eb010622842.jpg  \n",
            " extracting: train/log3_3_34_png.rf.c33b7b3e7ef6469aed42cfa52a5bc11c.jpg  \n",
            " extracting: train/log3_3_39_png.rf.0c654c0d753f21195fd0d10b7171747e.jpg  \n",
            " extracting: train/log3_3_4_png.rf.729d9a1a2ec58f2da18d6fe762f2f9ff.jpg  \n",
            " extracting: train/log3_3_9_png.rf.f7de718e6a4952353b93d34a0e353541.jpg  \n",
            " extracting: train/log3_4_14_png.rf.9706b9a2119bfc5ae501832f15e625a7.jpg  \n",
            " extracting: train/log3_4_19_png.rf.dd298d66a82de990a876e34502ade02c.jpg  \n",
            " extracting: train/log3_4_24_png.rf.f7aa65a4324161372282773d8b23db27.jpg  \n",
            " extracting: train/log3_4_49_png.rf.ca478bf17ef50f47df02e7294a592e3b.jpg  \n",
            " extracting: train/log3_4_54_png.rf.1c3108cb629ae93609d90bd4520f5975.jpg  \n",
            " extracting: train/log3_4_59_png.rf.dbdfb3b727055a9a9c7dd86833a78833.jpg  \n",
            " extracting: train/log3_4_64_png.rf.e051f96f8e7005f5c7c7f1d0fa6ebbde.jpg  \n",
            " extracting: train/log3_4_9_png.rf.4b57014a644813c10c851748a54b3abb.jpg  \n",
            " extracting: train/log4_0_14_png.rf.e1d9ebf9233e4eb5a5fb009919714505.jpg  \n",
            " extracting: train/log4_0_19_png.rf.0928da57609ae3e4393f2619d386b2ed.jpg  \n",
            " extracting: train/log4_0_24_png.rf.3b11768d562c558093aaad72303da355.jpg  \n",
            " extracting: train/log4_0_29_png.rf.74559bf347e685b18e5dc25f4c64e3b6.jpg  \n",
            " extracting: train/log4_0_34_png.rf.93a6ed33910431e411847351bb5c2334.jpg  \n",
            " extracting: train/log4_0_39_png.rf.99a4e7ac09297aebd2a6eb100d03c4e8.jpg  \n",
            " extracting: train/log4_0_44_png.rf.71bcdfb4da1e73ed61cffbef4251a6ed.jpg  \n",
            " extracting: train/log4_0_49_png.rf.1c805e58baa71a52b88c8acc2b1932ec.jpg  \n",
            " extracting: train/log4_0_4_png.rf.e932b5572a2114a9efca56a695584fb8.jpg  \n",
            " extracting: train/log4_0_54_png.rf.070165df09d0569520bf05bb15f92df4.jpg  \n",
            " extracting: train/log4_0_59_png.rf.ff34ba80078f3605629fe2b3b3507701.jpg  \n",
            " extracting: train/log4_0_64_png.rf.7ac751ba72ae7dae1f43b74e5df1e5c6.jpg  \n",
            " extracting: train/log4_0_9_png.rf.e2fa5b18bc0ea607c8de6173c85b29a6.jpg  \n",
            " extracting: train/log4_1_14_png.rf.c77829fd11711d262efc9ad3d84b447f.jpg  \n",
            " extracting: train/log4_1_19_png.rf.7ad925ba44c2a83db378ec15437aff8f.jpg  \n",
            " extracting: train/log4_1_24_png.rf.1c2dca67b01793b43289dc2fc4faed86.jpg  \n",
            " extracting: train/log4_1_29_png.rf.aa5fe63b7b11097e2768f43114816878.jpg  \n",
            " extracting: train/log4_1_34_png.rf.4810ae792fd085509679cb0c49c4beeb.jpg  \n",
            " extracting: train/log4_1_39_png.rf.104833711c2e981d3aa29592a4632329.jpg  \n",
            " extracting: train/log4_1_44_png.rf.b82fdc7f597c0a47d7a9d8128966f30b.jpg  \n",
            " extracting: train/log4_1_49_png.rf.c21619c4352da7cf234626bf9eb782f7.jpg  \n",
            " extracting: train/log4_1_4_png.rf.fd9e3a1c14fb03870328dde611e1cb27.jpg  \n",
            " extracting: train/log4_1_54_png.rf.9256d6875ba3589e571025baff6a35da.jpg  \n",
            " extracting: train/log4_1_59_png.rf.1e1322d7252139ca51fccc654670ee0a.jpg  \n",
            " extracting: train/log4_1_64_png.rf.0070ca699cae690a1ec08a4862688c75.jpg  \n",
            " extracting: train/log4_1_9_png.rf.1a662f547d7f955ef6b7a1a17b3b2b03.jpg  \n",
            " extracting: train/log4_2_14_png.rf.bfd8ad3305350ada248063ed315d6720.jpg  \n",
            " extracting: train/log4_2_19_png.rf.132d31cc9e224f9c2fef79bf2f8240da.jpg  \n",
            " extracting: train/log4_2_24_png.rf.9bbf421af29ba6a7c6e43cd8576bdc43.jpg  \n",
            " extracting: train/log4_2_29_png.rf.be9335f8c4bf049da61856110dc66f78.jpg  \n",
            " extracting: train/log4_2_34_png.rf.a501a23608453c9e3b34115d81f917e8.jpg  \n",
            " extracting: train/log4_2_39_png.rf.68c798a9a628a3a15fab1147fcb681ff.jpg  \n",
            " extracting: train/log4_2_44_png.rf.0e125664f0402501f0e40fee13d6f4c3.jpg  \n",
            " extracting: train/log4_2_49_png.rf.ffbd6d5b7d64e61830786f75e395c86a.jpg  \n",
            " extracting: train/log4_2_4_png.rf.8a86a83a6cf11b7edde0d2ff22f2836c.jpg  \n",
            " extracting: train/log4_2_54_png.rf.a1b03531aca38e9d8bce201cf04892d4.jpg  \n",
            " extracting: train/log4_2_59_png.rf.ed7e979dc4303f862d6bd94902545d1d.jpg  \n",
            " extracting: train/log4_2_64_png.rf.88cf629345d6b2db7249313d80b41d04.jpg  \n",
            " extracting: train/log4_2_9_png.rf.f4c47eeb1f2ee5068bb52fb3028b3935.jpg  \n",
            " extracting: train/log4_3_14_png.rf.934a34b55f17bfaa6e9d641885a529f3.jpg  \n",
            " extracting: train/log4_3_19_png.rf.64bc9293d16198c94ba0a09d2ddd60f4.jpg  \n",
            " extracting: train/log4_3_24_png.rf.e4c6e37841e1d035d85bda8776ec739e.jpg  \n",
            " extracting: train/log4_3_44_png.rf.8a471252dd634426b149d81ad8668e94.jpg  \n",
            " extracting: train/log4_3_49_png.rf.d4caca842a4aa897af8727934e9e4ffd.jpg  \n",
            " extracting: train/log4_3_4_png.rf.e59fcc64f8d0604d032677b62e807764.jpg  \n",
            " extracting: train/log4_3_54_png.rf.91d033831b6e1cf55db5d6ada36eca19.jpg  \n",
            " extracting: train/log4_3_59_png.rf.64b056aa20f3134526dc0216ffd913af.jpg  \n",
            " extracting: train/log4_3_64_png.rf.9aeb279605a5a68a331d517be3f0df76.jpg  \n",
            " extracting: train/log4_3_9_png.rf.515427db32d2e7b185beb5a2b5ac0fc4.jpg  \n",
            " extracting: train/log4_4_14_png.rf.87aefedbe7725c4922fd547503cd51a2.jpg  \n",
            " extracting: train/log4_4_19_png.rf.4d0995175a218a2eddd4970f2be215c6.jpg  \n",
            " extracting: train/log4_4_24_png.rf.cb0832d726c3219133526cc7fde28b8d.jpg  \n",
            " extracting: train/log4_4_29_png.rf.58758a4962671b1f9d539c5f1f291777.jpg  \n",
            " extracting: train/log4_4_34_png.rf.049b6acbb9830aa638c67aa742244568.jpg  \n",
            " extracting: train/log4_4_39_png.rf.36c94bcd6377995d4a73b7be1c0e6147.jpg  \n",
            " extracting: train/log4_4_44_png.rf.44309172d6006830fe62f438e28ef48f.jpg  \n",
            " extracting: train/log4_4_49_png.rf.b96205d28ed9afa0b2efbdf9c03fa293.jpg  \n",
            " extracting: train/log4_4_4_png.rf.c855c2db2c54a93f548a4905a6d9e2d3.jpg  \n",
            " extracting: train/log4_4_54_png.rf.3119b305e75647157c979d783366eeeb.jpg  \n",
            " extracting: train/log4_4_59_png.rf.6c4b5baaac005d63def4d63a44579f11.jpg  \n",
            " extracting: train/log4_4_64_png.rf.2ef11a1036a4b78d67704b567ca4bf3f.jpg  \n",
            " extracting: train/log4_4_9_png.rf.b4899d781cadd19bcc4e93dd8e91e24e.jpg  \n",
            " extracting: train/log5_0_14_png.rf.ce9f1e70cb06bcd4faac377ff753428c.jpg  \n",
            " extracting: train/log5_0_19_png.rf.8451576c2b70c1883570f5f6132a9887.jpg  \n",
            " extracting: train/log5_0_24_png.rf.efba6ee64ecfa83fa4e804a0b3abca68.jpg  \n",
            " extracting: train/log5_0_29_png.rf.0ad3a40732950f660eadd482c632aba8.jpg  \n",
            " extracting: train/log5_0_34_png.rf.6dd19a76bfdb1a61733bb4b837ba510f.jpg  \n",
            " extracting: train/log5_0_39_png.rf.692c54b8e7c510140c2d84cd6de2d4b2.jpg  \n",
            " extracting: train/log5_0_44_png.rf.c9afd170bf87b1884d13f249d8d70025.jpg  \n",
            " extracting: train/log5_0_49_png.rf.4937dd1e4a315842931c4c05ed22d4d5.jpg  \n",
            " extracting: train/log5_0_4_png.rf.1b269538c6c37557069ce89b01873e55.jpg  \n",
            " extracting: train/log5_0_54_png.rf.073d70c686342454a2c08222156cb846.jpg  \n",
            " extracting: train/log5_0_59_png.rf.4e6a78ccd24c9c49ff29992e963df6bd.jpg  \n",
            " extracting: train/log5_0_64_png.rf.e916a9f4efeae89c893ae80f9f5beeac.jpg  \n",
            " extracting: train/log5_0_9_png.rf.ad16fecb8ea3fd7aed59dfb57a40ee38.jpg  \n",
            " extracting: train/log5_1_14_png.rf.5c2e053f68d69e817a3e325b926ea2c5.jpg  \n",
            " extracting: train/log5_1_19_png.rf.2f49e79dbf7dfe167513db6756427165.jpg  \n",
            " extracting: train/log5_1_24_png.rf.84c164a396844f1d43a685d57fa2c365.jpg  \n",
            " extracting: train/log5_1_29_png.rf.0b36adb5f228117dc2db840a6d9a4894.jpg  \n",
            " extracting: train/log5_1_34_png.rf.ccad6ab20d48a48ed5f029f21e79f194.jpg  \n",
            " extracting: train/log5_1_39_png.rf.7021670048648e699dbc0a5ca2be667b.jpg  \n",
            " extracting: train/log5_1_44_png.rf.621732075b3aeb01d466834f41d5c9e0.jpg  \n",
            " extracting: train/log5_1_49_png.rf.7a71189a2488411c19c985b3864c879c.jpg  \n",
            " extracting: train/log5_1_4_png.rf.bf95bbe99f25a0e8af0212166adc8e85.jpg  \n",
            " extracting: train/log5_1_54_png.rf.89e7180ff4345d3cd3fcb129f5936904.jpg  \n",
            " extracting: train/log5_1_59_png.rf.87004fc2c963ce83d1671c3e8546669f.jpg  \n",
            " extracting: train/log5_1_64_png.rf.347b21a3139db3a58d0589f1da90227f.jpg  \n",
            " extracting: train/log5_1_9_png.rf.e0eef4c2df4ec6cf0367319c77608041.jpg  \n",
            " extracting: train/log5_2_14_png.rf.49f71ce4c1d64644b15d85efaee12292.jpg  \n",
            " extracting: train/log5_2_19_png.rf.32d260315dd8e6a2e2114b7eb5e1fd0d.jpg  \n",
            " extracting: train/log5_2_24_png.rf.a03f4760a1e6e42719ef4d38ec02c9b7.jpg  \n",
            " extracting: train/log5_2_29_png.rf.b7a76fffb0600d0a889a34e6bbfd9c77.jpg  \n",
            " extracting: train/log5_2_34_png.rf.aee923b47b9d9c3b4bb900f07278cb8f.jpg  \n",
            " extracting: train/log5_2_39_png.rf.22ff2ebe9a2c385a4312f80aff9da7fc.jpg  \n",
            " extracting: train/log5_2_44_png.rf.df36b60a4d7e2ebfbaf2a8719f6176e6.jpg  \n",
            " extracting: train/log5_2_49_png.rf.8ee5eb6dd98bb38f82c2e1c9a6156b4f.jpg  \n",
            " extracting: train/log5_2_4_png.rf.fac9cea97034af60466587e0d9ad1bd0.jpg  \n",
            " extracting: train/log5_2_54_png.rf.4f14e6a77b920599ca28c95e26e4f40c.jpg  \n",
            " extracting: train/log5_2_59_png.rf.8b6fc8de867ff6e1b82f1fad0d4575f4.jpg  \n",
            " extracting: train/log5_2_64_png.rf.5556046c10afdb77d1c4c212b7f8cb4b.jpg  \n",
            " extracting: train/log5_2_9_png.rf.aafbddec894846e09253cece2c8b0ff0.jpg  \n",
            " extracting: train/log5_3_14_png.rf.0c6981a20beadc0bbe0bd0679fb15508.jpg  \n",
            " extracting: train/log5_3_19_png.rf.56b6ae6e7cc243a51ee72fce6348a3aa.jpg  \n",
            " extracting: train/log5_3_24_png.rf.02f5ee794129e3ff3cced286419f9478.jpg  \n",
            " extracting: train/log5_3_29_png.rf.8edb5a5770675d17c364e9bde4638b05.jpg  \n",
            " extracting: train/log5_3_34_png.rf.f918ce979c816f57f6020b255c074446.jpg  \n",
            " extracting: train/log5_3_39_png.rf.56b458e745198ee41154137337dbea8a.jpg  \n",
            " extracting: train/log5_3_44_png.rf.3a61f67ef6c3718a7c7e3ad3ed987f2e.jpg  \n",
            " extracting: train/log5_3_49_png.rf.45c2d4693036d38c59b30a3a3c8249bd.jpg  \n",
            " extracting: train/log5_3_4_png.rf.4f592df2f2912a6ee98d4c4d89f89bb8.jpg  \n",
            " extracting: train/log5_3_54_png.rf.7023a3b8027eb0b096ba0597ca781c06.jpg  \n",
            " extracting: train/log5_3_59_png.rf.728d1f2c2e6e66d9d1a2f8997e544bf0.jpg  \n",
            " extracting: train/log5_3_64_png.rf.eda86072a0e27cccb2294fa92e99aa34.jpg  \n",
            " extracting: train/log5_3_9_png.rf.1412132645b37a79023fda1596bdc74e.jpg  \n",
            " extracting: train/log5_4_14_png.rf.caf0dde8de232f3020925315ead5d75f.jpg  \n",
            " extracting: train/log5_4_19_png.rf.ee4dcadf477daaa62547846cd7def2ed.jpg  \n",
            " extracting: train/log5_4_24_png.rf.91ed9f6f32e214ed4fb92b6fa1388cdb.jpg  \n",
            " extracting: train/log5_4_29_png.rf.d4fd37c67c7171ca79ad62168e401422.jpg  \n",
            " extracting: train/log5_4_34_png.rf.5024dfeca8eb56a834ff8252828815ed.jpg  \n",
            " extracting: train/log5_4_39_png.rf.8bd056827af489e6577bfd7646b10d50.jpg  \n",
            " extracting: train/log5_4_44_png.rf.8854e2eb918e3dedd9ec30df6b9817b9.jpg  \n",
            " extracting: train/log5_4_4_png.rf.cfab16932f2c6c7b4845eb79b3c8f332.jpg  \n",
            " extracting: train/log5_4_54_png.rf.3291952d43fc0e07cb4b2a4478dbd994.jpg  \n",
            " extracting: train/log5_4_59_png.rf.cd17ba05a7899cbcf77e660f8b643bc5.jpg  \n",
            " extracting: train/log5_4_64_png.rf.714331330f533149aa9741d1ec2bc377.jpg  \n",
            " extracting: train/log5_4_9_png.rf.65e4209a41eb8fecb6f07c937d66c9cc.jpg  \n",
            " extracting: train/log6_0_14_png.rf.23388c56acf8161bfb828c184521787a.jpg  \n",
            " extracting: train/log6_0_19_png.rf.30a061fc5c58096a8a0993d26429400d.jpg  \n",
            " extracting: train/log6_0_24_png.rf.e28b22b1ce1b0ec79c9335b026eb8610.jpg  \n",
            " extracting: train/log6_0_29_png.rf.5e75c3ae289dea2265d9bbd0a6fafd2b.jpg  \n",
            " extracting: train/log6_0_34_png.rf.ee2e38d3fbc69723484ae45056bccdf6.jpg  \n",
            " extracting: train/log6_0_39_png.rf.867a74731130395db0c6dc68b11d7996.jpg  \n",
            " extracting: train/log6_0_44_png.rf.24591d318b8ec0ac1f859e25c411697c.jpg  \n",
            " extracting: train/log6_0_49_png.rf.03c9df75125e83a7e3201fe537c4d835.jpg  \n",
            " extracting: train/log6_0_4_png.rf.5b9bbba11b16bb8ba0e1f0fef60b6be0.jpg  \n",
            " extracting: train/log6_0_54_png.rf.ef01e5bfb7fd9763c1f29c19b7ab5c8e.jpg  \n",
            " extracting: train/log6_0_59_png.rf.c8815b798e5a3b1791ad95cc943c7daa.jpg  \n",
            " extracting: train/log6_0_64_png.rf.6a45249a8c6f6572cf32b440f1c34dc4.jpg  \n",
            " extracting: train/log6_0_9_png.rf.431d28e96552b92855507b14cb00b8f7.jpg  \n",
            " extracting: train/log6_1_14_png.rf.265293b40832d370948e3a87b478f3b3.jpg  \n",
            " extracting: train/log6_1_19_png.rf.b41fa162f1450e05533069d30be474c8.jpg  \n",
            " extracting: train/log6_1_24_png.rf.398161c3b34063d349ef8f684b6feb04.jpg  \n",
            " extracting: train/log6_1_29_png.rf.c54d6fc3ea7ceae3541aad04e56920c6.jpg  \n",
            " extracting: train/log6_1_34_png.rf.19f66d5599dda43dad82c0a7f39b0b3a.jpg  \n",
            " extracting: train/log6_1_39_png.rf.35b8835c87c0d472df59aa8c5053337a.jpg  \n",
            " extracting: train/log6_1_44_png.rf.521599079183e23e0c5409f92e7d8993.jpg  \n",
            " extracting: train/log6_1_49_png.rf.68b49791e90ddeb3a45ac301ace43a1e.jpg  \n",
            " extracting: train/log6_1_4_png.rf.1e4078984b5a3e006ace406d9adb692e.jpg  \n",
            " extracting: train/log6_1_54_png.rf.b405722c1ee1f474d0d013c0c17cf7bd.jpg  \n",
            " extracting: train/log6_1_59_png.rf.02961adedade7dfcc20567d820bafa61.jpg  \n",
            " extracting: train/log6_1_64_png.rf.a717f31ad2789b9e7df38496b7bcb1f3.jpg  \n",
            " extracting: train/log6_1_9_png.rf.528b540847d575763be91a070332bdf2.jpg  \n",
            " extracting: train/log6_2_14_png.rf.cae1ffcde12e4a3e9e05e0c19274bb11.jpg  \n",
            " extracting: train/log6_2_19_png.rf.4b8a769ca13655283d45ba3587cfbd5c.jpg  \n",
            " extracting: train/log6_2_24_png.rf.27853e5e9b6ff0e38739107a604ab1de.jpg  \n",
            " extracting: train/log6_2_29_png.rf.07e40877f67ff505e61e10652e3a600f.jpg  \n",
            " extracting: train/log6_2_34_png.rf.d839c20c7fe9e8e9c81f4cef4a984bc1.jpg  \n",
            " extracting: train/log6_2_39_png.rf.d7f14d2edaacb0cd2bcdd7749572f40c.jpg  \n",
            " extracting: train/log6_2_44_png.rf.da18ab9c4c6a83790ff35cea0ad52718.jpg  \n",
            " extracting: train/log6_2_49_png.rf.5c272cde42a10053dc8cf4d8703e6a20.jpg  \n",
            " extracting: train/log6_2_4_png.rf.f13ce49eb1a59853a5b9f32c940097ad.jpg  \n",
            " extracting: train/log6_2_54_png.rf.20e33035b07df31cc95236f27c20e06e.jpg  \n",
            " extracting: train/log6_2_59_png.rf.e43fb06ae2e1b77850c1d90a06aa0a91.jpg  \n",
            " extracting: train/log6_2_64_png.rf.c09452133258229296b918fecbd2bc26.jpg  \n",
            " extracting: train/log6_2_9_png.rf.2f29d035ec6b464d88dc24afedc5fef9.jpg  \n",
            " extracting: train/log6_3_14_png.rf.c887b4e5d4910e94e2365548d1864abb.jpg  \n",
            " extracting: train/log6_3_19_png.rf.4fdf5eff0ca481ce9b1f3104b163df81.jpg  \n",
            " extracting: train/log6_3_24_png.rf.949f972ea9fc4b49329c2428baf0487e.jpg  \n",
            " extracting: train/log6_3_49_png.rf.9723d73bfef229213d88018efa2b5c6a.jpg  \n",
            " extracting: train/log6_3_4_png.rf.81632d0de63dca056bef8e30d17628eb.jpg  \n",
            " extracting: train/log6_3_54_png.rf.4b33c858cb31fa453f50ced50471380b.jpg  \n",
            " extracting: train/log6_3_59_png.rf.d4b3c74bac6a4d2f499a6ca8bbfbfb48.jpg  \n",
            " extracting: train/log6_3_64_png.rf.7eb8a6b95d82433017bccbf684d214ce.jpg  \n",
            " extracting: train/log6_3_9_png.rf.04ddecf6c283a2bcacdc843a64b2f3e4.jpg  \n",
            " extracting: train/log6_4_14_png.rf.7c6dfcc6679ff65b51331406b8a04ae3.jpg  \n",
            " extracting: train/log6_4_29_png.rf.9260fd6d7f59dc05851995f62cee05b8.jpg  \n",
            " extracting: train/log6_4_34_png.rf.a7c65d5b5f194082477bfe7512f6fca0.jpg  \n",
            " extracting: train/log6_4_39_png.rf.5fffc62697867bd88a022cd9e798195f.jpg  \n",
            " extracting: train/log6_4_44_png.rf.9ae1248f0888e0d154a9bdd4521ffb7f.jpg  \n",
            " extracting: train/log6_4_49_png.rf.d8b345c58c4e68a409f7c275e5dd81e9.jpg  \n",
            " extracting: train/log6_4_4_png.rf.769561dd24a294c899ded4bf26f4f9b2.jpg  \n",
            " extracting: train/log6_4_54_png.rf.3f1a5426fd781dc6b0c4d0cc0493bdbd.jpg  \n",
            " extracting: train/log6_4_59_png.rf.430f2f0dd1979055b30826a8ca3e35f9.jpg  \n",
            " extracting: train/log6_4_64_png.rf.95ce6ecb2570b79bd1bf8eae4d7a0ee4.jpg  \n",
            " extracting: train/log6_4_9_png.rf.0e6462a33438ed6c9e001382f2439c46.jpg  \n",
            " extracting: train/log7_0_14_png.rf.df1710cde8f2731374b3911c003715d3.jpg  \n",
            " extracting: train/log7_0_19_png.rf.02734fee083e367e3a9de1dab6905eae.jpg  \n",
            " extracting: train/log7_0_24_png.rf.d44ceb2797ed24cfa369f9c52ed124f8.jpg  \n",
            " extracting: train/log7_0_29_png.rf.38188bd0c6783e7044cdc208844ca95c.jpg  \n",
            " extracting: train/log7_0_34_png.rf.dc2b659d49354282d3ba94831ef99544.jpg  \n",
            " extracting: train/log7_0_39_png.rf.8eecdb5c38b8ad3877e76086af1379db.jpg  \n",
            " extracting: train/log7_0_44_png.rf.31d1a6ea0c5126faeb7fe9b9f81b7317.jpg  \n",
            " extracting: train/log7_0_49_png.rf.ae3467a81d5732166220cdcd37b09078.jpg  \n",
            " extracting: train/log7_0_4_png.rf.5d5060fa9351c0f3aed9ec219d37aa9e.jpg  \n",
            " extracting: train/log7_0_54_png.rf.7b876210e3548b09ae564abc7261d60a.jpg  \n",
            " extracting: train/log7_0_59_png.rf.37fbf94d498db8e992a1804d32fd32df.jpg  \n",
            " extracting: train/log7_0_64_png.rf.9665d54e45843a55088d26cbbb358c58.jpg  \n",
            " extracting: train/log7_0_9_png.rf.643fc374ae3651a1e6109932e184e4b5.jpg  \n",
            " extracting: train/log7_1_14_png.rf.444562376a4dc37ee55d69c5cf3d1655.jpg  \n",
            " extracting: train/log7_1_19_png.rf.3be6a6a833db489756c03e0e59a6c28e.jpg  \n",
            " extracting: train/log7_1_24_png.rf.82201fe25a99d61f0d4d1c4487e1f828.jpg  \n",
            " extracting: train/log7_1_29_png.rf.3972d54a4f86169d844cb1c7556835f1.jpg  \n",
            " extracting: train/log7_1_34_png.rf.4d07598cc53429051f216cd90eb735cc.jpg  \n",
            " extracting: train/log7_1_39_png.rf.2e0c1972307ae43c4765944ae14dce4d.jpg  \n",
            " extracting: train/log7_1_44_png.rf.cd847912b84d34b58a2821be0c2e44b8.jpg  \n",
            " extracting: train/log7_1_49_png.rf.af555ec00d98295ae6fc602a3ab43e8c.jpg  \n",
            " extracting: train/log7_1_4_png.rf.d757554ce91e8f78202a9545c642908d.jpg  \n",
            " extracting: train/log7_1_54_png.rf.d73b051fd6f54c053ff37fe7671fb96e.jpg  \n",
            " extracting: train/log7_1_59_png.rf.6f58b067a43711384361c33812fd2069.jpg  \n",
            " extracting: train/log7_1_64_png.rf.03391b3d7d33bce00a9945b5b593659c.jpg  \n",
            " extracting: train/log7_1_9_png.rf.965a512d5fb88523b403ede04d887f58.jpg  \n",
            " extracting: train/log7_2_14_png.rf.4bc6e210e9a9fd7fb61d11f3f4f121c3.jpg  \n",
            " extracting: train/log7_2_19_png.rf.85694e902c6d1b044f3ce0fa2a7a879d.jpg  \n",
            " extracting: train/log7_2_24_png.rf.221d927fbaf05c1328d434e3cbbc9c71.jpg  \n",
            " extracting: train/log7_2_29_png.rf.fb5213e4210f841272c76d776f4c6a64.jpg  \n",
            " extracting: train/log7_2_34_png.rf.0a0ccff1b7786b241fe8955b398816bd.jpg  \n",
            " extracting: train/log7_2_39_png.rf.d0a24d4da42354ddb833abffebeb8902.jpg  \n",
            " extracting: train/log7_2_44_png.rf.52ed857cdf1616d160fe74f4f0ae1ad3.jpg  \n",
            " extracting: train/log7_2_49_png.rf.bd9c5c15c372552ae9ecc2d25981b143.jpg  \n",
            " extracting: train/log7_2_4_png.rf.4e31dbd957321b4698b78cabb7b06f07.jpg  \n",
            " extracting: train/log7_2_54_png.rf.8a337369b7eff8830ef02741f125d746.jpg  \n",
            " extracting: train/log7_2_59_png.rf.ae6e7b0d8d7c9b5bb0d37cc1a7808e50.jpg  \n",
            " extracting: train/log7_2_64_png.rf.d2cae68a734d77917c7499f5ca50e6a6.jpg  \n",
            " extracting: train/log7_2_9_png.rf.277a174785f54503beeb58c5be8a320f.jpg  \n",
            " extracting: train/log7_3_14_png.rf.4a0c281e694f28a007015b629ac256f5.jpg  \n",
            " extracting: train/log7_3_19_png.rf.8e169a355f41f6d912d169390d382dd8.jpg  \n",
            " extracting: train/log7_3_24_png.rf.1e42eaea7daf30fcbb4164529ce22b03.jpg  \n",
            " extracting: train/log7_3_29_png.rf.14615d3c45dd99190555e299fd0f677d.jpg  \n",
            " extracting: train/log7_3_34_png.rf.ed5c60f9266b652c6380b904e81b2e9f.jpg  \n",
            " extracting: train/log7_3_39_png.rf.d0c95837e72d60e5fe29e77fb9ba855d.jpg  \n",
            " extracting: train/log7_3_4_png.rf.c004b281e0984a2d1c9dcf8d61520fe6.jpg  \n",
            " extracting: train/log7_3_59_png.rf.5280e23bbff89688f8c4f125e1a36c59.jpg  \n",
            " extracting: train/log7_3_9_png.rf.cc28c0c24337c36abdc4bdecc0ab4b3d.jpg  \n",
            " extracting: train/log7_4_14_png.rf.466a09835a4833565474b2176a75f817.jpg  \n",
            " extracting: train/log7_4_19_png.rf.5b247194240936c0608b951fb4997908.jpg  \n",
            " extracting: train/log7_4_24_png.rf.d3afde834de521b50617a21b3d03991b.jpg  \n",
            " extracting: train/log7_4_29_png.rf.15f1bd73a10c273a8950e25ad9eb0dff.jpg  \n",
            " extracting: train/log7_4_34_png.rf.7df5ebf7ef5fa1f0a146e98ed6ea0936.jpg  \n",
            " extracting: train/log7_4_49_png.rf.4374b3642d00876dd667fe42144029b1.jpg  \n",
            " extracting: train/log7_4_4_png.rf.dc7e4fe361daf012136138ee9cbf38be.jpg  \n",
            " extracting: train/log7_4_64_png.rf.08ceb38a7eabdc805b4c4b1d9c2219af.jpg  \n",
            " extracting: train/log7_4_9_png.rf.8526a4bef88c396e51bfa2184f0b54d0.jpg  \n",
            " extracting: train/log8_0_14_png.rf.eeb6106fb295f1d40883bb8b50d0a1e1.jpg  \n",
            " extracting: train/log8_0_19_png.rf.a0495abbaee6e15f0269a56db85fbbf4.jpg  \n",
            " extracting: train/log8_0_24_png.rf.bd4a3539b0f52fad55fc792a41c83e84.jpg  \n",
            " extracting: train/log8_0_29_png.rf.96ad3dd1dd87eee085f413b566ca4797.jpg  \n",
            " extracting: train/log8_0_34_png.rf.f6d90eef415f3e469697030013eb1c0c.jpg  \n",
            " extracting: train/log8_0_39_png.rf.502e1f342937a3fb89de3e834d399d9c.jpg  \n",
            " extracting: train/log8_0_44_png.rf.1bad3ebf69d613b676ec511a6b272a32.jpg  \n",
            " extracting: train/log8_0_49_png.rf.f14b15944b61115c69f2e067d7be9f8e.jpg  \n",
            " extracting: train/log8_0_4_png.rf.0acfd18d622ae1905ace27df9f177124.jpg  \n",
            " extracting: train/log8_0_54_png.rf.d91e161fb486f7720324e370f1b4f20a.jpg  \n",
            " extracting: train/log8_0_59_png.rf.23c5476b3dcfd2054b5b3b6fc5b90d57.jpg  \n",
            " extracting: train/log8_0_64_png.rf.4cbee4bedf31ccd1cb5359ca6aea5a01.jpg  \n",
            " extracting: train/log8_0_9_png.rf.57b0740726c97eff2ae288f5692a54f8.jpg  \n",
            " extracting: train/log8_1_14_png.rf.eb26516930d602fe3107bf94e5a7ac5e.jpg  \n",
            " extracting: train/log8_1_19_png.rf.f1ac43dbbba04d14285c1effbf37fce0.jpg  \n",
            " extracting: train/log8_1_24_png.rf.2db10532820865b4c9b7fe152eeef6d2.jpg  \n",
            " extracting: train/log8_1_29_png.rf.55c09bdf58a99d939f78a8df3d6bad3c.jpg  \n",
            " extracting: train/log8_1_34_png.rf.1c93ede1daf8e40d9678abeee827d6c6.jpg  \n",
            " extracting: train/log8_1_39_png.rf.aec8641d87019dea8babb1e14b51452f.jpg  \n",
            " extracting: train/log8_1_44_png.rf.b1422680251811cf44df4d24f609680a.jpg  \n",
            " extracting: train/log8_1_49_png.rf.04b5e318999ae7691c6ee1162fdb151c.jpg  \n",
            " extracting: train/log8_1_4_png.rf.09da767b64f978fb0e9d8d265204b253.jpg  \n",
            " extracting: train/log8_1_54_png.rf.23e6ff47eb39f456cb4fd5ec65f2eceb.jpg  \n",
            " extracting: train/log8_1_59_png.rf.fd0273c4663ea80d97c7dfd21db2134c.jpg  \n",
            " extracting: train/log8_1_64_png.rf.b5b5bcfa2b6a8400b1426561d523d8ce.jpg  \n",
            " extracting: train/log8_1_9_png.rf.4898d34456dd6fd49d3266f8bfd9b9a4.jpg  \n",
            " extracting: train/log8_2_14_png.rf.f100c4a9e2783260984a03bc6ac77c34.jpg  \n",
            " extracting: train/log8_2_19_png.rf.70ce2b43ca1098269974366563d366da.jpg  \n",
            " extracting: train/log8_2_24_png.rf.07ed137f2d8ef42f51c89673af185ff0.jpg  \n",
            " extracting: train/log8_2_29_png.rf.71a5fbee49842ffa9c2225886db7c7e2.jpg  \n",
            " extracting: train/log8_2_34_png.rf.e66518115e2c9694c51565063314a943.jpg  \n",
            " extracting: train/log8_2_39_png.rf.cac871b62a8692a3b260d3dfe91dbc48.jpg  \n",
            " extracting: train/log8_2_44_png.rf.fc1c9e484d8ee5c79b6cb535e6b28c53.jpg  \n",
            " extracting: train/log8_2_49_png.rf.91ba80a1331e5114b55afeb506924bb6.jpg  \n",
            " extracting: train/log8_2_4_png.rf.cf2605931017f5f02cc872a414014854.jpg  \n",
            " extracting: train/log8_2_54_png.rf.3e28f9ae983d5049d0a95cfad3f526c4.jpg  \n",
            " extracting: train/log8_2_59_png.rf.b3f4bb5a9275ff4b94d6d05bdccf523a.jpg  \n",
            " extracting: train/log8_2_64_png.rf.d8a012ae418c0a90f4ccf5b5a9d5891a.jpg  \n",
            " extracting: train/log8_2_9_png.rf.14da9d240535276d2c3148d37d2b6794.jpg  \n",
            " extracting: train/log8_3_14_png.rf.5a3b19a8a54c0102e9f3e99272288068.jpg  \n",
            " extracting: train/log8_3_19_png.rf.85b3bb3e699175f96e1aac08c0972ee6.jpg  \n",
            " extracting: train/log8_3_24_png.rf.c190c281017e44e9ab6465b57c062386.jpg  \n",
            " extracting: train/log8_3_29_png.rf.b125a009d4462c7ca1c2d12657f7b20c.jpg  \n",
            " extracting: train/log8_3_34_png.rf.169b3187c8dfec5a6d9866c697a5fda5.jpg  \n",
            " extracting: train/log8_3_39_png.rf.85e0f5bcab74e93802ae4f2c37dbec66.jpg  \n",
            " extracting: train/log8_3_44_png.rf.2426aeb9dd1acfef66191606028feab6.jpg  \n",
            " extracting: train/log8_3_49_png.rf.0ed0326fe210e7da90d5690c34d413b5.jpg  \n",
            " extracting: train/log8_3_4_png.rf.6c64d8139fd3f501279e9f44c4997f0e.jpg  \n",
            " extracting: train/log8_3_54_png.rf.794f7a6285b4f03ad214e1d885508751.jpg  \n",
            " extracting: train/log8_3_59_png.rf.f40dbfed004b6f26c7aae6b993cf40ad.jpg  \n",
            " extracting: train/log8_3_64_png.rf.12c307196093384a5b678cd96d8fb74c.jpg  \n",
            " extracting: train/log8_3_9_png.rf.625678e91e38543c228f5a449e82428b.jpg  \n",
            " extracting: train/log8_4_14_png.rf.03415a80e8fe7c8ce4bf64314d825a5e.jpg  \n",
            " extracting: train/log8_4_19_png.rf.ddfb50be487bf0a603eba68bdfbdeb5a.jpg  \n",
            " extracting: train/log8_4_24_png.rf.df6d063c3970f0cf4b2b7897c4c16575.jpg  \n",
            " extracting: train/log8_4_29_png.rf.ec4ad0a22d28d0f6e48cac236429d328.jpg  \n",
            " extracting: train/log8_4_49_png.rf.bf9617abc4b59f523478815eb1adeeca.jpg  \n",
            " extracting: train/log8_4_4_png.rf.f9efe1fe9435367490e9098701fb059f.jpg  \n",
            " extracting: train/log8_4_64_png.rf.bc222cfb56f84a622044f356396427b7.jpg  \n",
            " extracting: train/log8_4_9_png.rf.8266b7c5be1143f04c2b4656d1f754d8.jpg  \n",
            " extracting: train/log9_0_14_png.rf.4f7a16a4ab97e3b6ef806a7f00a28226.jpg  \n",
            " extracting: train/log9_0_19_png.rf.f53dee787658244e7af70a6121f6da57.jpg  \n",
            " extracting: train/log9_0_24_png.rf.9a5e59b75ee219252e6cc2a3798da935.jpg  \n",
            " extracting: train/log9_0_29_png.rf.73e293bb0060bdd7fcdc307a90c0f153.jpg  \n",
            " extracting: train/log9_0_34_png.rf.19469f890d357d2978c18f9decdb4e00.jpg  \n",
            " extracting: train/log9_0_39_png.rf.b2bd7118ec2b751f4331e2d960a35371.jpg  \n",
            " extracting: train/log9_0_44_png.rf.a516951125479217c7baabb907bef5df.jpg  \n",
            " extracting: train/log9_0_49_png.rf.4c407a4d59df63e737f8cdc0d07fccc0.jpg  \n",
            " extracting: train/log9_0_4_png.rf.d7fbe9a0715b823d4d83df8e4a8c526a.jpg  \n",
            " extracting: train/log9_0_54_png.rf.d61828b4447f39d19b4750e88d78ec14.jpg  \n",
            " extracting: train/log9_0_59_png.rf.bdb99e499698c86ea300af247dce3de9.jpg  \n",
            " extracting: train/log9_0_64_png.rf.f39e591c326ec4a88b6667567dc3c680.jpg  \n",
            " extracting: train/log9_0_9_png.rf.92e6f5313e476ddb3611a6af6283749f.jpg  \n",
            " extracting: train/log9_1_14_png.rf.85287cbc91b35ced6ae29309c3d5f2c4.jpg  \n",
            " extracting: train/log9_1_19_png.rf.c6001be91756def1be1708bd872a9858.jpg  \n",
            " extracting: train/log9_1_24_png.rf.5a226a69c789e4e51f188559b28b375f.jpg  \n",
            " extracting: train/log9_1_29_png.rf.49ff6844820553433c2fc752a774eaa0.jpg  \n",
            " extracting: train/log9_1_34_png.rf.882c385ccc9cf3b5446b0c27d9f0dba9.jpg  \n",
            " extracting: train/log9_1_39_png.rf.592453561a463741c7de03a32f1c6411.jpg  \n",
            " extracting: train/log9_1_44_png.rf.d5c94b5562ffe2740bba042e72ec0194.jpg  \n",
            " extracting: train/log9_1_49_png.rf.58b0596fe4efe6750cc9c23de90bc826.jpg  \n",
            " extracting: train/log9_1_4_png.rf.0a46c8a5adfe5ca25b91f2ceb5eb9b8e.jpg  \n",
            " extracting: train/log9_1_54_png.rf.8791814385911ecbe0d1c18a44ec4359.jpg  \n",
            " extracting: train/log9_1_59_png.rf.d8658d77dc43fc9de9b0830f02235156.jpg  \n",
            " extracting: train/log9_1_64_png.rf.3409260e5936ec4a2a7e7d2950e3124a.jpg  \n",
            " extracting: train/log9_1_9_png.rf.a5fce3c868a3975cc35926aff9465864.jpg  \n",
            " extracting: train/log9_2_14_png.rf.4ce19c1a6f930f95a11aa98730d3eb24.jpg  \n",
            " extracting: train/log9_2_19_png.rf.a4c47a344cfce4dd23264110e71ef474.jpg  \n",
            " extracting: train/log9_2_24_png.rf.a41fb86e744d089e662c1e87e57f8625.jpg  \n",
            " extracting: train/log9_2_29_png.rf.76825a7aef43c20fbd55592bd10081dd.jpg  \n",
            " extracting: train/log9_2_34_png.rf.9e6a203518181542b46ecbc96293e156.jpg  \n",
            " extracting: train/log9_2_39_png.rf.92839d3cdec8bfd1fe5075f3dbb0b568.jpg  \n",
            " extracting: train/log9_2_44_png.rf.0f93897f76da7335b58f2dfff07f9f28.jpg  \n",
            " extracting: train/log9_2_49_png.rf.c02452b3c3d9b0418855c50a9d6d70ed.jpg  \n",
            " extracting: train/log9_2_4_png.rf.efc50db410cf49965cb3c2d5846eaf26.jpg  \n",
            " extracting: train/log9_2_54_png.rf.273a2eef0f822ac00710010a6c130f21.jpg  \n",
            " extracting: train/log9_2_59_png.rf.458d635425b4997a460b1f14cecd86b5.jpg  \n",
            " extracting: train/log9_2_64_png.rf.9187cb37c123e0e9d8ae7732be055ff4.jpg  \n",
            " extracting: train/log9_2_9_png.rf.eba41d5102f4dc4a751370f37cf80cdd.jpg  \n",
            " extracting: train/log9_3_14_png.rf.3188818059210b3e076d0b37d2cb5e27.jpg  \n",
            " extracting: train/log9_3_19_png.rf.364ee0522b4fb679f220c2a0a79b4e16.jpg  \n",
            " extracting: train/log9_3_24_png.rf.c7272c991c5a74bd2fb8150f5d12b300.jpg  \n",
            " extracting: train/log9_3_29_png.rf.885c87f624184add27190176e4ccdef4.jpg  \n",
            " extracting: train/log9_3_34_png.rf.5d6c4bb8b112b6f245b3ab3ff9828b34.jpg  \n",
            " extracting: train/log9_3_39_png.rf.ed1fa3d59ab95ea894631e85026eafcb.jpg  \n",
            " extracting: train/log9_3_44_png.rf.eafa1caf910366950bdeca5dfad64bcf.jpg  \n",
            " extracting: train/log9_3_49_png.rf.e227cc32ce2bf674a95df0c821131fbb.jpg  \n",
            " extracting: train/log9_3_4_png.rf.362abd47b477c514caa922163da27cec.jpg  \n",
            " extracting: train/log9_3_9_png.rf.675f3ac33f648cca302f949e3fd7ea33.jpg  \n",
            " extracting: train/log9_4_14_png.rf.1d762f17f73f0806c77e7a41c43ff428.jpg  \n",
            " extracting: train/log9_4_19_png.rf.2de2b1a2438a60fc9795e3186a2f980d.jpg  \n",
            " extracting: train/log9_4_24_png.rf.8675d239764c3a282ac78714216723ca.jpg  \n",
            " extracting: train/log9_4_29_png.rf.b67a2136081e7f0af2cf9e25d92b9ba9.jpg  \n",
            " extracting: train/log9_4_39_png.rf.ce3aea22e5889aca4e521ab93e86466d.jpg  \n",
            " extracting: train/log9_4_49_png.rf.fe24ebb59f16a74491bb3d0afebf53a3.jpg  \n",
            " extracting: train/log9_4_4_png.rf.6f0285ed8b0ca1043d69dd922be8827f.jpg  \n",
            " extracting: train/log9_4_54_png.rf.4a74c211d22e4bda861c006843427e5c.jpg  \n",
            " extracting: train/log9_4_64_png.rf.a6fbfedf7d4903432a9f351115109a48.jpg  \n",
            " extracting: train/log9_4_9_png.rf.8fc8e580dab683330755eb49c90a0a51.jpg  \n"
          ]
        }
      ]
    },
    {
      "cell_type": "markdown",
      "source": [
        "### 1.2 Transform into dataset class"
      ],
      "metadata": {
        "id": "1QUJNUG88h3D"
      }
    },
    {
      "cell_type": "code",
      "source": [
        "csv_file = '/content/train/_classes.csv'\n",
        "csv_data = csv.DictReader(open(csv_file))\n",
        "\n",
        "transform = transforms.Compose([\n",
        "    transforms.Lambda((lambda x: x[:3])),\n",
        "    #transforms.Resize((28, 28)),           # TEAM\n",
        "    transforms.Resize((28, 73)),            # REMARKS\n",
        "    transforms.Grayscale(num_output_channels=1)\n",
        "])\n",
        "\n",
        "data = []; targets = []\n",
        "first_row = True\n",
        "for row in csv_data:\n",
        "    if first_row:\n",
        "        classes = [c.strip() for c in row.keys()][1:]\n",
        "        class_to_idx = {cls_name: i for i, cls_name in enumerate(classes)}\n",
        "        first_row = False\n",
        "\n",
        "    image_path = '/content/train/' + row['filename']\n",
        "    image = torchvision.io.read_image(image_path).type(torch.float32)\n",
        "    image = image / 255.\n",
        "    data.append(transform(image))\n",
        "    for c in classes:\n",
        "        if int(row[' '+c]): targets.append(class_to_idx[c])\n",
        "\n",
        "data = torch.stack(data)\n",
        "targets = torch.tensor(targets)\n",
        "dataset = RoboflowDataset(data, targets)\n",
        "dataset.classes = classes\n",
        "NUM_CLASSES = len(classes)"
      ],
      "metadata": {
        "id": "qozPyeOru3YA"
      },
      "execution_count": 12,
      "outputs": []
    },
    {
      "cell_type": "markdown",
      "source": [
        "### 1.3 Visualize the data"
      ],
      "metadata": {
        "id": "GzjrBZGeKyAc"
      }
    },
    {
      "cell_type": "code",
      "source": [
        "print('image shape:',dataset.data.shape)\n",
        "print('label shape:',dataset.targets.shape)\n",
        "print('classes:',dataset.classes)\n",
        "\n",
        "random_sample = np.random.randint(0,dataset.data.shape[0],9)\n",
        "for i , sample in zip(range(9), random_sample):\n",
        "  image, label = dataset[sample]\n",
        "  plt.subplot(3, 3, i + 1)\n",
        "  plt.imshow(image.squeeze(), cmap=\"gray\")\n",
        "  plt.title(classes[label])\n",
        "  plt.axis(\"off\")\n",
        "plt.show()"
      ],
      "metadata": {
        "colab": {
          "base_uri": "https://localhost:8080/",
          "height": 428
        },
        "id": "75EeOlaHK2RF",
        "outputId": "1bca6e26-1f77-4b21-bbcf-6cab513dd9b9"
      },
      "execution_count": 17,
      "outputs": [
        {
          "output_type": "stream",
          "name": "stdout",
          "text": [
            "image shape: torch.Size([867, 1, 28, 73])\n",
            "label shape: torch.Size([867])\n",
            "classes: ['30TO-30secondtimeout', 'E-ejection', 'G-goal', 'P-penalty', 'TO-timeout', 'YC-yellowcard', 'empty']\n"
          ]
        },
        {
          "output_type": "display_data",
          "data": {
            "text/plain": [
              "<Figure size 640x480 with 9 Axes>"
            ],
            "image/png": "[encoded data removed]"
          },
          "metadata": {}
        }
      ]
    },
    {
      "cell_type": "markdown",
      "metadata": {
        "id": "4MsCKHba74lx"
      },
      "source": [
        "## 2. Prepare Data"
      ]
    },
    {
      "cell_type": "markdown",
      "source": [
        "### 2.1 Convert data to tensors and resize"
      ],
      "metadata": {
        "id": "4em9x97WFSxd"
      }
    },
    {
      "cell_type": "markdown",
      "source": [
        "### 2.2 Split the dataset into train, test, and validation\n",
        "\n",
        "* training set - used to train the model, compute the loss, and adjust the weights of the model using gradient descent\n",
        "\n",
        "* validation set - used to evaluate the training model, adjust the hyperparameters, and pick the best version of the model\n",
        "\n",
        "* test set - used as a final check of model predictions on new data to evaluate model performance"
      ],
      "metadata": {
        "id": "a1LclMqwR0N7"
      }
    },
    {
      "cell_type": "code",
      "source": [
        "train, test = random_split(dataset, [int(len(dataset)*0.8), len(dataset) - int(len(dataset)*0.8)])\n",
        "train, validate = random_split(train, [int(len(train)*0.75), len(train) - int(len(train)*0.75)])\n",
        "\n",
        "print('samples in train dataset: ', len(train))\n",
        "print('samples in validation dataset: ', len(validate))\n",
        "print('samples in test dataset: ', len(test))\n",
        "\n",
        "# want to display some stats on how many labels are in every dataset\n"
      ],
      "metadata": {
        "colab": {
          "base_uri": "https://localhost:8080/"
        },
        "id": "7jliXLtPRet-",
        "outputId": "a292e573-6b54-46fa-f2d8-0ba01054bc9d"
      },
      "execution_count": 22,
      "outputs": [
        {
          "output_type": "stream",
          "name": "stdout",
          "text": [
            "samples in train dataset:  519\n",
            "samples in validation dataset:  174\n",
            "samples in test dataset:  174\n"
          ]
        }
      ]
    },
    {
      "cell_type": "markdown",
      "source": [
        "### 2.3 Convert to dataloaders"
      ],
      "metadata": {
        "id": "xCNn42WrFkbz"
      }
    },
    {
      "cell_type": "code",
      "source": [
        "BATCH_SIZE = 32\n",
        "NUM_WORKERS = os.cpu_count()\n",
        "print(f\"Creating DataLoader's with batch size {BATCH_SIZE} and {NUM_WORKERS} workers.\")\n",
        "\n",
        "train_dataloader = DataLoader(train, BATCH_SIZE, num_workers=NUM_WORKERS, shuffle=True)\n",
        "test_dataloader = DataLoader(test, BATCH_SIZE, num_workers=NUM_WORKERS, shuffle = False)\n",
        "\n",
        "img_custom, label_custom = next(iter(train_dataloader))\n",
        "print(f\"Dataloader image shape: {img_custom.shape} --> [batch_size, color_channels, height, width]\")\n",
        "print(f\"Dataloader label shape: {label_custom.shape}\")\n",
        "\n",
        "DATALOADER_COLOR_CHANNELS = img_custom.shape[1]\n",
        "DATALOADER_HEIGHT = img_custom.shape[2]\n",
        "DATALOADER_WIDTH = img_custom.shape[3]"
      ],
      "metadata": {
        "colab": {
          "base_uri": "https://localhost:8080/"
        },
        "id": "1LtyXcQhThF1",
        "outputId": "481bb117-a43a-4136-9282-f6458e4ad653"
      },
      "execution_count": 24,
      "outputs": [
        {
          "output_type": "stream",
          "name": "stdout",
          "text": [
            "Creating DataLoader's with batch size 32 and 2 workers.\n",
            "Dataloader image shape: torch.Size([32, 1, 28, 73]) --> [batch_size, color_channels, height, width]\n",
            "Dataloader label shape: torch.Size([32])\n"
          ]
        }
      ]
    },
    {
      "cell_type": "markdown",
      "source": [
        "## 3. Train Model"
      ],
      "metadata": {
        "id": "fGv8XmPmbqiZ"
      }
    },
    {
      "cell_type": "markdown",
      "source": [
        "### 3.1 Build model"
      ],
      "metadata": {
        "id": "kk9rO_Rzkn5y"
      }
    },
    {
      "cell_type": "code",
      "source": [
        "class TeamModel(nn.Module):\n",
        "    def __init__(self):\n",
        "        super().__init__()\n",
        "        self.conv1 = nn.Sequential(nn.Conv2d(1, 32, kernel_size=3, padding=1),\n",
        "                                  nn.BatchNorm2d(32),\n",
        "                                  nn.ReLU(inplace=True)) #32*28*28\n",
        "        self.conv2 = nn.Sequential(nn.Conv2d(32, 64, kernel_size=3, padding=1), # 32 --> 64\n",
        "                                  nn.BatchNorm2d(64),\n",
        "                                  nn.ReLU(inplace=True),\n",
        "                                  nn.MaxPool2d(1)) #64*14*14\n",
        "        self.res1 = nn.Sequential(nn.Conv2d(64, 64, kernel_size=3, padding=1),\n",
        "                                  nn.ReLU(inplace=True),\n",
        "                                  nn.Conv2d(64, 64, kernel_size=3, padding=1),\n",
        "                                  nn.ReLU(inplace=True)) #64*14*14\n",
        "        self.conv3 = nn.Sequential(nn.Conv2d(64, 128, kernel_size=3, padding=1),\n",
        "                                  nn.BatchNorm2d(128),\n",
        "                                  nn.ReLU(inplace=True)) #128*14*14\n",
        "        self.conv4 = nn.Sequential(nn.Conv2d(128, 256, kernel_size=3, padding=1),\n",
        "                                  nn.BatchNorm2d(256),\n",
        "                                  nn.ReLU(inplace=True),\n",
        "                                  nn.MaxPool2d(1)) #256*7*7\n",
        "        self.res2 = nn.Sequential(nn.Conv2d(256, 256, kernel_size=3, padding=1),\n",
        "                                  nn.ReLU(inplace=True),\n",
        "                                  nn.Conv2d(256, 256, kernel_size=3, padding=1),\n",
        "                                  nn.ReLU(inplace=True)) #256*7*7\n",
        "        self.classifier = nn.Sequential(nn.Flatten(),\n",
        "                          nn.Linear(256*7*7, 1024),\n",
        "                          nn.ReLU(),\n",
        "                          nn.Linear(256*2, NUM_CLASSES)\n",
        "        )\n",
        "\n",
        "    def forward(self, xb):\n",
        "        out = self.conv1(xb)\n",
        "        out = self.conv2(out)\n",
        "        out = self.res1(out) + out\n",
        "        out = self.conv3(out)\n",
        "        out = self.conv4(out)\n",
        "        out = self.res2(out) + out\n",
        "        out = torch.flatten(out, start_dim=1)\n",
        "        out = self.classifier(out)\n",
        "        return out\n",
        "\n",
        "    def training_step(self, batch):\n",
        "        images, label = batch\n",
        "        labels = torch.tensor([x-1 for x in label]).to(device)\n",
        "        out = self(images)\n",
        "        loss = F.cross_entropy(out, labels)\n",
        "        return loss\n",
        "\n",
        "    def validation_step(self, batch):\n",
        "        images, label = batch\n",
        "        labels = torch.tensor([x-1 for x in label]).to(device)\n",
        "        outputs = self(images)\n",
        "        loss = F.cross_entropy(outputs, labels)\n",
        "        _, preds = torch.max(outputs, dim=1)\n",
        "        accuracy = torch.tensor(torch.sum(preds == labels).item() / len(preds))\n",
        "        return {'val_loss': loss, 'val_acc': accuracy}\n",
        "\n",
        "    def validation_epoch_end(self, outputs):\n",
        "        batch_losses = [x['val_loss'] for x in outputs]\n",
        "        epoch_loss = torch.stack(batch_losses).mean()   # Combine losses\n",
        "        batch_accs = [x['val_acc'] for x in outputs]\n",
        "        epoch_acc = torch.stack(batch_accs).mean()      # Combine accuracies\n",
        "        return {'val_loss': epoch_loss.item(), 'val_acc': epoch_acc.item()}\n",
        "\n",
        "    def epoch_end(self, epoch, result):\n",
        "        print(\"Epoch [{}], val_loss: {:.4f}, train_loss: {:.4f}, val_acc: {:.4f}\".format(epoch, result['val_loss'], result['train_loss'], result['val_acc']))\n",
        "\n",
        "model = TeamModel()\n",
        "model"
      ],
      "metadata": {
        "colab": {
          "base_uri": "https://localhost:8080/"
        },
        "id": "qDr2KFOfedID",
        "outputId": "42be1ca8-4636-4610-9b6a-b69f8520d51c"
      },
      "execution_count": 25,
      "outputs": [
        {
          "output_type": "execute_result",
          "data": {
            "text/plain": [
              "TeamModel(\n",
              "  (conv1): Sequential(\n",
              "    (0): Conv2d(1, 32, kernel_size=(3, 3), stride=(1, 1), padding=(1, 1))\n",
              "    (1): BatchNorm2d(32, eps=1e-05, momentum=0.1, affine=True, track_running_stats=True)\n",
              "    (2): ReLU(inplace=True)\n",
              "  )\n",
              "  (conv2): Sequential(\n",
              "    (0): Conv2d(32, 64, kernel_size=(3, 3), stride=(1, 1), padding=(1, 1))\n",
              "    (1): BatchNorm2d(64, eps=1e-05, momentum=0.1, affine=True, track_running_stats=True)\n",
              "    (2): ReLU(inplace=True)\n",
              "    (3): MaxPool2d(kernel_size=1, stride=1, padding=0, dilation=1, ceil_mode=False)\n",
              "  )\n",
              "  (res1): Sequential(\n",
              "    (0): Conv2d(64, 64, kernel_size=(3, 3), stride=(1, 1), padding=(1, 1))\n",
              "    (1): ReLU(inplace=True)\n",
              "    (2): Conv2d(64, 64, kernel_size=(3, 3), stride=(1, 1), padding=(1, 1))\n",
              "    (3): ReLU(inplace=True)\n",
              "  )\n",
              "  (conv3): Sequential(\n",
              "    (0): Conv2d(64, 128, kernel_size=(3, 3), stride=(1, 1), padding=(1, 1))\n",
              "    (1): BatchNorm2d(128, eps=1e-05, momentum=0.1, affine=True, track_running_stats=True)\n",
              "    (2): ReLU(inplace=True)\n",
              "  )\n",
              "  (conv4): Sequential(\n",
              "    (0): Conv2d(128, 256, kernel_size=(3, 3), stride=(1, 1), padding=(1, 1))\n",
              "    (1): BatchNorm2d(256, eps=1e-05, momentum=0.1, affine=True, track_running_stats=True)\n",
              "    (2): ReLU(inplace=True)\n",
              "    (3): MaxPool2d(kernel_size=1, stride=1, padding=0, dilation=1, ceil_mode=False)\n",
              "  )\n",
              "  (res2): Sequential(\n",
              "    (0): Conv2d(256, 256, kernel_size=(3, 3), stride=(1, 1), padding=(1, 1))\n",
              "    (1): ReLU(inplace=True)\n",
              "    (2): Conv2d(256, 256, kernel_size=(3, 3), stride=(1, 1), padding=(1, 1))\n",
              "    (3): ReLU(inplace=True)\n",
              "  )\n",
              "  (classifier): Sequential(\n",
              "    (0): Flatten(start_dim=1, end_dim=-1)\n",
              "    (1): Linear(in_features=12544, out_features=1024, bias=True)\n",
              "    (2): ReLU()\n",
              "    (3): Linear(in_features=512, out_features=7, bias=True)\n",
              "  )\n",
              ")"
            ]
          },
          "metadata": {},
          "execution_count": 25
        }
      ]
    },
    {
      "cell_type": "markdown",
      "source": [
        "### 3.2 Create train & test loop functions"
      ],
      "metadata": {
        "id": "UhJ12DH4s5e9"
      }
    },
    {
      "cell_type": "code",
      "source": [
        "def train_step(model: torch.nn.Module,\n",
        "               dataloader: torch.utils.data.DataLoader,\n",
        "               loss_fn: torch.nn.Module,\n",
        "               optimizer: torch.optim.Optimizer):\n",
        "    model.train()\n",
        "    train_loss, train_acc = 0, 0\n",
        "    for batch, (X, y) in enumerate(dataloader):\n",
        "        X, y = X.to(device), y.to(device)\n",
        "        y_pred = model(X)\n",
        "        loss = loss_fn(y_pred, y); train_loss += loss.item()\n",
        "        optimizer.zero_grad()\n",
        "        loss.backward()\n",
        "        optimizer.step()\n",
        "\n",
        "        # Calculate and accumulate accuracy metric across all batches\n",
        "        y_pred_class = torch.argmax(torch.softmax(y_pred, dim=1), dim=1)\n",
        "        train_acc += (y_pred_class == y).sum().item()/len(y_pred)\n",
        "\n",
        "    # Adjust metrics to get average loss and accuracy per batch\n",
        "    train_loss = train_loss / len(dataloader)\n",
        "    train_acc = train_acc / len(dataloader)\n",
        "    return train_loss, train_acc"
      ],
      "metadata": {
        "id": "STiDLLG5pYQo"
      },
      "execution_count": 32,
      "outputs": []
    },
    {
      "cell_type": "code",
      "source": [
        "def test_step(model: torch.nn.Module,\n",
        "              dataloader: torch.utils.data.DataLoader,\n",
        "              loss_fn: torch.nn.Module):\n",
        "    model.eval()\n",
        "    test_loss, test_acc = 0, 0\n",
        "\n",
        "    with torch.inference_mode():\n",
        "        for batch, (X, y) in enumerate(dataloader):\n",
        "            X, y = X.to(device), y.to(device)\n",
        "            test_pred_logits = model(X)\n",
        "            loss = loss_fn(test_pred_logits, y); test_loss += loss.item()\n",
        "\n",
        "            # Calculate and accumulate accuracy\n",
        "            test_pred_labels = test_pred_logits.argmax(dim=1)\n",
        "            test_acc += ((test_pred_labels == y).sum().item()/len(test_pred_labels))\n",
        "\n",
        "    # Adjust metrics to get average loss and accuracy per batch\n",
        "    test_loss = test_loss / len(dataloader)\n",
        "    test_acc = test_acc / len(dataloader)\n",
        "    return test_loss, test_acc"
      ],
      "metadata": {
        "id": "88dCc3zMqCN1"
      },
      "execution_count": 33,
      "outputs": []
    },
    {
      "cell_type": "code",
      "execution_count": 34,
      "metadata": {
        "id": "YV-TAMy374l5"
      },
      "outputs": [],
      "source": [
        "def train(model: torch.nn.Module,\n",
        "          train_dataloader: torch.utils.data.DataLoader,\n",
        "          test_dataloader: torch.utils.data.DataLoader,\n",
        "          optimizer: torch.optim.Optimizer,\n",
        "          loss_fn: torch.nn.Module = nn.CrossEntropyLoss(),\n",
        "          epochs: int = 5):\n",
        "\n",
        "    results = {\"train_loss\": [],\n",
        "        \"train_acc\": [],\n",
        "        \"test_loss\": [],\n",
        "        \"test_acc\": []\n",
        "    }\n",
        "\n",
        "    # Loop through training and testing steps for a number of epochs\n",
        "    for epoch in tqdm(range(epochs)):\n",
        "        train_loss, train_acc = train_step(model=model,\n",
        "                                          dataloader=train_dataloader,\n",
        "                                          loss_fn=loss_fn,\n",
        "                                          optimizer=optimizer)\n",
        "        test_loss, test_acc = test_step(model=model,\n",
        "                                          dataloader=test_dataloader,\n",
        "                                          loss_fn=loss_fn)\n",
        "\n",
        "        print(\n",
        "            f\"Epoch: {epoch+1} | \"\n",
        "            f\"train_loss: {train_loss:.4f} | \"\n",
        "            f\"train_acc: {train_acc:.4f} | \"\n",
        "            f\"test_loss: {test_loss:.4f} | \"\n",
        "            f\"test_acc: {test_acc:.4f}\"\n",
        "        )\n",
        "\n",
        "        results[\"train_loss\"].append(train_loss)\n",
        "        results[\"train_acc\"].append(train_acc)\n",
        "        results[\"test_loss\"].append(test_loss)\n",
        "        results[\"test_acc\"].append(test_acc)\n",
        "\n",
        "    return results"
      ]
    },
    {
      "cell_type": "markdown",
      "source": [
        "### 3.2 Alternative"
      ],
      "metadata": {
        "id": "SEk-V1p72Vx0"
      }
    },
    {
      "cell_type": "code",
      "source": [
        "class TeamModel(nn.Module):\n",
        "    def __init__(self):\n",
        "        super().__init__()\n",
        "        self.conv1 = nn.Conv2d(DATALOADER_COLOR_CHANNELS, 3, 3, padding=1)\n",
        "        self.pool = nn.MaxPool2d(2, 2)\n",
        "        self.conv2 = nn.Conv2d(3, 16, 5)\n",
        "        #self.fc1 = nn.Linear(16*5*5, 120)          # TEAM\n",
        "        self.fc1 = nn.Linear(1280, 120)             # REMARKS\n",
        "        self.fc2 = nn.Linear(120, 84)\n",
        "        self.fc3 = nn.Linear(84, 10)\n",
        "\n",
        "    def forward(self, x):\n",
        "        x = self.pool(F.relu(self.conv1(x)))\n",
        "        x = self.pool(F.relu(self.conv2(x)))\n",
        "        x = torch.flatten(x, 1) # flatten all dimensions except batch\n",
        "        x = F.relu(self.fc1(x))\n",
        "        x = F.relu(self.fc2(x))\n",
        "        x = self.fc3(x)\n",
        "        return x\n",
        "\n",
        "\n",
        "model_0 = TeamModel().to(device)\n",
        "torch.manual_seed(42)\n",
        "torch.cuda.manual_seed(42)\n",
        "model_0"
      ],
      "metadata": {
        "colab": {
          "base_uri": "https://localhost:8080/"
        },
        "id": "thU-KCBg2ZTn",
        "outputId": "be3e3df7-cb9b-48e1-abc6-43a80fc7156f"
      },
      "execution_count": 44,
      "outputs": [
        {
          "output_type": "execute_result",
          "data": {
            "text/plain": [
              "TeamModel(\n",
              "  (conv1): Conv2d(1, 3, kernel_size=(3, 3), stride=(1, 1), padding=(1, 1))\n",
              "  (pool): MaxPool2d(kernel_size=2, stride=2, padding=0, dilation=1, ceil_mode=False)\n",
              "  (conv2): Conv2d(3, 16, kernel_size=(5, 5), stride=(1, 1))\n",
              "  (fc1): Linear(in_features=1280, out_features=120, bias=True)\n",
              "  (fc2): Linear(in_features=120, out_features=84, bias=True)\n",
              "  (fc3): Linear(in_features=84, out_features=10, bias=True)\n",
              ")"
            ]
          },
          "metadata": {},
          "execution_count": 44
        }
      ]
    },
    {
      "cell_type": "markdown",
      "source": [
        "### 3.3 Train model"
      ],
      "metadata": {
        "id": "2zjIk47KtCQm"
      }
    },
    {
      "cell_type": "code",
      "execution_count": 45,
      "metadata": {
        "id": "UOqycDcL74l5",
        "colab": {
          "base_uri": "https://localhost:8080/"
        },
        "outputId": "acc9a4fa-3f39-49ce-b399-a0904aa35e72"
      },
      "outputs": [
        {
          "output_type": "stream",
          "name": "stderr",
          "text": [
            "  2%|▏         | 1/50 [00:01<00:54,  1.12s/it]"
          ]
        },
        {
          "output_type": "stream",
          "name": "stdout",
          "text": [
            "Epoch: 1 | train_loss: 1.9463 | train_acc: 0.4057 | test_loss: 1.5297 | test_acc: 0.3631\n"
          ]
        },
        {
          "output_type": "stream",
          "name": "stderr",
          "text": [
            "\r  4%|▍         | 2/50 [00:01<00:30,  1.59it/s]"
          ]
        },
        {
          "output_type": "stream",
          "name": "stdout",
          "text": [
            "Epoch: 2 | train_loss: 1.5500 | train_acc: 0.3072 | test_loss: 1.4304 | test_acc: 0.3631\n"
          ]
        },
        {
          "output_type": "stream",
          "name": "stderr",
          "text": [
            "\r  6%|▌         | 3/50 [00:01<00:21,  2.17it/s]"
          ]
        },
        {
          "output_type": "stream",
          "name": "stdout",
          "text": [
            "Epoch: 3 | train_loss: 1.4850 | train_acc: 0.3201 | test_loss: 1.4268 | test_acc: 0.2478\n"
          ]
        },
        {
          "output_type": "stream",
          "name": "stderr",
          "text": [
            "\r  8%|▊         | 4/50 [00:01<00:17,  2.61it/s]"
          ]
        },
        {
          "output_type": "stream",
          "name": "stdout",
          "text": [
            "Epoch: 4 | train_loss: 1.4746 | train_acc: 0.3330 | test_loss: 1.3961 | test_acc: 0.3631\n"
          ]
        },
        {
          "output_type": "stream",
          "name": "stderr",
          "text": [
            "\r 10%|█         | 5/50 [00:02<00:15,  2.95it/s]"
          ]
        },
        {
          "output_type": "stream",
          "name": "stdout",
          "text": [
            "Epoch: 5 | train_loss: 1.4698 | train_acc: 0.3154 | test_loss: 1.4017 | test_acc: 0.2478\n"
          ]
        },
        {
          "output_type": "stream",
          "name": "stderr",
          "text": [
            "\r 12%|█▏        | 6/50 [00:02<00:13,  3.17it/s]"
          ]
        },
        {
          "output_type": "stream",
          "name": "stdout",
          "text": [
            "Epoch: 6 | train_loss: 1.4644 | train_acc: 0.3422 | test_loss: 1.3877 | test_acc: 0.2478\n"
          ]
        },
        {
          "output_type": "stream",
          "name": "stderr",
          "text": [
            "\r 14%|█▍        | 7/50 [00:02<00:12,  3.35it/s]"
          ]
        },
        {
          "output_type": "stream",
          "name": "stdout",
          "text": [
            "Epoch: 7 | train_loss: 1.4438 | train_acc: 0.3724 | test_loss: 1.3268 | test_acc: 0.5588\n"
          ]
        },
        {
          "output_type": "stream",
          "name": "stderr",
          "text": [
            "\r 16%|█▌        | 8/50 [00:02<00:12,  3.50it/s]"
          ]
        },
        {
          "output_type": "stream",
          "name": "stdout",
          "text": [
            "Epoch: 8 | train_loss: 1.3416 | train_acc: 0.4832 | test_loss: 1.1945 | test_acc: 0.5796\n"
          ]
        },
        {
          "output_type": "stream",
          "name": "stderr",
          "text": [
            "\r 18%|█▊        | 9/50 [00:03<00:13,  3.02it/s]"
          ]
        },
        {
          "output_type": "stream",
          "name": "stdout",
          "text": [
            "Epoch: 9 | train_loss: 1.1623 | train_acc: 0.5733 | test_loss: 1.0107 | test_acc: 0.5848\n"
          ]
        },
        {
          "output_type": "stream",
          "name": "stderr",
          "text": [
            "\r 20%|██        | 10/50 [00:03<00:15,  2.51it/s]"
          ]
        },
        {
          "output_type": "stream",
          "name": "stdout",
          "text": [
            "Epoch: 10 | train_loss: 1.0282 | train_acc: 0.5932 | test_loss: 0.8832 | test_acc: 0.6161\n"
          ]
        },
        {
          "output_type": "stream",
          "name": "stderr",
          "text": [
            "\r 22%|██▏       | 11/50 [00:04<00:15,  2.49it/s]"
          ]
        },
        {
          "output_type": "stream",
          "name": "stdout",
          "text": [
            "Epoch: 11 | train_loss: 0.8759 | train_acc: 0.6541 | test_loss: 0.8577 | test_acc: 0.6109\n"
          ]
        },
        {
          "output_type": "stream",
          "name": "stderr",
          "text": [
            "\r 24%|██▍       | 12/50 [00:04<00:15,  2.51it/s]"
          ]
        },
        {
          "output_type": "stream",
          "name": "stdout",
          "text": [
            "Epoch: 12 | train_loss: 0.8310 | train_acc: 0.6791 | test_loss: 0.7430 | test_acc: 0.7165\n"
          ]
        },
        {
          "output_type": "stream",
          "name": "stderr",
          "text": [
            "\r 26%|██▌       | 13/50 [00:05<00:14,  2.47it/s]"
          ]
        },
        {
          "output_type": "stream",
          "name": "stdout",
          "text": [
            "Epoch: 13 | train_loss: 0.7664 | train_acc: 0.7159 | test_loss: 0.6900 | test_acc: 0.7165\n"
          ]
        },
        {
          "output_type": "stream",
          "name": "stderr",
          "text": [
            "\r 28%|██▊       | 14/50 [00:05<00:14,  2.51it/s]"
          ]
        },
        {
          "output_type": "stream",
          "name": "stdout",
          "text": [
            "Epoch: 14 | train_loss: 0.7440 | train_acc: 0.7082 | test_loss: 0.6973 | test_acc: 0.7076\n"
          ]
        },
        {
          "output_type": "stream",
          "name": "stderr",
          "text": [
            "\r 30%|███       | 15/50 [00:05<00:13,  2.68it/s]"
          ]
        },
        {
          "output_type": "stream",
          "name": "stdout",
          "text": [
            "Epoch: 15 | train_loss: 0.7333 | train_acc: 0.6946 | test_loss: 0.7526 | test_acc: 0.6942\n"
          ]
        },
        {
          "output_type": "stream",
          "name": "stderr",
          "text": [
            "\r 32%|███▏      | 16/50 [00:06<00:11,  2.95it/s]"
          ]
        },
        {
          "output_type": "stream",
          "name": "stdout",
          "text": [
            "Epoch: 16 | train_loss: 0.6776 | train_acc: 0.7532 | test_loss: 0.6841 | test_acc: 0.7426\n"
          ]
        },
        {
          "output_type": "stream",
          "name": "stderr",
          "text": [
            "\r 34%|███▍      | 17/50 [00:06<00:10,  3.15it/s]"
          ]
        },
        {
          "output_type": "stream",
          "name": "stdout",
          "text": [
            "Epoch: 17 | train_loss: 0.7076 | train_acc: 0.7589 | test_loss: 0.6736 | test_acc: 0.7493\n"
          ]
        },
        {
          "output_type": "stream",
          "name": "stderr",
          "text": [
            "\r 36%|███▌      | 18/50 [00:06<00:09,  3.31it/s]"
          ]
        },
        {
          "output_type": "stream",
          "name": "stdout",
          "text": [
            "Epoch: 18 | train_loss: 0.5941 | train_acc: 0.7902 | test_loss: 0.5881 | test_acc: 0.8118\n"
          ]
        },
        {
          "output_type": "stream",
          "name": "stderr",
          "text": [
            "\r 38%|███▊      | 19/50 [00:06<00:08,  3.46it/s]"
          ]
        },
        {
          "output_type": "stream",
          "name": "stdout",
          "text": [
            "Epoch: 19 | train_loss: 0.5838 | train_acc: 0.8020 | test_loss: 0.5471 | test_acc: 0.8065\n"
          ]
        },
        {
          "output_type": "stream",
          "name": "stderr",
          "text": [
            "\r 40%|████      | 20/50 [00:07<00:08,  3.59it/s]"
          ]
        },
        {
          "output_type": "stream",
          "name": "stdout",
          "text": [
            "Epoch: 20 | train_loss: 0.5343 | train_acc: 0.8206 | test_loss: 0.5399 | test_acc: 0.8065\n"
          ]
        },
        {
          "output_type": "stream",
          "name": "stderr",
          "text": [
            "\r 42%|████▏     | 21/50 [00:07<00:08,  3.61it/s]"
          ]
        },
        {
          "output_type": "stream",
          "name": "stdout",
          "text": [
            "Epoch: 21 | train_loss: 0.4869 | train_acc: 0.8490 | test_loss: 0.5579 | test_acc: 0.8185\n"
          ]
        },
        {
          "output_type": "stream",
          "name": "stderr",
          "text": [
            "\r 44%|████▍     | 22/50 [00:07<00:07,  3.64it/s]"
          ]
        },
        {
          "output_type": "stream",
          "name": "stdout",
          "text": [
            "Epoch: 22 | train_loss: 0.5181 | train_acc: 0.8482 | test_loss: 0.5272 | test_acc: 0.8118\n"
          ]
        },
        {
          "output_type": "stream",
          "name": "stderr",
          "text": [
            "\r 46%|████▌     | 23/50 [00:08<00:07,  3.64it/s]"
          ]
        },
        {
          "output_type": "stream",
          "name": "stdout",
          "text": [
            "Epoch: 23 | train_loss: 0.5191 | train_acc: 0.8157 | test_loss: 0.7606 | test_acc: 0.7374\n"
          ]
        },
        {
          "output_type": "stream",
          "name": "stderr",
          "text": [
            "\r 48%|████▊     | 24/50 [00:08<00:07,  3.68it/s]"
          ]
        },
        {
          "output_type": "stream",
          "name": "stdout",
          "text": [
            "Epoch: 24 | train_loss: 0.5216 | train_acc: 0.8262 | test_loss: 0.4882 | test_acc: 0.8274\n"
          ]
        },
        {
          "output_type": "stream",
          "name": "stderr",
          "text": [
            "\r 50%|█████     | 25/50 [00:08<00:06,  3.70it/s]"
          ]
        },
        {
          "output_type": "stream",
          "name": "stdout",
          "text": [
            "Epoch: 25 | train_loss: 0.4546 | train_acc: 0.8564 | test_loss: 0.4815 | test_acc: 0.8326\n"
          ]
        },
        {
          "output_type": "stream",
          "name": "stderr",
          "text": [
            "\r 52%|█████▏    | 26/50 [00:08<00:06,  3.67it/s]"
          ]
        },
        {
          "output_type": "stream",
          "name": "stdout",
          "text": [
            "Epoch: 26 | train_loss: 0.4129 | train_acc: 0.8758 | test_loss: 0.4940 | test_acc: 0.8289\n"
          ]
        },
        {
          "output_type": "stream",
          "name": "stderr",
          "text": [
            "\r 54%|█████▍    | 27/50 [00:09<00:06,  3.72it/s]"
          ]
        },
        {
          "output_type": "stream",
          "name": "stdout",
          "text": [
            "Epoch: 27 | train_loss: 0.4082 | train_acc: 0.8703 | test_loss: 0.4962 | test_acc: 0.8118\n"
          ]
        },
        {
          "output_type": "stream",
          "name": "stderr",
          "text": [
            "\r 56%|█████▌    | 28/50 [00:09<00:05,  3.75it/s]"
          ]
        },
        {
          "output_type": "stream",
          "name": "stdout",
          "text": [
            "Epoch: 28 | train_loss: 0.3956 | train_acc: 0.8739 | test_loss: 0.4750 | test_acc: 0.8274\n"
          ]
        },
        {
          "output_type": "stream",
          "name": "stderr",
          "text": [
            "\r 58%|█████▊    | 29/50 [00:09<00:05,  3.67it/s]"
          ]
        },
        {
          "output_type": "stream",
          "name": "stdout",
          "text": [
            "Epoch: 29 | train_loss: 0.3935 | train_acc: 0.8860 | test_loss: 0.4943 | test_acc: 0.8549\n"
          ]
        },
        {
          "output_type": "stream",
          "name": "stderr",
          "text": [
            "\r 60%|██████    | 30/50 [00:09<00:05,  3.69it/s]"
          ]
        },
        {
          "output_type": "stream",
          "name": "stdout",
          "text": [
            "Epoch: 30 | train_loss: 0.3591 | train_acc: 0.8915 | test_loss: 0.4672 | test_acc: 0.8341\n"
          ]
        },
        {
          "output_type": "stream",
          "name": "stderr",
          "text": [
            "\r 62%|██████▏   | 31/50 [00:10<00:05,  3.76it/s]"
          ]
        },
        {
          "output_type": "stream",
          "name": "stdout",
          "text": [
            "Epoch: 31 | train_loss: 0.3328 | train_acc: 0.8897 | test_loss: 0.4718 | test_acc: 0.8274\n"
          ]
        },
        {
          "output_type": "stream",
          "name": "stderr",
          "text": [
            "\r 64%|██████▍   | 32/50 [00:10<00:04,  3.74it/s]"
          ]
        },
        {
          "output_type": "stream",
          "name": "stdout",
          "text": [
            "Epoch: 32 | train_loss: 0.3361 | train_acc: 0.8842 | test_loss: 0.4712 | test_acc: 0.8222\n"
          ]
        },
        {
          "output_type": "stream",
          "name": "stderr",
          "text": [
            "\r 66%|██████▌   | 33/50 [00:10<00:04,  3.71it/s]"
          ]
        },
        {
          "output_type": "stream",
          "name": "stdout",
          "text": [
            "Epoch: 33 | train_loss: 0.3185 | train_acc: 0.8813 | test_loss: 0.4623 | test_acc: 0.8512\n"
          ]
        },
        {
          "output_type": "stream",
          "name": "stderr",
          "text": [
            "\r 68%|██████▊   | 34/50 [00:10<00:04,  3.77it/s]"
          ]
        },
        {
          "output_type": "stream",
          "name": "stdout",
          "text": [
            "Epoch: 34 | train_loss: 0.3310 | train_acc: 0.8923 | test_loss: 0.6635 | test_acc: 0.7634\n"
          ]
        },
        {
          "output_type": "stream",
          "name": "stderr",
          "text": [
            "\r 70%|███████   | 35/50 [00:11<00:03,  3.77it/s]"
          ]
        },
        {
          "output_type": "stream",
          "name": "stdout",
          "text": [
            "Epoch: 35 | train_loss: 0.3641 | train_acc: 0.8640 | test_loss: 0.4917 | test_acc: 0.8222\n"
          ]
        },
        {
          "output_type": "stream",
          "name": "stderr",
          "text": [
            "\r 72%|███████▏  | 36/50 [00:11<00:03,  3.74it/s]"
          ]
        },
        {
          "output_type": "stream",
          "name": "stdout",
          "text": [
            "Epoch: 36 | train_loss: 0.3193 | train_acc: 0.8887 | test_loss: 0.4482 | test_acc: 0.8445\n"
          ]
        },
        {
          "output_type": "stream",
          "name": "stderr",
          "text": [
            "\r 74%|███████▍  | 37/50 [00:11<00:03,  3.65it/s]"
          ]
        },
        {
          "output_type": "stream",
          "name": "stdout",
          "text": [
            "Epoch: 37 | train_loss: 0.2915 | train_acc: 0.9173 | test_loss: 0.4364 | test_acc: 0.8534\n"
          ]
        },
        {
          "output_type": "stream",
          "name": "stderr",
          "text": [
            "\r 76%|███████▌  | 38/50 [00:12<00:03,  3.69it/s]"
          ]
        },
        {
          "output_type": "stream",
          "name": "stdout",
          "text": [
            "Epoch: 38 | train_loss: 0.3249 | train_acc: 0.8986 | test_loss: 0.4039 | test_acc: 0.8497\n"
          ]
        },
        {
          "output_type": "stream",
          "name": "stderr",
          "text": [
            "\r 78%|███████▊  | 39/50 [00:12<00:02,  3.75it/s]"
          ]
        },
        {
          "output_type": "stream",
          "name": "stdout",
          "text": [
            "Epoch: 39 | train_loss: 0.2819 | train_acc: 0.9099 | test_loss: 0.5095 | test_acc: 0.8013\n"
          ]
        },
        {
          "output_type": "stream",
          "name": "stderr",
          "text": [
            "\r 80%|████████  | 40/50 [00:12<00:02,  3.76it/s]"
          ]
        },
        {
          "output_type": "stream",
          "name": "stdout",
          "text": [
            "Epoch: 40 | train_loss: 0.2617 | train_acc: 0.9034 | test_loss: 0.4118 | test_acc: 0.8601\n"
          ]
        },
        {
          "output_type": "stream",
          "name": "stderr",
          "text": [
            "\r 82%|████████▏ | 41/50 [00:12<00:02,  3.72it/s]"
          ]
        },
        {
          "output_type": "stream",
          "name": "stdout",
          "text": [
            "Epoch: 41 | train_loss: 0.2468 | train_acc: 0.9283 | test_loss: 0.4116 | test_acc: 0.8549\n"
          ]
        },
        {
          "output_type": "stream",
          "name": "stderr",
          "text": [
            "\r 84%|████████▍ | 42/50 [00:13<00:02,  3.79it/s]"
          ]
        },
        {
          "output_type": "stream",
          "name": "stdout",
          "text": [
            "Epoch: 42 | train_loss: 0.2524 | train_acc: 0.9099 | test_loss: 0.4514 | test_acc: 0.8341\n"
          ]
        },
        {
          "output_type": "stream",
          "name": "stderr",
          "text": [
            "\r 86%|████████▌ | 43/50 [00:13<00:01,  3.83it/s]"
          ]
        },
        {
          "output_type": "stream",
          "name": "stdout",
          "text": [
            "Epoch: 43 | train_loss: 0.2973 | train_acc: 0.8700 | test_loss: 0.3846 | test_acc: 0.8497\n"
          ]
        },
        {
          "output_type": "stream",
          "name": "stderr",
          "text": [
            "\r 88%|████████▊ | 44/50 [00:13<00:01,  3.73it/s]"
          ]
        },
        {
          "output_type": "stream",
          "name": "stdout",
          "text": [
            "Epoch: 44 | train_loss: 0.2494 | train_acc: 0.9107 | test_loss: 0.4266 | test_acc: 0.8445\n"
          ]
        },
        {
          "output_type": "stream",
          "name": "stderr",
          "text": [
            "\r 90%|█████████ | 45/50 [00:13<00:01,  3.72it/s]"
          ]
        },
        {
          "output_type": "stream",
          "name": "stdout",
          "text": [
            "Epoch: 45 | train_loss: 0.2446 | train_acc: 0.9217 | test_loss: 0.3733 | test_acc: 0.8720\n"
          ]
        },
        {
          "output_type": "stream",
          "name": "stderr",
          "text": [
            "\r 92%|█████████▏| 46/50 [00:14<00:01,  3.77it/s]"
          ]
        },
        {
          "output_type": "stream",
          "name": "stdout",
          "text": [
            "Epoch: 46 | train_loss: 0.2325 | train_acc: 0.9181 | test_loss: 0.3877 | test_acc: 0.8653\n"
          ]
        },
        {
          "output_type": "stream",
          "name": "stderr",
          "text": [
            "\r 94%|█████████▍| 47/50 [00:14<00:00,  3.79it/s]"
          ]
        },
        {
          "output_type": "stream",
          "name": "stdout",
          "text": [
            "Epoch: 47 | train_loss: 0.1863 | train_acc: 0.9375 | test_loss: 0.3849 | test_acc: 0.8720\n"
          ]
        },
        {
          "output_type": "stream",
          "name": "stderr",
          "text": [
            "\r 96%|█████████▌| 48/50 [00:14<00:00,  3.72it/s]"
          ]
        },
        {
          "output_type": "stream",
          "name": "stdout",
          "text": [
            "Epoch: 48 | train_loss: 0.1974 | train_acc: 0.9338 | test_loss: 0.3555 | test_acc: 0.8616\n"
          ]
        },
        {
          "output_type": "stream",
          "name": "stderr",
          "text": [
            "\r 98%|█████████▊| 49/50 [00:14<00:00,  3.69it/s]"
          ]
        },
        {
          "output_type": "stream",
          "name": "stdout",
          "text": [
            "Epoch: 49 | train_loss: 0.1968 | train_acc: 0.9412 | test_loss: 0.3500 | test_acc: 0.8876\n"
          ]
        },
        {
          "output_type": "stream",
          "name": "stderr",
          "text": [
            "100%|██████████| 50/50 [00:15<00:00,  3.28it/s]"
          ]
        },
        {
          "output_type": "stream",
          "name": "stdout",
          "text": [
            "Epoch: 50 | train_loss: 0.1723 | train_acc: 0.9485 | test_loss: 0.3456 | test_acc: 0.8876\n",
            "Total training time: 15.240 seconds\n"
          ]
        },
        {
          "output_type": "stream",
          "name": "stderr",
          "text": [
            "\n"
          ]
        }
      ],
      "source": [
        "optimizer = torch.optim.Adam(params=model_0.parameters(), lr=0.001)\n",
        "loss_fn = nn.CrossEntropyLoss()\n",
        "NUM_EPOCHS = 50\n",
        "\n",
        "start_time = timer()\n",
        "model_0_results = train(model=model_0,\n",
        "                        train_dataloader=train_dataloader,\n",
        "                        test_dataloader=test_dataloader,\n",
        "                        optimizer=optimizer,\n",
        "                        loss_fn=loss_fn,\n",
        "                        epochs=NUM_EPOCHS)\n",
        "end_time = timer()\n",
        "print(f\"Total training time: {end_time-start_time:.3f} seconds\")"
      ]
    },
    {
      "cell_type": "markdown",
      "source": [
        "## 4. Evaluate Model"
      ],
      "metadata": {
        "id": "n3viTR-yfDIb"
      }
    },
    {
      "cell_type": "markdown",
      "source": [
        "### 4.0 Functions"
      ],
      "metadata": {
        "id": "Z_Db4qyUV4-R"
      }
    },
    {
      "cell_type": "code",
      "execution_count": 46,
      "metadata": {
        "id": "_Zg7O3_S74l5"
      },
      "outputs": [],
      "source": [
        "def plot_loss_curves(results: Dict[str, List[float]]):\n",
        "    loss = results['train_loss']\n",
        "    test_loss = results['test_loss']\n",
        "    accuracy = results['train_acc']\n",
        "    test_accuracy = results['test_acc']\n",
        "    epochs = range(len(results['train_loss']))\n",
        "\n",
        "    plt.figure(figsize=(15, 7))\n",
        "\n",
        "    plt.subplot(1, 2, 1)\n",
        "    plt.title('Loss'); plt.xlabel('Epochs')\n",
        "    plt.plot(epochs, loss, label='train_loss')\n",
        "    plt.plot(epochs, test_loss, label='test_loss')\n",
        "    plt.legend()\n",
        "\n",
        "    plt.subplot(1, 2, 2)\n",
        "    plt.title('Accuracy'); plt.xlabel('Epochs')\n",
        "    plt.plot(epochs, accuracy, label='train_accuracy')\n",
        "    plt.plot(epochs, test_accuracy, label='test_accuracy')\n",
        "    plt.legend()"
      ]
    },
    {
      "cell_type": "markdown",
      "source": [
        "### 4.1 Plot loss and accuracy curves"
      ],
      "metadata": {
        "id": "jtdHDTzqV8US"
      }
    },
    {
      "cell_type": "code",
      "source": [
        "plot_loss_curves(model_0_results)"
      ],
      "metadata": {
        "colab": {
          "base_uri": "https://localhost:8080/",
          "height": 641
        },
        "id": "I_NOup-Ntnng",
        "outputId": "2b3b3950-b3fc-4315-e3db-e97647e2b81c"
      },
      "execution_count": 47,
      "outputs": [
        {
          "output_type": "display_data",
          "data": {
            "text/plain": [
              "<Figure size 1500x700 with 2 Axes>"
            ],
            "image/png": "[encoded data removed]"
          },
          "metadata": {}
        }
      ]
    },
    {
      "cell_type": "markdown",
      "source": [
        "## 5. Predict"
      ],
      "metadata": {
        "id": "8WmGkhWdb6Ay"
      }
    },
    {
      "cell_type": "markdown",
      "source": [
        "### 5.0 Functions"
      ],
      "metadata": {
        "id": "hlQmglA7VnXG"
      }
    },
    {
      "cell_type": "code",
      "execution_count": 48,
      "metadata": {
        "id": "L8EWXfNC74l9"
      },
      "outputs": [],
      "source": [
        "def pred_and_plot_image(model: torch.nn.Module,\n",
        "                        image,\n",
        "                        class_names: List[str] = None,\n",
        "                        transform=None,\n",
        "                        device: torch.device = device):\n",
        "\n",
        "    #target_image = torchvision.io.read_image(str(image_path)).type(torch.float32)\n",
        "    #target_image = target_image / 255.\n",
        "\n",
        "    if transform:\n",
        "        target_image = transform(image)\n",
        "\n",
        "    model.to(device)\n",
        "\n",
        "    model.eval()\n",
        "    with torch.inference_mode():\n",
        "        target_image = target_image.unsqueeze(dim=0) # add an extra dimension to image\n",
        "        target_image_pred = model(target_image.to(device))\n",
        "\n",
        "    target_image_pred_probs = torch.softmax(target_image_pred, dim=1) # convert logits --> prediction probabilities\n",
        "    target_image_pred_label = torch.argmax(target_image_pred_probs, dim=1) # convert prediction probabilities --> prediction labels\n",
        "\n",
        "    plt.imshow(target_image.squeeze(), cmap='gray')\n",
        "    if class_names:\n",
        "        title = f\"Pred: {class_names[target_image_pred_label.cpu()]} | Prob: {target_image_pred_probs.max().cpu():.3f}\"\n",
        "    else:\n",
        "        title = f\"Pred: {target_image_pred_label} | Prob: {target_image_pred_probs.max().cpu():.3f}\"\n",
        "    plt.title(title)\n",
        "    plt.axis(False);"
      ]
    },
    {
      "cell_type": "markdown",
      "source": [
        "### 5.1 Predict and plot custom image"
      ],
      "metadata": {
        "id": "sN63zPBcVq61"
      }
    },
    {
      "cell_type": "code",
      "source": [
        "#custom_image_path = '/content/train/log10_1_13_png.rf.176317535a239d11565e2c35d557b700.jpg'\n",
        "#print(custom_image_path)\n",
        "#custom_image = torchvision.io.read_image(str(custom_image_path)).type(torch.float32)\n",
        "#custom_image = custom_image / 255.\n",
        "import random\n",
        "image, label = random.choice(validate)\n",
        "plt.imshow(image.squeeze(), cmap='gray')\n",
        "plt.title(classes[label])\n",
        "plt.axis(False);\n",
        "\n",
        "custom_image_transform = transforms.Compose([\n",
        "    transforms.Lambda((lambda x: x[:3])),\n",
        "    transforms.Resize((DATALOADER_HEIGHT, DATALOADER_WIDTH)),\n",
        "    transforms.Grayscale(num_output_channels=1)\n",
        "])\n",
        "\n",
        "pred_and_plot_image(model=model_0,\n",
        "                    image=image,\n",
        "                    class_names=classes,\n",
        "                    transform=custom_image_transform,\n",
        "                    device=device)"
      ],
      "metadata": {
        "colab": {
          "base_uri": "https://localhost:8080/",
          "height": 249
        },
        "id": "wCJ46Taszp6L",
        "outputId": "659c91e8-df36-41aa-bed8-87c2c5e84962"
      },
      "execution_count": 92,
      "outputs": [
        {
          "output_type": "display_data",
          "data": {
            "text/plain": [
              "<Figure size 640x480 with 1 Axes>"
            ],
            "image/png": "[encoded data removed]"
          },
          "metadata": {}
        }
      ]
    },
    {
      "cell_type": "markdown",
      "source": [
        "### 5.2 Save model"
      ],
      "metadata": {
        "id": "3Vh874B3FVSO"
      }
    },
    {
      "cell_type": "code",
      "source": [
        "save_model = torch.jit.script(model_0)\n",
        "save_model.save('remarks_model.pt')"
      ],
      "metadata": {
        "id": "VIiUtYknFYoK"
      },
      "execution_count": 93,
      "outputs": []
    }
  ]
}