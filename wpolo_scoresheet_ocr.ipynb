{
  "cells": [
    {
      "cell_type": "markdown",
      "metadata": {
        "id": "view-in-github",
        "colab_type": "text"
      },
      "source": [
        "<a href=\"https://colab.research.google.com/github/cjkreienkamp/wpolo-scoresheet-ocr/blob/main/wpolo_scoresheet_ocr.ipynb\" target=\"_parent\"><img src=\"https://colab.research.google.com/assets/colab-badge.svg\" alt=\"Open In Colab\"/></a>"
      ]
    },
    {
      "cell_type": "code",
      "execution_count": null,
      "metadata": {
        "colab": {
          "base_uri": "https://localhost:8080/"
        },
        "id": "9VSsAZe4az76",
        "outputId": "2463ecea-407a-4ba9-8d1c-94b975970938",
        "collapsed": true
      },
      "outputs": [
        {
          "output_type": "stream",
          "name": "stdout",
          "text": [
            "Requirement already satisfied: pytesseract in /usr/local/lib/python3.10/dist-packages (0.3.10)\n",
            "Requirement already satisfied: opencv-python in /usr/local/lib/python3.10/dist-packages (4.10.0.84)\n",
            "Requirement already satisfied: openpyxl in /usr/local/lib/python3.10/dist-packages (3.1.5)\n",
            "Requirement already satisfied: packaging>=21.3 in /usr/local/lib/python3.10/dist-packages (from pytesseract) (24.1)\n",
            "Requirement already satisfied: Pillow>=8.0.0 in /usr/local/lib/python3.10/dist-packages (from pytesseract) (9.4.0)\n",
            "Requirement already satisfied: numpy>=1.21.2 in /usr/local/lib/python3.10/dist-packages (from opencv-python) (1.25.2)\n",
            "Requirement already satisfied: et-xmlfile in /usr/local/lib/python3.10/dist-packages (from openpyxl) (1.1.0)\n",
            "Reading package lists... Done\n",
            "Building dependency tree... Done\n",
            "Reading state information... Done\n",
            "tesseract-ocr is already the newest version (4.1.1-2.1build1).\n",
            "0 upgraded, 0 newly installed, 0 to remove and 45 not upgraded.\n"
          ]
        }
      ],
      "source": [
        "!pip install pytesseract opencv-python openpyxl\n",
        "!sudo apt-get install tesseract-ocr"
      ]
    },
    {
      "cell_type": "code",
      "execution_count": null,
      "metadata": {
        "id": "sRlwVzVBcWU6"
      },
      "outputs": [],
      "source": [
        "import cv2\n",
        "import numpy as np"
      ]
    },
    {
      "cell_type": "code",
      "source": [
        "def draw_lines(img, hough_lines, color=(0,0,255), thickness=2):\n",
        "  if hough_lines is not None:\n",
        "    for line in hough_lines:\n",
        "      for rho,theta in line:\n",
        "        a = np.cos(theta)\n",
        "        b = np.sin(theta)\n",
        "        x0 = a*rho\n",
        "        y0 = b*rho\n",
        "        pt1 = (int(x0 + 1000*(-b)), int(y0 + 1000*(a)))\n",
        "        pt2 = (int(x0 - 1000*(-b)), int(y0 - 1000*(a)))\n",
        "\n",
        "        cv2.line(img,pt1,pt2,color,thickness)"
      ],
      "metadata": {
        "id": "JnNVY989FIyw"
      },
      "execution_count": null,
      "outputs": []
    },
    {
      "cell_type": "markdown",
      "source": [
        "1. rotate image using lines\n",
        "2. read in cap data\n",
        "3. read in team data\n",
        "4. read in remark\n",
        "5. read in score\n",
        "6. read in time\n",
        "7. read in column\n",
        "8. read in entire game log\n",
        "9. locate position on page by comparing it to other game sheets, we should have an expected size for that area"
      ],
      "metadata": {
        "id": "Mfwbqo2tPzAe"
      }
    },
    {
      "cell_type": "code",
      "execution_count": null,
      "metadata": {
        "id": "NTJ369I4ca1S",
        "colab": {
          "base_uri": "https://localhost:8080/"
        },
        "outputId": "dc5b809a-c2b1-46c2-d55e-a8ddbe0a9757"
      },
      "outputs": [
        {
          "output_type": "execute_result",
          "data": {
            "text/plain": [
              "True"
            ]
          },
          "metadata": {},
          "execution_count": 95
        }
      ],
      "source": [
        "image = cv2.imread('data/gamelog_capnumber.png')\n",
        "cv2.imwrite('image.png',image)\n",
        "\n",
        "gray_image = cv2.cvtColor(image, cv2.COLOR_BGR2GRAY)\n",
        "cv2.imwrite('gray_image.png', gray_image)\n",
        "\n",
        "_, binary_image = cv2.threshold(gray_image, 128, 255, cv2.THRESH_BINARY_INV + cv2.THRESH_OTSU)\n",
        "cv2.imwrite('binary_image.png', binary_image)\n",
        "\n",
        "canny_edges = cv2.Canny(binary_image, 100, 200, None, 3)\n",
        "cv2.imwrite('canny_edges.png',canny_edges)\n",
        "\n",
        "# difficult to know the 150 value!\n",
        "hough_lines = cv2.HoughLines(canny_edges, 1 , np.pi/180 , 150)\n",
        "image_w_lines = image.copy()\n",
        "draw_lines(image_w_lines, hough_lines)\n",
        "cv2.imwrite('hough_lines.png',image_w_lines)"
      ]
    },
    {
      "cell_type": "code",
      "source": [
        "angle_sum = 0\n",
        "angle_average = 0\n",
        "if hough_lines is not None:\n",
        "    for line in hough_lines:\n",
        "      for rho,theta in line:\n",
        "        angle_offcenter = min(abs(theta), abs(theta - np.pi/2))\n",
        "        angle_sum += angle_offcenter\n",
        "    angle_average = angle_sum / len(hough_lines)\n",
        "\n",
        "(height, width) = image.shape[:2]\n",
        "center = (width / 2, height / 2)\n",
        "rotate_matrix = cv2.getRotationMatrix2D(center, angle_average*180/np.pi, 1)\n",
        "\n",
        "rotated = cv2.warpAffine(image, rotate_matrix, dsize=(width, height))\n",
        "cv2.imwrite('rotated.png',rotated)"
      ],
      "metadata": {
        "colab": {
          "base_uri": "https://localhost:8080/"
        },
        "id": "-OYGSJT1G1NL",
        "outputId": "c43a1569-fe8e-4918-f98b-68fa1a551e64"
      },
      "execution_count": null,
      "outputs": [
        {
          "output_type": "execute_result",
          "data": {
            "text/plain": [
              "True"
            ]
          },
          "metadata": {},
          "execution_count": 97
        }
      ]
    },
    {
      "cell_type": "code",
      "source": [
        "kernel = cv2.getStructuringElement(cv2.MORPH_RECT, (2, 2)) # create a 2x2 kernel\n",
        "dilate_erode = cv2.erode(binary_image, kernel, iterations=1) # apply the erode function with the kernel\n",
        "cv2.imwrite('dilate_erode.png',dilate_erode)\n",
        "text = pytesseract.image_to_string(binary_image)\n",
        "print(text)"
      ],
      "metadata": {
        "colab": {
          "base_uri": "https://localhost:8080/"
        },
        "id": "VDyNs4Y9cuUS",
        "outputId": "9e803b62-cd7e-4d97-91b8-73e5f3b188ee"
      },
      "execution_count": null,
      "outputs": [
        {
          "output_type": "stream",
          "name": "stdout",
          "text": [
            "\f\n"
          ]
        }
      ]
    },
    {
      "cell_type": "code",
      "source": [
        "import pytesseract\n",
        "\n",
        "image_RGB = cv2.cvtColor(dilate_erode, cv2.COLOR_BGR2RGB)\n",
        "text = pytesseract.image_to_string(dilate_erode)\n",
        "print(text)"
      ],
      "metadata": {
        "colab": {
          "base_uri": "https://localhost:8080/"
        },
        "id": "6tOIfhyAYhgW",
        "outputId": "ea8d0c27-b600-4434-b6a2-5fa83124ad8b"
      },
      "execution_count": null,
      "outputs": [
        {
          "output_type": "stream",
          "name": "stdout",
          "text": [
            "\f\n"
          ]
        }
      ]
    },
    {
      "cell_type": "markdown",
      "source": [
        "# Unused Code"
      ],
      "metadata": {
        "id": "z7bmpWi26-P0"
      }
    },
    {
      "cell_type": "code",
      "source": [
        "\n",
        "\n",
        "image_w_lines = image.copy()\n",
        "# how can we choose the best value of 150...higher values make less lines detected\n",
        "hough_lines = cv2.HoughLinesP(canny_edges, 1, np.pi / 180, 150, None, 150, 10)\n",
        "\n",
        "for line in hough_lines:\n",
        "    l = line[0]\n",
        "    cv2.line(image_w_lines, (l[0], l[1]), (l[2], l[3]), (0,0,255), 3, cv2.LINE_AA)\n",
        "cv2.imwrite('hough_lines.png',image_w_lines)"
      ],
      "metadata": {
        "id": "OD1ICHiZ4OKU"
      },
      "execution_count": null,
      "outputs": []
    },
    {
      "cell_type": "code",
      "source": [
        "from scipy.ndimage import interpolation as inter\n",
        "\n",
        "def correct_skew(image, delta=1, limit=5):\n",
        "    def determine_score(arr, angle):\n",
        "        data = inter.rotate(arr, angle, reshape=False, order=0)\n",
        "        histogram = np.sum(data, axis=1, dtype=float)\n",
        "        score = np.sum((histogram[1:] - histogram[:-1]) ** 2, dtype=float)\n",
        "        return histogram, score\n",
        "\n",
        "    gray = cv2.cvtColor(image, cv2.COLOR_BGR2GRAY)\n",
        "    thresh = cv2.threshold(gray, 0, 255, cv2.THRESH_BINARY_INV + cv2.THRESH_OTSU)[1]\n",
        "\n",
        "    scores = []\n",
        "    angles = np.arange(-limit, limit + delta, delta)\n",
        "    for angle in angles:\n",
        "        histogram, score = determine_score(thresh, angle)\n",
        "        scores.append(score)\n",
        "\n",
        "    best_angle = angles[scores.index(max(scores))]\n",
        "\n",
        "    (h, w) = image.shape[:2]\n",
        "    center = (w // 2, h // 2)\n",
        "    M = cv2.getRotationMatrix2D(center, best_angle, 1.0)\n",
        "    corrected = cv2.warpAffine(image, M, (w, h), flags=cv2.INTER_CUBIC, \\\n",
        "            borderMode=cv2.BORDER_REPLICATE)\n",
        "\n",
        "    return best_angle, corrected"
      ],
      "metadata": {
        "id": "h85GKIHW66Ca"
      },
      "execution_count": null,
      "outputs": []
    },
    {
      "cell_type": "code",
      "source": [
        "image = cv2.imread('gamelog_1col.png')\n",
        "angle, corrected = correct_skew(image)\n",
        "print('Skew angle:', angle)\n",
        "cv2.imwrite('corrected.png', corrected)"
      ],
      "metadata": {
        "colab": {
          "base_uri": "https://localhost:8080/"
        },
        "id": "zrRbDLNT7IrF",
        "outputId": "b06eec4f-b832-4b8e-d8d4-cf0737562ec7"
      },
      "execution_count": null,
      "outputs": [
        {
          "output_type": "stream",
          "name": "stderr",
          "text": [
            "<ipython-input-4-c3ee19f3cc88>:5: DeprecationWarning: Please import `rotate` from the `scipy.ndimage` namespace; the `scipy.ndimage.interpolation` namespace is deprecated and will be removed in SciPy 2.0.0.\n",
            "  data = inter.rotate(arr, angle, reshape=False, order=0)\n"
          ]
        },
        {
          "output_type": "stream",
          "name": "stdout",
          "text": [
            "Skew angle: 1\n"
          ]
        },
        {
          "output_type": "execute_result",
          "data": {
            "text/plain": [
              "True"
            ]
          },
          "metadata": {},
          "execution_count": 6
        }
      ]
    },
    {
      "cell_type": "code",
      "source": [
        "def findTiltAngle(image_edges):\n",
        "\n",
        "  h, theta, d = hough_line(image_edges)\n",
        "  accum, angles, dists = hough_line_peaks(h, theta, d)\n",
        "  angle = np.rad2deg(mode(angles)[0][0])\n",
        "\n",
        "  if (angle < 0):\n",
        "    angle = angle + 90\n",
        "  else:\n",
        "    angle = angle - 90\n",
        "    return angle"
      ],
      "metadata": {
        "id": "Eth3J-RT3Tp7"
      },
      "execution_count": null,
      "outputs": []
    },
    {
      "cell_type": "code",
      "source": [
        "angle = findTiltAngle(dst3)\n",
        "print(angle)"
      ],
      "metadata": {
        "colab": {
          "base_uri": "https://localhost:8080/",
          "height": 280
        },
        "id": "fdjoH8hM44il",
        "outputId": "cb3d0fb9-c1ad-4ea6-8ecb-c5d1fe6746ab"
      },
      "execution_count": null,
      "outputs": [
        {
          "output_type": "error",
          "ename": "IndexError",
          "evalue": "invalid index to scalar variable.",
          "traceback": [
            "\u001b[0;31m---------------------------------------------------------------------------\u001b[0m",
            "\u001b[0;31mIndexError\u001b[0m                                Traceback (most recent call last)",
            "\u001b[0;32m<ipython-input-14-729332868e1e>\u001b[0m in \u001b[0;36m<cell line: 1>\u001b[0;34m()\u001b[0m\n\u001b[0;32m----> 1\u001b[0;31m \u001b[0mangle\u001b[0m \u001b[0;34m=\u001b[0m \u001b[0mfindTiltAngle\u001b[0m\u001b[0;34m(\u001b[0m\u001b[0mdst3\u001b[0m\u001b[0;34m)\u001b[0m\u001b[0;34m\u001b[0m\u001b[0;34m\u001b[0m\u001b[0m\n\u001b[0m\u001b[1;32m      2\u001b[0m \u001b[0mprint\u001b[0m\u001b[0;34m(\u001b[0m\u001b[0mangle\u001b[0m\u001b[0;34m)\u001b[0m\u001b[0;34m\u001b[0m\u001b[0;34m\u001b[0m\u001b[0m\n",
            "\u001b[0;32m<ipython-input-12-e422000fd67b>\u001b[0m in \u001b[0;36mfindTiltAngle\u001b[0;34m(image_edges)\u001b[0m\n\u001b[1;32m      3\u001b[0m   \u001b[0mh\u001b[0m\u001b[0;34m,\u001b[0m \u001b[0mtheta\u001b[0m\u001b[0;34m,\u001b[0m \u001b[0md\u001b[0m \u001b[0;34m=\u001b[0m \u001b[0mhough_line\u001b[0m\u001b[0;34m(\u001b[0m\u001b[0mimage_edges\u001b[0m\u001b[0;34m)\u001b[0m\u001b[0;34m\u001b[0m\u001b[0;34m\u001b[0m\u001b[0m\n\u001b[1;32m      4\u001b[0m   \u001b[0maccum\u001b[0m\u001b[0;34m,\u001b[0m \u001b[0mangles\u001b[0m\u001b[0;34m,\u001b[0m \u001b[0mdists\u001b[0m \u001b[0;34m=\u001b[0m \u001b[0mhough_line_peaks\u001b[0m\u001b[0;34m(\u001b[0m\u001b[0mh\u001b[0m\u001b[0;34m,\u001b[0m \u001b[0mtheta\u001b[0m\u001b[0;34m,\u001b[0m \u001b[0md\u001b[0m\u001b[0;34m)\u001b[0m\u001b[0;34m\u001b[0m\u001b[0;34m\u001b[0m\u001b[0m\n\u001b[0;32m----> 5\u001b[0;31m   \u001b[0mangle\u001b[0m \u001b[0;34m=\u001b[0m \u001b[0mnp\u001b[0m\u001b[0;34m.\u001b[0m\u001b[0mrad2deg\u001b[0m\u001b[0;34m(\u001b[0m\u001b[0mmode\u001b[0m\u001b[0;34m(\u001b[0m\u001b[0mangles\u001b[0m\u001b[0;34m)\u001b[0m\u001b[0;34m[\u001b[0m\u001b[0;36m0\u001b[0m\u001b[0;34m]\u001b[0m\u001b[0;34m[\u001b[0m\u001b[0;36m0\u001b[0m\u001b[0;34m]\u001b[0m\u001b[0;34m)\u001b[0m\u001b[0;34m\u001b[0m\u001b[0;34m\u001b[0m\u001b[0m\n\u001b[0m\u001b[1;32m      6\u001b[0m \u001b[0;34m\u001b[0m\u001b[0m\n\u001b[1;32m      7\u001b[0m   \u001b[0;32mif\u001b[0m \u001b[0;34m(\u001b[0m\u001b[0mangle\u001b[0m \u001b[0;34m<\u001b[0m \u001b[0;36m0\u001b[0m\u001b[0;34m)\u001b[0m\u001b[0;34m:\u001b[0m\u001b[0;34m\u001b[0m\u001b[0;34m\u001b[0m\u001b[0m\n",
            "\u001b[0;31mIndexError\u001b[0m: invalid index to scalar variable."
          ]
        }
      ]
    },
    {
      "cell_type": "code",
      "source": [
        "mask = binary_image.copy()\n",
        "height,width = mask.shape\n",
        "skel = np.zeros([height,width],dtype=np.uint8)      #[height,width,3]\n",
        "kernel = cv2.getStructuringElement(cv2.MORPH_CROSS, (3,3))\n",
        "temp_nonzero = np.count_nonzero(mask)\n",
        "while(np.count_nonzero(mask) != 0 ):\n",
        "    eroded = cv2.erode(mask,kernel)\n",
        "    cv2.imwrite('eroded.png',eroded)\n",
        "    temp = cv2.dilate(eroded,kernel)\n",
        "    cv2.imwrite('dilate.png',temp)\n",
        "    temp = cv2.subtract(mask,temp)\n",
        "    skel = cv2.bitwise_or(skel,temp)\n",
        "    mask = eroded.copy()\n",
        "\n",
        "cv2.imwrite('skel.png',skel)"
      ],
      "metadata": {
        "id": "9xyyLixkKdpj"
      },
      "execution_count": null,
      "outputs": []
    },
    {
      "cell_type": "code",
      "source": [
        "dst1 = cv2.Canny(image, 50, 200, None, 3)\n",
        "cv2.imwrite('canny1.png',dst1)\n",
        "linesP1 = cv2.HoughLinesP(dst1, 1, np.pi / 180, 50, None, 50, 10)\n",
        "cdstP1 = image.copy()\n",
        "if linesP1 is not None:\n",
        "        for i in range(0, len(linesP1)):\n",
        "            l = linesP1[i][0]\n",
        "            cv2.line(cdstP1, (l[0], l[1]), (l[2], l[3]), (0,0,255), 3, cv2.LINE_AA)\n",
        "cv2.imwrite('lines1.png',cdstP1)\n",
        "\n",
        "dst2 = cv2.Canny(gray_image, 100, 200, None, 3)\n",
        "cv2.imwrite('canny2.png',dst2)\n",
        "linesP2 = cv2.HoughLinesP(dst2, 1, np.pi / 180, 50, None, 50, 10)\n",
        "cdstP2 = image.copy()\n",
        "if linesP2 is not None:\n",
        "        for i in range(0, len(linesP2)):\n",
        "            l = linesP2[i][0]\n",
        "            cv2.line(cdstP2, (l[0], l[1]), (l[2], l[3]), (0,0,255), 3, cv2.LINE_AA)\n",
        "cv2.imwrite('lines2.png',cdstP2)\n",
        "\n",
        "dst3 = cv2.Canny(binary_image, 100, 200, None, 3)\n",
        "cv2.imwrite('canny3.png',dst3)\n",
        "linesP3 = cv2.HoughLinesP(dst3, 1, np.pi / 180, 50, None, 50, 10)\n",
        "cdstP3 = image.copy()\n",
        "if linesP3 is not None:\n",
        "        for i in range(0, len(linesP3)):\n",
        "            l = linesP3[i][0]\n",
        "            cv2.line(cdstP3, (l[0], l[1]), (l[2], l[3]), (0,0,255), 3, cv2.LINE_AA)\n",
        "cv2.imwrite('lines3.png',cdstP3)\n",
        "\n",
        "dst4 = cv2.Canny(skel, 100, 200, None, 3)\n",
        "cv2.imwrite('canny4.png',dst4)\n",
        "linesP4 = cv2.HoughLinesP(dst4, 1, np.pi / 180, 50, None, 50, 10)\n",
        "cdstP4 = image.copy()\n",
        "if linesP4 is not None:\n",
        "        for i in range(0, len(linesP4)):\n",
        "            l = linesP4[i][0]\n",
        "            cv2.line(cdstP4, (l[0], l[1]), (l[2], l[3]), (0,0,255), 3, cv2.LINE_AA)\n",
        "cv2.imwrite('lines4.png',cdstP4)"
      ],
      "metadata": {
        "id": "kPhDpq3JMemO"
      },
      "execution_count": null,
      "outputs": []
    },
    {
      "cell_type": "code",
      "source": [
        "edges = cv2.Canny(binary_image,100,200)\n",
        "result = image.copy()\n",
        "cv2.imwrite('edges.png',edges)\n",
        "lines = cv2.HoughLinesP(edges,1,np.pi/180,40,minLineLength=30,maxLineGap=30)\n",
        "cv2.imwrite('lines.png',lines)\n",
        "i = 0\n",
        "for x1,y1,x2,y2 in lines[0]:\n",
        "    i+=1\n",
        "    cv2.line(result,(x1,y1),(x2,y2),(255,0,0),1)\n",
        "\n",
        "cv2.imwrite('result.png',result)"
      ],
      "metadata": {
        "id": "G7KVTOy7Gzbm"
      },
      "execution_count": null,
      "outputs": []
    },
    {
      "cell_type": "code",
      "source": [
        "\n",
        "lines_edges = cv2.addWeighted(image, 0.8, result, 1, 0)\n",
        "cv2.imwrite('lines_edges.png',lines_edges)"
      ],
      "metadata": {
        "id": "LsdPN4IoL16Z"
      },
      "execution_count": null,
      "outputs": []
    },
    {
      "cell_type": "code",
      "execution_count": null,
      "metadata": {
        "id": "lUwYtLhgcoCX"
      },
      "outputs": [],
      "source": [
        "from pytesseract import image_to_string\n",
        "extracted_text = image_to_string(binary_image)\n",
        "with open('output.txt', 'w') as file:\n",
        "    file.write(extracted_text)"
      ]
    },
    {
      "cell_type": "code",
      "source": [
        "# Load image, grayscale, Otsu's threshold\n",
        "image = cv2.imread('gamelog_1col.png')\n",
        "gray = cv2.cvtColor(image, cv2.COLOR_BGR2GRAY)\n",
        "gray = 255 - gray\n",
        "thresh = cv2.threshold(gray, 0, 255, cv2.THRESH_BINARY + cv2.THRESH_OTSU)[1]\n",
        "\n",
        "# Compute rotated bounding box\n",
        "coords = np.column_stack(np.where(thresh > 0))\n",
        "angle = cv2.minAreaRect(coords)[-1]\n",
        "\n",
        "if angle < -45:\n",
        "    angle = -(90 + angle)\n",
        "else:\n",
        "    angle = -angle\n",
        "print(angle)\n",
        "\n",
        "# Rotate image to deskew\n",
        "(h, w) = image.shape[:2]\n",
        "center = (w // 2, h // 2)\n",
        "M = cv2.getRotationMatrix2D(center, angle, 1.0)\n",
        "rotated = cv2.warpAffine(image, M, (w, h), flags=cv2.INTER_CUBIC, borderMode=cv2.BORDER_REPLICATE)\n",
        "\n",
        "cv2.imwrite('thresh.png', thresh)\n",
        "cv2.imwrite('rotated.png', rotated)"
      ],
      "metadata": {
        "colab": {
          "base_uri": "https://localhost:8080/"
        },
        "id": "qLkXIB3c8BJx",
        "outputId": "464d030a-4cc6-4056-faa3-1f45acdf9abf"
      },
      "execution_count": null,
      "outputs": [
        {
          "output_type": "stream",
          "name": "stdout",
          "text": [
            "-90.0\n"
          ]
        },
        {
          "output_type": "execute_result",
          "data": {
            "text/plain": [
              "True"
            ]
          },
          "metadata": {},
          "execution_count": 7
        }
      ]
    },
    {
      "cell_type": "code",
      "source": [
        "import matplotlib.pyplot as plt\n",
        "from skimage.color import rgb2gray\n",
        "from skimage.transform import rotate\n",
        "from skimage.transform import (hough_line, hough_line_peaks)\n",
        "from scipy.stats import mode\n",
        "from skimage import io\n",
        "from skimage.filters import threshold_otsu, sobel\n",
        "from matplotlib import cm"
      ],
      "metadata": {
        "id": "jlxNmByw1xEO"
      },
      "execution_count": null,
      "outputs": []
    }
  ],
  "metadata": {
    "colab": {
      "provenance": [],
      "collapsed_sections": [
        "z7bmpWi26-P0"
      ],
      "authorship_tag": "ABX9TyPwmz4QlhNINv1wN9m2xpAF",
      "include_colab_link": true
    },
    "kernelspec": {
      "display_name": "Python 3",
      "name": "python3"
    },
    "language_info": {
      "name": "python"
    }
  },
  "nbformat": 4,
  "nbformat_minor": 0
}