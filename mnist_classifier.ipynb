{
  "cells": [
    {
      "cell_type": "markdown",
      "metadata": {
        "id": "view-in-github",
        "colab_type": "text"
      },
      "source": [
        "<a href=\"https://colab.research.google.com/github/cjkreienkamp/wpolo-scoresheet-ocr/blob/main/mnist_classifier.ipynb\" target=\"_parent\"><img src=\"https://colab.research.google.com/assets/colab-badge.svg\" alt=\"Open In Colab\"/></a>"
      ]
    },
    {
      "cell_type": "markdown",
      "metadata": {
        "id": "NT66vo1E74lv"
      },
      "source": [
        "## 0. Configure Environment"
      ]
    },
    {
      "cell_type": "markdown",
      "source": [
        "**Note**: If you are running this in Colab, enable a GPU\n",
        "\n",
        "> `Runtime`   →   `Change runtime type`   →   `Hardware Accelerator: GPU`"
      ],
      "metadata": {
        "id": "lHJXL-vzaTfY"
      }
    },
    {
      "cell_type": "code",
      "execution_count": null,
      "metadata": {
        "id": "64TjFuww74lv",
        "colab": {
          "base_uri": "https://localhost:8080/",
          "height": 53
        },
        "outputId": "b43c2cfa-d862-4d0d-d0c2-24f438daf5d9"
      },
      "outputs": [
        {
          "output_type": "stream",
          "name": "stdout",
          "text": [
            "2.3.1+cu121\n"
          ]
        },
        {
          "output_type": "execute_result",
          "data": {
            "text/plain": [
              "'cpu'"
            ],
            "application/vnd.google.colaboratory.intrinsic+json": {
              "type": "string"
            }
          },
          "metadata": {},
          "execution_count": 101
        }
      ],
      "source": [
        "import torch\n",
        "\n",
        "print(torch.__version__)   # this notebook requires torch >= 1.10.0\n",
        "device = 'cuda' if torch.cuda.is_available() else 'cpu'\n",
        "device"
      ]
    },
    {
      "cell_type": "markdown",
      "metadata": {
        "id": "fiOWVmbv74lw"
      },
      "source": [
        "## 1. Load Data"
      ]
    },
    {
      "cell_type": "markdown",
      "source": [
        "### 1.1 Pull the data from an online repository"
      ],
      "metadata": {
        "id": "Cic4rEf7XXJ9"
      }
    },
    {
      "cell_type": "code",
      "source": [
        "import torchvision\n",
        "from torchvision.datasets import MNIST\n",
        "import matplotlib.pyplot as plt\n",
        "from torch.utils.data import random_split\n",
        "import torch.nn.functional as F\n",
        "\n",
        "dataset = MNIST(root='data/', download=True)"
      ],
      "metadata": {
        "id": "3L6xsNfUrYtL",
        "collapsed": true
      },
      "execution_count": null,
      "outputs": []
    },
    {
      "cell_type": "markdown",
      "source": [
        "### 1.2 Transform the data into a PyTorch tensor"
      ],
      "metadata": {
        "id": "6rBSAhAMU181"
      }
    },
    {
      "cell_type": "code",
      "source": [
        "import torchvision.transforms as transforms\n",
        "\n",
        "transformed_train_dataset = MNIST(root='data/', train=True, download=True, transform=transforms.ToTensor())\n",
        "transformed_val_dataset = MNIST(root='data/', train=False, transform=transforms.ToTensor())"
      ],
      "metadata": {
        "id": "kd6HioGWU05e"
      },
      "execution_count": null,
      "outputs": []
    },
    {
      "cell_type": "markdown",
      "metadata": {
        "id": "SzFpPlhG74lx"
      },
      "source": [
        "### 1.3 Visualize the data"
      ]
    },
    {
      "cell_type": "code",
      "source": [
        "print(transformed_train_dataset)\n",
        "\n",
        "image, label = dataset[0]\n",
        "image_tensor, label_tensor = transformed_train_dataset[0]\n",
        "\n",
        "fig, ax = plt.subplots(1, 2)\n",
        "ax[0].title.set_text(f'Label: {label} \\nRaw \\nLength: {len(dataset)}')\n",
        "ax[1].title.set_text(f'Label: {label_tensor} \\nTransformed into Tensor \\nShape: {image_tensor.shape}')\n",
        "ax[0].imshow(image, cmap='gray')\n",
        "ax[1].imshow(image_tensor[0,:,:], cmap='gray')\n",
        "ax[0].axis('off'); ax[1].axis('off')\n",
        "plt.show()"
      ],
      "metadata": {
        "colab": {
          "base_uri": "https://localhost:8080/",
          "height": 430
        },
        "collapsed": true,
        "id": "EaPoHP0wQzo3",
        "outputId": "c2f2f63b-a55e-4f99-9da3-fc470ff19954"
      },
      "execution_count": null,
      "outputs": [
        {
          "output_type": "stream",
          "name": "stdout",
          "text": [
            "Dataset MNIST\n",
            "    Number of datapoints: 60000\n",
            "    Root location: data/\n",
            "    Split: Train\n",
            "    StandardTransform\n",
            "Transform: ToTensor()\n"
          ]
        },
        {
          "output_type": "display_data",
          "data": {
            "text/plain": [
              "<Figure size 640x480 with 2 Axes>"
            ],
            "image/png": "[encoded data removed]"
          },
          "metadata": {}
        }
      ]
    },
    {
      "cell_type": "markdown",
      "source": [
        "### 1.3 Split the dataset into train, test, and validation\n",
        "\n",
        "* training set - used to train the model, compute the loss, and adjust the weights of the model using gradient descent\n",
        "\n",
        "* validation set - used to evalute the training model, adjust the hyperparameters, and pick the best version of the model\n",
        "\n",
        "* test set - used as a final check of model predictions on new data to evaluate model performance"
      ],
      "metadata": {
        "id": "a1LclMqwR0N7"
      }
    },
    {
      "cell_type": "code",
      "source": [
        "train_data, test_data = random_split(transformed_train_dataset, [50000, 10000])\n",
        "validation_data = transformed_val_dataset\n",
        "\n",
        "print('length of train dataset: ', len(train_data))\n",
        "print('length of test dataset: ', len(test_data))\n",
        "print('length of validation dataset: ', len(validation_data))"
      ],
      "metadata": {
        "colab": {
          "base_uri": "https://localhost:8080/"
        },
        "id": "7jliXLtPRet-",
        "outputId": "bcf878a9-dffe-4c37-ad6f-5555cd3f656b"
      },
      "execution_count": null,
      "outputs": [
        {
          "output_type": "stream",
          "name": "stdout",
          "text": [
            "length of train dataset:  50000\n",
            "length of test dataset:  10000\n",
            "length of validation dataset:  10000\n"
          ]
        }
      ]
    },
    {
      "cell_type": "markdown",
      "metadata": {
        "id": "4MsCKHba74lx"
      },
      "source": [
        "## 2. Preprocess Data"
      ]
    },
    {
      "cell_type": "code",
      "source": [
        "from torch.utils.data import DataLoader\n",
        "import os\n",
        "\n",
        "BATCH_SIZE = 128\n",
        "NUM_WORKERS = os.cpu_count()\n",
        "print(f\"Creating DataLoader's with batch size {BATCH_SIZE} and {NUM_WORKERS} workers.\")\n",
        "\n",
        "train_dataloader = DataLoader(train_data, BATCH_SIZE, num_workers=NUM_WORKERS, shuffle=True)\n",
        "test_dataloader = DataLoader(test_data, BATCH_SIZE, num_workers=NUM_WORKERS, shuffle = False)\n",
        "\n",
        "img_custom, label_custom = next(iter(train_dataloader))\n",
        "print(f\"Dataloader image shape: {img_custom.shape} -> [batch_size, color_channels, height, width]\")\n",
        "print(f\"Dataloader label shape: {label_custom.shape}\")\n",
        "\n",
        "DATALOADER_COLOR_CHANNELS = img_custom.shape[1]\n",
        "DATALOADER_HEIGHT = img_custom.shape[2]\n",
        "DATALOADER_WIDTH = img_custom.shape[3]"
      ],
      "metadata": {
        "colab": {
          "base_uri": "https://localhost:8080/"
        },
        "id": "1LtyXcQhThF1",
        "outputId": "1aa9de3a-9fdc-49a9-bb91-023231cee3bb"
      },
      "execution_count": null,
      "outputs": [
        {
          "output_type": "stream",
          "name": "stdout",
          "text": [
            "Creating DataLoader's with batch size 128 and 2 workers.\n",
            "Dataloader image shape: torch.Size([128, 1, 28, 28]) -> [batch_size, color_channels, height, width]\n",
            "Dataloader label shape: torch.Size([128])\n"
          ]
        }
      ]
    },
    {
      "cell_type": "markdown",
      "source": [
        "## 3. Build Neural Network with PyTorch"
      ],
      "metadata": {
        "id": "fGv8XmPmbqiZ"
      }
    },
    {
      "cell_type": "markdown",
      "source": [
        "### 3.1 Build a Logistic Regression model"
      ],
      "metadata": {
        "id": "kk9rO_Rzkn5y"
      }
    },
    {
      "cell_type": "code",
      "source": [
        "import torch.nn as nn\n",
        "\n",
        "class MnistModel(nn.Module):\n",
        "    def __init__(self, input_size, num_classes):\n",
        "        super().__init__()\n",
        "        self.linear = nn.Linear(input_size, num_classes)\n",
        "\n",
        "    def forward(self, x):\n",
        "        x = x.reshape(-1, 784)\n",
        "        x = self.linear(x)\n",
        "        return(x)\n",
        "\n",
        "model = MnistModel(input_size=DATALOADER_COLOR_CHANNELS*DATALOADER_HEIGHT*DATALOADER_WIDTH, num_classes=10)\n",
        "model"
      ],
      "metadata": {
        "colab": {
          "base_uri": "https://localhost:8080/"
        },
        "id": "qDr2KFOfedID",
        "outputId": "f0b9257f-c64a-4eba-9b13-59fb58bc633f"
      },
      "execution_count": null,
      "outputs": [
        {
          "output_type": "execute_result",
          "data": {
            "text/plain": [
              "MnistModel(\n",
              "  (linear): Linear(in_features=784, out_features=10, bias=True)\n",
              ")"
            ]
          },
          "metadata": {},
          "execution_count": 107
        }
      ]
    },
    {
      "cell_type": "markdown",
      "source": [
        "### 3.2 Create train & test loop functions"
      ],
      "metadata": {
        "id": "UhJ12DH4s5e9"
      }
    },
    {
      "cell_type": "code",
      "source": [
        "def train_step(model: torch.nn.Module,\n",
        "               dataloader: torch.utils.data.DataLoader,\n",
        "               loss_fn: torch.nn.Module,\n",
        "               optimizer: torch.optim.Optimizer):\n",
        "    model.train()\n",
        "    train_loss, train_acc = 0, 0\n",
        "    for batch, (X, y) in enumerate(dataloader):\n",
        "        X, y = X.to(device), y.to(device)\n",
        "        y_pred = model(X)\n",
        "        loss = loss_fn(y_pred, y); train_loss += loss.item()\n",
        "        optimizer.zero_grad()\n",
        "        loss.backward()\n",
        "        optimizer.step()\n",
        "\n",
        "        # Calculate and accumulate accuracy metric across all batches\n",
        "        y_pred_class = torch.argmax(torch.softmax(y_pred, dim=1), dim=1)\n",
        "        train_acc += (y_pred_class == y).sum().item()/len(y_pred)\n",
        "\n",
        "    # Adjust metrics to get average loss and accuracy per batch\n",
        "    train_loss = train_loss / len(dataloader)\n",
        "    train_acc = train_acc / len(dataloader)\n",
        "    return train_loss, train_acc"
      ],
      "metadata": {
        "id": "STiDLLG5pYQo"
      },
      "execution_count": null,
      "outputs": []
    },
    {
      "cell_type": "code",
      "source": [
        "def test_step(model: torch.nn.Module,\n",
        "              dataloader: torch.utils.data.DataLoader,\n",
        "              loss_fn: torch.nn.Module):\n",
        "    model.eval()\n",
        "    test_loss, test_acc = 0, 0\n",
        "\n",
        "    with torch.inference_mode():\n",
        "        for batch, (X, y) in enumerate(dataloader):\n",
        "            X, y = X.to(device), y.to(device)\n",
        "            test_pred_logits = model(X)\n",
        "            loss = loss_fn(test_pred_logits, y); test_loss += loss.item()\n",
        "\n",
        "            # Calculate and accumulate accuracy\n",
        "            test_pred_labels = test_pred_logits.argmax(dim=1)\n",
        "            test_acc += ((test_pred_labels == y).sum().item()/len(test_pred_labels))\n",
        "\n",
        "    # Adjust metrics to get average loss and accuracy per batch\n",
        "    test_loss = test_loss / len(dataloader)\n",
        "    test_acc = test_acc / len(dataloader)\n",
        "    return test_loss, test_acc"
      ],
      "metadata": {
        "id": "88dCc3zMqCN1"
      },
      "execution_count": null,
      "outputs": []
    },
    {
      "cell_type": "code",
      "execution_count": null,
      "metadata": {
        "id": "YV-TAMy374l5"
      },
      "outputs": [],
      "source": [
        "from tqdm.auto import tqdm\n",
        "\n",
        "def train(model: torch.nn.Module,\n",
        "          train_dataloader: torch.utils.data.DataLoader,\n",
        "          test_dataloader: torch.utils.data.DataLoader,\n",
        "          optimizer: torch.optim.Optimizer,\n",
        "          loss_fn: torch.nn.Module = nn.CrossEntropyLoss(),\n",
        "          epochs: int = 5):\n",
        "\n",
        "    results = {\"train_loss\": [],\n",
        "        \"train_acc\": [],\n",
        "        \"test_loss\": [],\n",
        "        \"test_acc\": []\n",
        "    }\n",
        "\n",
        "    # Loop through training and testing steps for a number of epochs\n",
        "    for epoch in tqdm(range(epochs)):\n",
        "        train_loss, train_acc = train_step(model=model,\n",
        "                                          dataloader=train_dataloader,\n",
        "                                          loss_fn=loss_fn,\n",
        "                                          optimizer=optimizer)\n",
        "        test_loss, test_acc = test_step(model=model,\n",
        "                                          dataloader=test_dataloader,\n",
        "                                          loss_fn=loss_fn)\n",
        "\n",
        "        print(\n",
        "            f\"Epoch: {epoch+1} | \"\n",
        "            f\"train_loss: {train_loss:.4f} | \"\n",
        "            f\"train_acc: {train_acc:.4f} | \"\n",
        "            f\"test_loss: {test_loss:.4f} | \"\n",
        "            f\"test_acc: {test_acc:.4f}\"\n",
        "        )\n",
        "\n",
        "        results[\"train_loss\"].append(train_loss)\n",
        "        results[\"train_acc\"].append(train_acc)\n",
        "        results[\"test_loss\"].append(test_loss)\n",
        "        results[\"test_acc\"].append(test_acc)\n",
        "\n",
        "    return results"
      ]
    },
    {
      "cell_type": "markdown",
      "source": [
        "### 3.3 Train model"
      ],
      "metadata": {
        "id": "2zjIk47KtCQm"
      }
    },
    {
      "cell_type": "code",
      "execution_count": null,
      "metadata": {
        "id": "UOqycDcL74l5",
        "colab": {
          "base_uri": "https://localhost:8080/",
          "referenced_widgets": [
            "9a36a0ec58434b269fd9bba5094cffe2",
            "70c889bc62534891ae361b5b4f46b9f4",
            "58269774887d4871b4490d9424bb3e12",
            "5a9ea68e78034cca9d5c75292be7b89f",
            "7d0b4c16c9954db7b31b4ca045c5727a",
            "df74d8d2e989440486245411c6da922a",
            "7a311fcb88e6476993b00b4e57c41941",
            "b93b6cd067f542878698820231daab7a",
            "c7752e0782224f4e9981d734a7973529",
            "3d0b2b9ef1e1452c9066ca1df8d5f8d4",
            "4fa5c9f10f8e4322aa37fc324c62f191"
          ]
        },
        "outputId": "2bd84c9a-aae3-4a2b-dde8-8baba4781803"
      },
      "outputs": [
        {
          "output_type": "display_data",
          "data": {
            "text/plain": [
              "  0%|          | 0/15 [00:00<?, ?it/s]"
            ],
            "application/vnd.jupyter.widget-view+json": {
              "version_major": 2,
              "version_minor": 0,
              "model_id": "9a36a0ec58434b269fd9bba5094cffe2"
            }
          },
          "metadata": {}
        },
        {
          "output_type": "stream",
          "name": "stdout",
          "text": [
            "Epoch: 1 | train_loss: 0.7203 | train_acc: 0.8348 | test_loss: 0.4258 | test_acc: 0.8905\n",
            "Epoch: 2 | train_loss: 0.3785 | train_acc: 0.9001 | test_loss: 0.3515 | test_acc: 0.9047\n",
            "Epoch: 3 | train_loss: 0.3288 | train_acc: 0.9098 | test_loss: 0.3262 | test_acc: 0.9091\n",
            "Epoch: 4 | train_loss: 0.3057 | train_acc: 0.9160 | test_loss: 0.3128 | test_acc: 0.9152\n",
            "Epoch: 5 | train_loss: 0.2922 | train_acc: 0.9192 | test_loss: 0.3035 | test_acc: 0.9158\n",
            "Epoch: 6 | train_loss: 0.2829 | train_acc: 0.9209 | test_loss: 0.2977 | test_acc: 0.9174\n",
            "Epoch: 7 | train_loss: 0.2756 | train_acc: 0.9235 | test_loss: 0.2966 | test_acc: 0.9194\n",
            "Epoch: 8 | train_loss: 0.2699 | train_acc: 0.9244 | test_loss: 0.2928 | test_acc: 0.9212\n",
            "Epoch: 9 | train_loss: 0.2661 | train_acc: 0.9258 | test_loss: 0.2901 | test_acc: 0.9205\n",
            "Epoch: 10 | train_loss: 0.2619 | train_acc: 0.9268 | test_loss: 0.2891 | test_acc: 0.9223\n",
            "Epoch: 11 | train_loss: 0.2591 | train_acc: 0.9281 | test_loss: 0.2879 | test_acc: 0.9217\n",
            "Epoch: 12 | train_loss: 0.2566 | train_acc: 0.9289 | test_loss: 0.2879 | test_acc: 0.9218\n",
            "Epoch: 13 | train_loss: 0.2540 | train_acc: 0.9293 | test_loss: 0.2873 | test_acc: 0.9231\n",
            "Epoch: 14 | train_loss: 0.2523 | train_acc: 0.9299 | test_loss: 0.2874 | test_acc: 0.9220\n",
            "Epoch: 15 | train_loss: 0.2497 | train_acc: 0.9303 | test_loss: 0.2871 | test_acc: 0.9237\n",
            "Total training time: 159.191 seconds\n"
          ]
        }
      ],
      "source": [
        "model_0 = MnistModel(input_size=DATALOADER_COLOR_CHANNELS*DATALOADER_HEIGHT*DATALOADER_WIDTH, num_classes=10).to(device)\n",
        "\n",
        "torch.manual_seed(42)\n",
        "torch.cuda.manual_seed(42)\n",
        "\n",
        "optimizer = torch.optim.Adam(params=model_0.parameters(), lr=0.001)\n",
        "loss_fn = nn.CrossEntropyLoss()\n",
        "NUM_EPOCHS = 15\n",
        "\n",
        "from timeit import default_timer as timer\n",
        "start_time = timer()\n",
        "model_0_results = train(model=model_0,\n",
        "                        train_dataloader=train_dataloader,\n",
        "                        test_dataloader=test_dataloader,\n",
        "                        optimizer=optimizer,\n",
        "                        loss_fn=loss_fn,\n",
        "                        epochs=NUM_EPOCHS)\n",
        "end_time = timer()\n",
        "print(f\"Total training time: {end_time-start_time:.3f} seconds\")"
      ]
    },
    {
      "cell_type": "markdown",
      "source": [
        "## 4. Evaluate Model"
      ],
      "metadata": {
        "id": "n3viTR-yfDIb"
      }
    },
    {
      "cell_type": "markdown",
      "source": [
        "### 4.1 Helper functions"
      ],
      "metadata": {
        "id": "Z_Db4qyUV4-R"
      }
    },
    {
      "cell_type": "code",
      "execution_count": null,
      "metadata": {
        "id": "_Zg7O3_S74l5"
      },
      "outputs": [],
      "source": [
        "from typing import Dict, List\n",
        "\n",
        "def plot_loss_curves(results: Dict[str, List[float]]):\n",
        "    \"\"\"Plots training curves of a results dictionary.\n",
        "\n",
        "    Args:\n",
        "        results (dict): dictionary containing list of values, e.g.\n",
        "            {\"train_loss\": [...],\n",
        "             \"train_acc\": [...],\n",
        "             \"test_loss\": [...],\n",
        "             \"test_acc\": [...]}\n",
        "    \"\"\"\n",
        "\n",
        "    loss = results['train_loss']\n",
        "    test_loss = results['test_loss']\n",
        "\n",
        "    accuracy = results['train_acc']\n",
        "    test_accuracy = results['test_acc']\n",
        "\n",
        "    epochs = range(len(results['train_loss']))\n",
        "\n",
        "    plt.figure(figsize=(15, 7))\n",
        "\n",
        "    plt.subplot(1, 2, 1)\n",
        "    plt.title('Loss')\n",
        "    plt.plot(epochs, loss, label='train_loss')\n",
        "    plt.plot(epochs, test_loss, label='test_loss')\n",
        "    plt.xlabel('Epochs')\n",
        "    plt.legend()\n",
        "\n",
        "    plt.subplot(1, 2, 2)\n",
        "    plt.title('Accuracy')\n",
        "    plt.plot(epochs, accuracy, label='train_accuracy')\n",
        "    plt.plot(epochs, test_accuracy, label='test_accuracy')\n",
        "    plt.xlabel('Epochs')\n",
        "    plt.legend()"
      ]
    },
    {
      "cell_type": "markdown",
      "source": [
        "### 4.2 Plot loss and accuracy curves"
      ],
      "metadata": {
        "id": "jtdHDTzqV8US"
      }
    },
    {
      "cell_type": "code",
      "source": [
        "plot_loss_curves(model_0_results)"
      ],
      "metadata": {
        "colab": {
          "base_uri": "https://localhost:8080/"
        },
        "id": "I_NOup-Ntnng",
        "outputId": "a4c461e1-3c74-41a0-ed50-785c0fdd76b4"
      },
      "execution_count": null,
      "outputs": [
        {
          "output_type": "display_data",
          "data": {
            "text/plain": [
              "<Figure size 1500x700 with 2 Axes>"
            ],
            "image/png": "[encoded data removed]"
          },
          "metadata": {}
        }
      ]
    },
    {
      "cell_type": "markdown",
      "source": [
        "## 5. Predict"
      ],
      "metadata": {
        "id": "8WmGkhWdb6Ay"
      }
    },
    {
      "cell_type": "markdown",
      "source": [
        "### 5.1 Helper functions"
      ],
      "metadata": {
        "id": "hlQmglA7VnXG"
      }
    },
    {
      "cell_type": "code",
      "execution_count": null,
      "metadata": {
        "id": "L8EWXfNC74l9"
      },
      "outputs": [],
      "source": [
        "def pred_and_plot_image(model: torch.nn.Module,\n",
        "                        image_path: str,\n",
        "                        class_names: List[str] = None,\n",
        "                        transform=None,\n",
        "                        device: torch.device = device):\n",
        "\n",
        "    target_image = torchvision.io.read_image(str(image_path)).type(torch.float32)\n",
        "    target_image = target_image / 255.\n",
        "\n",
        "    if transform:\n",
        "        target_image = transform(target_image)\n",
        "\n",
        "    model.to(device)\n",
        "\n",
        "    model.eval()\n",
        "    with torch.inference_mode():\n",
        "        target_image = target_image.unsqueeze(dim=0) # add an extra dimension to image\n",
        "        target_image_pred = model(target_image.to(device))\n",
        "\n",
        "    target_image_pred_probs = torch.softmax(target_image_pred, dim=1) # convert logits --> prediction probabilities\n",
        "    target_image_pred_label = torch.argmax(target_image_pred_probs, dim=1) # convert prediction probabilities --> prediction labels\n",
        "\n",
        "    plt.imshow(target_image.squeeze(), cmap='gray')\n",
        "    if class_names:\n",
        "        title = f\"Pred: {class_names[target_image_pred_label.cpu()]} | Prob: {target_image_pred_probs.max().cpu():.3f}\"\n",
        "    else:\n",
        "        title = f\"Pred: {target_image_pred_label} | Prob: {target_image_pred_probs.max().cpu():.3f}\"\n",
        "    plt.title(title)\n",
        "    plt.axis(False);"
      ]
    },
    {
      "cell_type": "markdown",
      "source": [
        "### 5.2 Predict and plot custom image"
      ],
      "metadata": {
        "id": "sN63zPBcVq61"
      }
    },
    {
      "cell_type": "code",
      "source": [
        "import torchvision\n",
        "import pathlib\n",
        "\n",
        "data_path = pathlib.Path('data/')\n",
        "custom_image_path = data_path / 'dilate-erode.png'\n",
        "print(custom_image_path)\n",
        "custom_image = torchvision.io.read_image(str(custom_image_path)).type(torch.float32)\n",
        "custom_image = custom_image / 255.\n",
        "\n",
        "custom_image_transform = transforms.Compose([\n",
        "    transforms.Lambda((lambda x: x[:3])),\n",
        "    transforms.Resize((DATALOADER_HEIGHT, DATALOADER_WIDTH)),\n",
        "    transforms.Grayscale(num_output_channels=1)\n",
        "])\n",
        "\n",
        "pred_and_plot_image(model=model_0,\n",
        "                    image_path=custom_image_path,\n",
        "                    class_names=dataset.classes,\n",
        "                    transform=custom_image_transform,\n",
        "                    device=device)\n",
        "\n",
        "#plt.imshow(custom_image.permute(1, 2, 0)) # permute image dimensions from CHW -> HWC for matplotlib\n",
        "#plt.title(f\"Image shape: {custom_image.shape} \\nImage dtype: {custom_image.dtype}\")\n",
        "#plt.axis(False);"
      ],
      "metadata": {
        "colab": {
          "base_uri": "https://localhost:8080/",
          "height": 445
        },
        "id": "wCJ46Taszp6L",
        "outputId": "2e7752b7-bf19-4914-bb4b-a34c43f41b38"
      },
      "execution_count": null,
      "outputs": [
        {
          "output_type": "stream",
          "name": "stdout",
          "text": [
            "data/dilate-erode.png\n"
          ]
        },
        {
          "output_type": "display_data",
          "data": {
            "text/plain": [
              "<Figure size 640x480 with 1 Axes>"
            ],
            "image/png": "[encoded data removed]"
          },
          "metadata": {}
        }
      ]
    },
    {
      "cell_type": "markdown",
      "source": [
        "### 5.10 Appendix"
      ],
      "metadata": {
        "id": "mceIfrtxAmUk"
      }
    },
    {
      "cell_type": "code",
      "execution_count": null,
      "metadata": {
        "id": "kkfA_3r474l7"
      },
      "outputs": [],
      "source": [
        "# Download custom image\n",
        "import requests\n",
        "\n",
        "# Setup custom image path\n",
        "custom_image_path = data_path / \"04-pizza-dad.jpeg\"\n",
        "\n",
        "# Download the image if it doesn't already exist\n",
        "if not custom_image_path.is_file():\n",
        "    with open(custom_image_path, \"wb\") as f:\n",
        "        # When downloading from GitHub, need to use the \"raw\" file link\n",
        "        request = requests.get(\"https://raw.githubusercontent.com/mrdbourke/pytorch-deep-learning/main/images/04-pizza-dad.jpeg\")\n",
        "        print(f\"Downloading {custom_image_path}...\")\n",
        "        f.write(request.content)\n",
        "else:\n",
        "    print(f\"{custom_image_path} already exists, skipping download.\")"
      ]
    }
  ],
  "metadata": {
    "accelerator": "GPU",
    "colab": {
      "gpuType": "T4",
      "provenance": [],
      "collapsed_sections": [
        "NT66vo1E74lv",
        "Cic4rEf7XXJ9",
        "6rBSAhAMU181",
        "4MsCKHba74lx",
        "fGv8XmPmbqiZ",
        "UhJ12DH4s5e9",
        "n3viTR-yfDIb",
        "Z_Db4qyUV4-R",
        "hlQmglA7VnXG",
        "mceIfrtxAmUk"
      ],
      "include_colab_link": true
    },
    "interpreter": {
      "hash": "3fbe1355223f7b2ffc113ba3ade6a2b520cadace5d5ec3e828c83ce02eb221bf"
    },
    "kernelspec": {
      "display_name": "Python 3",
      "name": "python3"
    },
    "language_info": {
      "codemirror_mode": {
        "name": "ipython",
        "version": 3
      },
      "file_extension": ".py",
      "mimetype": "text/x-python",
      "name": "python",
      "nbconvert_exporter": "python",
      "pygments_lexer": "ipython3",
      "version": "3.12.3"
    },
    "widgets": {
      "application/vnd.jupyter.widget-state+json": {
        "9a36a0ec58434b269fd9bba5094cffe2": {
          "model_module": "@jupyter-widgets/controls",
          "model_name": "HBoxModel",
          "model_module_version": "1.5.0",
          "state": {
            "_dom_classes": [],
            "_model_module": "@jupyter-widgets/controls",
            "_model_module_version": "1.5.0",
            "_model_name": "HBoxModel",
            "_view_count": null,
            "_view_module": "@jupyter-widgets/controls",
            "_view_module_version": "1.5.0",
            "_view_name": "HBoxView",
            "box_style": "",
            "children": [
              "IPY_MODEL_70c889bc62534891ae361b5b4f46b9f4",
              "IPY_MODEL_58269774887d4871b4490d9424bb3e12",
              "IPY_MODEL_5a9ea68e78034cca9d5c75292be7b89f"
            ],
            "layout": "IPY_MODEL_7d0b4c16c9954db7b31b4ca045c5727a"
          }
        },
        "70c889bc62534891ae361b5b4f46b9f4": {
          "model_module": "@jupyter-widgets/controls",
          "model_name": "HTMLModel",
          "model_module_version": "1.5.0",
          "state": {
            "_dom_classes": [],
            "_model_module": "@jupyter-widgets/controls",
            "_model_module_version": "1.5.0",
            "_model_name": "HTMLModel",
            "_view_count": null,
            "_view_module": "@jupyter-widgets/controls",
            "_view_module_version": "1.5.0",
            "_view_name": "HTMLView",
            "description": "",
            "description_tooltip": null,
            "layout": "IPY_MODEL_df74d8d2e989440486245411c6da922a",
            "placeholder": "​",
            "style": "IPY_MODEL_7a311fcb88e6476993b00b4e57c41941",
            "value": "100%"
          }
        },
        "58269774887d4871b4490d9424bb3e12": {
          "model_module": "@jupyter-widgets/controls",
          "model_name": "FloatProgressModel",
          "model_module_version": "1.5.0",
          "state": {
            "_dom_classes": [],
            "_model_module": "@jupyter-widgets/controls",
            "_model_module_version": "1.5.0",
            "_model_name": "FloatProgressModel",
            "_view_count": null,
            "_view_module": "@jupyter-widgets/controls",
            "_view_module_version": "1.5.0",
            "_view_name": "ProgressView",
            "bar_style": "success",
            "description": "",
            "description_tooltip": null,
            "layout": "IPY_MODEL_b93b6cd067f542878698820231daab7a",
            "max": 15,
            "min": 0,
            "orientation": "horizontal",
            "style": "IPY_MODEL_c7752e0782224f4e9981d734a7973529",
            "value": 15
          }
        },
        "5a9ea68e78034cca9d5c75292be7b89f": {
          "model_module": "@jupyter-widgets/controls",
          "model_name": "HTMLModel",
          "model_module_version": "1.5.0",
          "state": {
            "_dom_classes": [],
            "_model_module": "@jupyter-widgets/controls",
            "_model_module_version": "1.5.0",
            "_model_name": "HTMLModel",
            "_view_count": null,
            "_view_module": "@jupyter-widgets/controls",
            "_view_module_version": "1.5.0",
            "_view_name": "HTMLView",
            "description": "",
            "description_tooltip": null,
            "layout": "IPY_MODEL_3d0b2b9ef1e1452c9066ca1df8d5f8d4",
            "placeholder": "​",
            "style": "IPY_MODEL_4fa5c9f10f8e4322aa37fc324c62f191",
            "value": " 15/15 [02:39&lt;00:00, 10.51s/it]"
          }
        },
        "7d0b4c16c9954db7b31b4ca045c5727a": {
          "model_module": "@jupyter-widgets/base",
          "model_name": "LayoutModel",
          "model_module_version": "1.2.0",
          "state": {
            "_model_module": "@jupyter-widgets/base",
            "_model_module_version": "1.2.0",
            "_model_name": "LayoutModel",
            "_view_count": null,
            "_view_module": "@jupyter-widgets/base",
            "_view_module_version": "1.2.0",
            "_view_name": "LayoutView",
            "align_content": null,
            "align_items": null,
            "align_self": null,
            "border": null,
            "bottom": null,
            "display": null,
            "flex": null,
            "flex_flow": null,
            "grid_area": null,
            "grid_auto_columns": null,
            "grid_auto_flow": null,
            "grid_auto_rows": null,
            "grid_column": null,
            "grid_gap": null,
            "grid_row": null,
            "grid_template_areas": null,
            "grid_template_columns": null,
            "grid_template_rows": null,
            "height": null,
            "justify_content": null,
            "justify_items": null,
            "left": null,
            "margin": null,
            "max_height": null,
            "max_width": null,
            "min_height": null,
            "min_width": null,
            "object_fit": null,
            "object_position": null,
            "order": null,
            "overflow": null,
            "overflow_x": null,
            "overflow_y": null,
            "padding": null,
            "right": null,
            "top": null,
            "visibility": null,
            "width": null
          }
        },
        "df74d8d2e989440486245411c6da922a": {
          "model_module": "@jupyter-widgets/base",
          "model_name": "LayoutModel",
          "model_module_version": "1.2.0",
          "state": {
            "_model_module": "@jupyter-widgets/base",
            "_model_module_version": "1.2.0",
            "_model_name": "LayoutModel",
            "_view_count": null,
            "_view_module": "@jupyter-widgets/base",
            "_view_module_version": "1.2.0",
            "_view_name": "LayoutView",
            "align_content": null,
            "align_items": null,
            "align_self": null,
            "border": null,
            "bottom": null,
            "display": null,
            "flex": null,
            "flex_flow": null,
            "grid_area": null,
            "grid_auto_columns": null,
            "grid_auto_flow": null,
            "grid_auto_rows": null,
            "grid_column": null,
            "grid_gap": null,
            "grid_row": null,
            "grid_template_areas": null,
            "grid_template_columns": null,
            "grid_template_rows": null,
            "height": null,
            "justify_content": null,
            "justify_items": null,
            "left": null,
            "margin": null,
            "max_height": null,
            "max_width": null,
            "min_height": null,
            "min_width": null,
            "object_fit": null,
            "object_position": null,
            "order": null,
            "overflow": null,
            "overflow_x": null,
            "overflow_y": null,
            "padding": null,
            "right": null,
            "top": null,
            "visibility": null,
            "width": null
          }
        },
        "7a311fcb88e6476993b00b4e57c41941": {
          "model_module": "@jupyter-widgets/controls",
          "model_name": "DescriptionStyleModel",
          "model_module_version": "1.5.0",
          "state": {
            "_model_module": "@jupyter-widgets/controls",
            "_model_module_version": "1.5.0",
            "_model_name": "DescriptionStyleModel",
            "_view_count": null,
            "_view_module": "@jupyter-widgets/base",
            "_view_module_version": "1.2.0",
            "_view_name": "StyleView",
            "description_width": ""
          }
        },
        "b93b6cd067f542878698820231daab7a": {
          "model_module": "@jupyter-widgets/base",
          "model_name": "LayoutModel",
          "model_module_version": "1.2.0",
          "state": {
            "_model_module": "@jupyter-widgets/base",
            "_model_module_version": "1.2.0",
            "_model_name": "LayoutModel",
            "_view_count": null,
            "_view_module": "@jupyter-widgets/base",
            "_view_module_version": "1.2.0",
            "_view_name": "LayoutView",
            "align_content": null,
            "align_items": null,
            "align_self": null,
            "border": null,
            "bottom": null,
            "display": null,
            "flex": null,
            "flex_flow": null,
            "grid_area": null,
            "grid_auto_columns": null,
            "grid_auto_flow": null,
            "grid_auto_rows": null,
            "grid_column": null,
            "grid_gap": null,
            "grid_row": null,
            "grid_template_areas": null,
            "grid_template_columns": null,
            "grid_template_rows": null,
            "height": null,
            "justify_content": null,
            "justify_items": null,
            "left": null,
            "margin": null,
            "max_height": null,
            "max_width": null,
            "min_height": null,
            "min_width": null,
            "object_fit": null,
            "object_position": null,
            "order": null,
            "overflow": null,
            "overflow_x": null,
            "overflow_y": null,
            "padding": null,
            "right": null,
            "top": null,
            "visibility": null,
            "width": null
          }
        },
        "c7752e0782224f4e9981d734a7973529": {
          "model_module": "@jupyter-widgets/controls",
          "model_name": "ProgressStyleModel",
          "model_module_version": "1.5.0",
          "state": {
            "_model_module": "@jupyter-widgets/controls",
            "_model_module_version": "1.5.0",
            "_model_name": "ProgressStyleModel",
            "_view_count": null,
            "_view_module": "@jupyter-widgets/base",
            "_view_module_version": "1.2.0",
            "_view_name": "StyleView",
            "bar_color": null,
            "description_width": ""
          }
        },
        "3d0b2b9ef1e1452c9066ca1df8d5f8d4": {
          "model_module": "@jupyter-widgets/base",
          "model_name": "LayoutModel",
          "model_module_version": "1.2.0",
          "state": {
            "_model_module": "@jupyter-widgets/base",
            "_model_module_version": "1.2.0",
            "_model_name": "LayoutModel",
            "_view_count": null,
            "_view_module": "@jupyter-widgets/base",
            "_view_module_version": "1.2.0",
            "_view_name": "LayoutView",
            "align_content": null,
            "align_items": null,
            "align_self": null,
            "border": null,
            "bottom": null,
            "display": null,
            "flex": null,
            "flex_flow": null,
            "grid_area": null,
            "grid_auto_columns": null,
            "grid_auto_flow": null,
            "grid_auto_rows": null,
            "grid_column": null,
            "grid_gap": null,
            "grid_row": null,
            "grid_template_areas": null,
            "grid_template_columns": null,
            "grid_template_rows": null,
            "height": null,
            "justify_content": null,
            "justify_items": null,
            "left": null,
            "margin": null,
            "max_height": null,
            "max_width": null,
            "min_height": null,
            "min_width": null,
            "object_fit": null,
            "object_position": null,
            "order": null,
            "overflow": null,
            "overflow_x": null,
            "overflow_y": null,
            "padding": null,
            "right": null,
            "top": null,
            "visibility": null,
            "width": null
          }
        },
        "4fa5c9f10f8e4322aa37fc324c62f191": {
          "model_module": "@jupyter-widgets/controls",
          "model_name": "DescriptionStyleModel",
          "model_module_version": "1.5.0",
          "state": {
            "_model_module": "@jupyter-widgets/controls",
            "_model_module_version": "1.5.0",
            "_model_name": "DescriptionStyleModel",
            "_view_count": null,
            "_view_module": "@jupyter-widgets/base",
            "_view_module_version": "1.2.0",
            "_view_name": "StyleView",
            "description_width": ""
          }
        }
      }
    }
  },
  "nbformat": 4,
  "nbformat_minor": 0
}