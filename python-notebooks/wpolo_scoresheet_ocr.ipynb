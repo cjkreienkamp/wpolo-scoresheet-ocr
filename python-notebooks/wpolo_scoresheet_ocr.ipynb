{
  "cells": [
    {
      "cell_type": "markdown",
      "metadata": {
        "id": "view-in-github",
        "colab_type": "text"
      },
      "source": [
        "<a href=\"https://colab.research.google.com/github/cjkreienkamp/wpolo-scoresheet-ocr/blob/main/wpolo_scoresheet_ocr.ipynb\" target=\"_parent\"><img src=\"https://colab.research.google.com/assets/colab-badge.svg\" alt=\"Open In Colab\"/></a>"
      ]
    },
    {
      "cell_type": "markdown",
      "metadata": {
        "id": "NT66vo1E74lv"
      },
      "source": [
        "## 0. Configure Environment"
      ]
    },
    {
      "cell_type": "markdown",
      "metadata": {
        "id": "tzXdzxosbwcA"
      },
      "source": [
        "### 0.1 Imports"
      ]
    },
    {
      "cell_type": "code",
      "execution_count": 1,
      "metadata": {
        "collapsed": true,
        "id": "Aat_dl5VUPYT"
      },
      "outputs": [],
      "source": [
        "!apt-get install poppler-utils 1> /dev/null\n",
        "!pip install torch torchvision torchaudio 1> /dev/null"
      ]
    },
    {
      "cell_type": "code",
      "execution_count": 2,
      "metadata": {
        "id": "o14lHDw4bn5S"
      },
      "outputs": [],
      "source": [
        "try:\n",
        "    import pdf2image\n",
        "except:\n",
        "    !pip install pdf2image 1> /dev/null\n",
        "    import pdf2image\n",
        "\n",
        "import cv2\n",
        "import numpy as np\n",
        "import os\n",
        "import matplotlib.pyplot as plt\n",
        "import imutils\n",
        "from imutils import contours\n",
        "import torch\n",
        "from torch.utils.data import DataLoader\n",
        "from torch.utils.data import random_split\n",
        "import torch.optim as optim\n",
        "import torch.nn as nn\n",
        "import torch.nn.functional as F\n",
        "import torchvision\n",
        "from torchvision import datasets, transforms\n",
        "from torchvision.transforms import ToTensor\n",
        "from typing import List\n",
        "import tabulate"
      ]
    },
    {
      "cell_type": "markdown",
      "metadata": {
        "id": "H0bhO5alBlcN"
      },
      "source": [
        "### 0.2 Create folder structure"
      ]
    },
    {
      "cell_type": "code",
      "execution_count": 3,
      "metadata": {
        "id": "FalmDzG7BlcN"
      },
      "outputs": [],
      "source": [
        "if not os.path.exists('input'): os.symlink('/content/drive/MyDrive/input', 'input')\n",
        "if not os.path.exists('output/aligned'): os.makedirs('output/aligned')\n",
        "if not os.path.exists('output/TIME'): os.makedirs('output/TIME')\n",
        "if not os.path.exists('output/TIME_processed'): os.makedirs('output/TIME_processed')\n",
        "if not os.path.exists('output/CAP'): os.makedirs('output/CAP')\n",
        "if not os.path.exists('output/CAP_processed'): os.makedirs('output/CAP_processed')\n",
        "if not os.path.exists('output/TEAM'): os.makedirs('output/TEAM')\n",
        "if not os.path.exists('output/REMARKS'): os.makedirs('output/REMARKS')\n",
        "if not os.path.exists('output/SCORE'): os.makedirs('output/SCORE')\n",
        "if not os.path.exists('output/SCORE_processed'): os.makedirs('output/SCORE_processed')"
      ]
    },
    {
      "cell_type": "markdown",
      "source": [
        "### 0.3 Load classification models"
      ],
      "metadata": {
        "id": "pdhtdu7Tty6z"
      }
    },
    {
      "cell_type": "code",
      "source": [
        "mnist_model = torch.jit.load('/content/drive/MyDrive/input/models/mnist_model.pt', map_location=torch.device('cpu'))\n",
        "team_model = torch.jit.load('/content/drive/MyDrive/input/models/team_model.pt', map_location=torch.device('cpu'))\n",
        "remarks_model = torch.jit.load('/content/drive/MyDrive/input/models/remarks_model.pt',  map_location=torch.device('cpu'))"
      ],
      "metadata": {
        "id": "yuxnGQjatw_i"
      },
      "execution_count": null,
      "outputs": []
    },
    {
      "cell_type": "markdown",
      "metadata": {
        "id": "fiOWVmbv74lw"
      },
      "source": [
        "## 1. Input"
      ]
    },
    {
      "cell_type": "code",
      "source": [
        "SCORESHEET = 4\n",
        "NUMBER_OF_ROWS = 14\n",
        "\n",
        "png = f'scoresheet{SCORESHEET}.png'\n",
        "if png not in os.listdir('input/scoresheet_pngs'):\n",
        "    print(f'[ERROR] input/scoresheet_pngs/scoresheet{SCORESHEET}.png does not exist')\n",
        "if not png[:-4]+'.txt' in os.listdir('input/gamelog_corner_pts'):\n",
        "    print(f'[ERROR] input/gamelog_corner_pts/scoresheet{SCORESHEET}.txt does not exist')"
      ],
      "metadata": {
        "id": "75B06xXhnlYS"
      },
      "execution_count": null,
      "outputs": []
    },
    {
      "cell_type": "markdown",
      "source": [
        "## 2. Load and parse cells on scoresheet"
      ],
      "metadata": {
        "id": "5JZyhT86tXxL"
      }
    },
    {
      "cell_type": "markdown",
      "source": [
        "### 1.3 Identify, straighten, and save the gamelogs from the scoresheet"
      ],
      "metadata": {
        "id": "FGAvuvdEAfj8"
      }
    },
    {
      "source": [
        "gamelog_height = 500\n",
        "gamelog_width = 369\n",
        "gamelog_template_corners = np.array([[0,0], [gamelog_width,0], [0,gamelog_height], [gamelog_width,gamelog_height]])\n",
        "\n",
        "png = f'scoresheet{SCORESHEET}.png'\n",
        "scoresheet = cv2.imread('input/scoresheet_pngs/'+png)\n",
        "\n",
        "with open('input/gamelog_corner_pts/'+png[:-4]+'.txt', 'r') as f:\n",
        "    data = f.read().split('\\n')\n",
        "    for i in range(5):\n",
        "        gamelog_corners = np.array([[float(data[i*8+0]), float(data[i*8+1])],\n",
        "                                    [float(data[i*8+2]), float(data[i*8+3])],\n",
        "                                    [float(data[i*8+4]), float(data[i*8+5])],\n",
        "                                    [float(data[i*8+6]), float(data[i*8+7])]])\n",
        "        (H, mask) = cv2.findHomography(gamelog_corners, gamelog_template_corners, method=cv2.RANSAC)\n",
        "        aligned = cv2.warpPerspective(scoresheet, H, (gamelog_width, gamelog_height))\n",
        "        cv2.imwrite('output/aligned/'+png[5:-4]+'_log'+str(i+1)+'.png',aligned)"
      ],
      "cell_type": "code",
      "metadata": {
        "id": "_NuPdxY5ehQP"
      },
      "execution_count": null,
      "outputs": []
    },
    {
      "cell_type": "markdown",
      "source": [
        "### 1.4 Draw lines between every cell on the gamelog"
      ],
      "metadata": {
        "id": "IsU0e71v_fg7"
      }
    },
    {
      "cell_type": "code",
      "source": [
        "COLUMN_NUMBERS = [1, 2, 3, 4, 0]\n",
        "column_x_values = [0,108,165,222,316,gamelog_width]\n",
        "gamelog_bb_cell = cv2.imread(f'output/aligned/sheet{SCORESHEET}_log5.png')\n",
        "\n",
        "row_y_values = [int(gamelog_height/NUMBER_OF_ROWS*(i+1)) for i in range(NUMBER_OF_ROWS)]\n",
        "n_cell = 0\n",
        "for y1 in row_y_values[:-1]:\n",
        "    for x1 in column_x_values[:-1]:\n",
        "        n_cell += 1\n",
        "        x2 = column_x_values[column_x_values.index(x1)+1]\n",
        "        y2 = row_y_values[row_y_values.index(y1)+1]\n",
        "        cv2.rectangle(gamelog_bb_cell, (x1, y1), (x2, y2), (255,0,0), 2)\n",
        "        if n_cell%5 in COLUMN_NUMBERS:\n",
        "            cv2.putText(gamelog_bb_cell, str(n_cell), (int((x1+x2)/2.1), int((y1+y2)/2+5)), cv2.FONT_HERSHEY_SIMPLEX, 0.5, (255,0,0), 2)\n",
        "\n",
        "plt.figure(figsize=(5,5))\n",
        "plt.imshow(gamelog_bb_cell)\n",
        "plt.subplots_adjust(top=1, bottom=0, left=-0.3, right=1.3)\n",
        "plt.show()"
      ],
      "metadata": {
        "id": "oTxAGD31R3WO",
        "colab": {
          "base_uri": "https://localhost:8080/"
        },
        "outputId": "4fae3335-1298-4ef5-f9a5-344173b5299e"
      },
      "execution_count": null,
      "outputs": [
        {
          "output_type": "display_data",
          "data": {
            "text/plain": [
              "<Figure size 500x500 with 1 Axes>"
            ],
            "image/png": "[encoded data removed]"
          },
          "metadata": {}
        }
      ]
    },
    {
      "cell_type": "markdown",
      "source": [
        "## 3. Save Data"
      ],
      "metadata": {
        "id": "84LsEHyt_4l7"
      }
    },
    {
      "cell_type": "markdown",
      "source": [
        "### 2.1 Save every desired cell as its own image"
      ],
      "metadata": {
        "id": "lXpsnXU0Jcy3"
      }
    },
    {
      "cell_type": "code",
      "source": [
        "!rm -r /content/output/TIME; rm -r /content/output/CAP; rm -r /content/output/REMARKS; rm -r /content/output/TEAM; rm -r /content/output/SCORE\n",
        "!mkdir /content/output/TIME; mkdir /content/output/CAP; mkdir /content/output/REMARKS; mkdir /content/output/TEAM; mkdir /content/output/SCORE"
      ],
      "metadata": {
        "id": "LcL9ncURFgy6"
      },
      "execution_count": null,
      "outputs": []
    },
    {
      "cell_type": "code",
      "source": [
        "for png in os.listdir('output/aligned'):\n",
        "    image = cv2.imread('output/aligned/'+png)\n",
        "    n_cell = 0\n",
        "    for y1 in row_y_values[:-1]:\n",
        "        for x1 in column_x_values[:-1]:\n",
        "            n_cell += 1\n",
        "            if n_cell%5 in COLUMN_NUMBERS:\n",
        "                x2 = column_x_values[column_x_values.index(x1)+1]\n",
        "                y2 = row_y_values[row_y_values.index(y1)+1]\n",
        "                row_number = (int(png[-5])-1)*(NUMBER_OF_ROWS-1) + n_cell//5 + 1\n",
        "                if n_cell%5 == 1:\n",
        "                    column_name = 'TIME'\n",
        "                    cell = image[y1:y2, x1:x2]\n",
        "                if n_cell%5 == 2:\n",
        "                    column_name = 'CAP'\n",
        "                    cell = image[y1+2:y2-3, x1+8:x2-8]\n",
        "                if n_cell%5 == 3:\n",
        "                    column_name = 'TEAM'\n",
        "                    cell = image[y1:y2, x1:x2]\n",
        "                if n_cell%5 == 4:\n",
        "                    column_name = 'REMARKS'\n",
        "                    cell = image[y1:y2, x1:x2]\n",
        "                if n_cell%5 == 0:\n",
        "                    column_name = 'SCORE'\n",
        "                    cell = image[y1:y2-3, x1+3:x2-3]\n",
        "                    row_number -= 1\n",
        "                cv2.imwrite(f'output/{column_name}/sheet{png[5:-9]}_row{row_number}.png',cell)"
      ],
      "metadata": {
        "id": "KDqfQ0e3T6tu"
      },
      "execution_count": null,
      "outputs": []
    },
    {
      "cell_type": "markdown",
      "source": [
        "## 4. Output"
      ],
      "metadata": {
        "id": "sN63zPBcVq61"
      }
    },
    {
      "cell_type": "markdown",
      "source": [
        "### 4.0 Functions"
      ],
      "metadata": {
        "id": "hlQmglA7VnXG"
      }
    },
    {
      "cell_type": "code",
      "execution_count": null,
      "metadata": {
        "id": "L8EWXfNC74l9"
      },
      "outputs": [],
      "source": [
        "def process_cap_cell(image_path):\n",
        "    raw = cv2.imread(image_path)\n",
        "    grayscale = cv2.cvtColor(raw, cv2.COLOR_BGR2GRAY)\n",
        "    cv2.rectangle(grayscale, (0,0), (raw.shape[1], raw.shape[0]), (240,240,240), 2)\n",
        "    binary = cv2.threshold(grayscale, 230, 255, cv2.THRESH_BINARY_INV)[1]\n",
        "    element = cv2.getStructuringElement(cv2.MORPH_RECT, (1,1))\n",
        "    out = cv2.dilate(binary, element, iterations=2)\n",
        "    element = cv2.getStructuringElement(cv2.MORPH_RECT, (3,1)) # want to connect horizontally at the top\n",
        "    out[0:2, 0:out.shape[1]] = cv2.dilate(out[0:2, 0:out.shape[1]], element, iterations=2)\n",
        "    element = cv2.getStructuringElement(cv2.MORPH_RECT, (3,1)) # want to connect horizontally at the bottom\n",
        "    out[out.shape[0]-2:out.shape[0], 0:out.shape[1]] = cv2.dilate(out[out.shape[0]-2:out.shape[0], 0:out.shape[1]], element, iterations=2)\n",
        "    element = cv2.getStructuringElement(cv2.MORPH_RECT, (1,1))\n",
        "    out = cv2.erode(out, element)\n",
        "    cnts = cv2.findContours(out.copy(), cv2.RETR_EXTERNAL,cv2.CHAIN_APPROX_SIMPLE)\n",
        "    cnts = imutils.grab_contours(cnts)\n",
        "\n",
        "    new_paths = []\n",
        "    if len(cnts):\n",
        "        cnts = contours.sort_contours(cnts, method=\"left-to-right\")[0]\n",
        "        for (i, cnt) in enumerate(cnts):\n",
        "            (x, y, w, h) = cv2.boundingRect(cnt)\n",
        "            if w*h > 50 and y < 15 and y+h > 15 and h > 10:\n",
        "                digit = out[y:y + h, x:x + w]\n",
        "                digit = cv2.resize(digit, (int(18/h*w), 18))\n",
        "                ypad = 5\n",
        "                xpad = max(0, int((28-int(18/h*w))/2))\n",
        "                digit = cv2.copyMakeBorder(digit,top=ypad,bottom=ypad,left=xpad,right=xpad,borderType=cv2.BORDER_CONSTANT,value=[0,0,0])\n",
        "                png = image_path.split('/')[-1][:-4]\n",
        "                column_name = image_path.split('/')[-2]\n",
        "                new_path = f'/content/output/{column_name}_processed/{png}_cnt{i}.png'\n",
        "                cv2.imwrite(new_path,digit)\n",
        "                new_paths.append(new_path)\n",
        "    return new_paths\n",
        "\n",
        "\n",
        "\n",
        "def predict_cell(   model: torch.nn.Module,\n",
        "                    image_path: str,\n",
        "                    class_names: List[str] = None,\n",
        "                    train_dim=(28,28)):\n",
        "\n",
        "    transform = transforms.Compose([\n",
        "            transforms.Lambda((lambda x: x[:3])),\n",
        "            transforms.Resize(train_dim),\n",
        "            transforms.Grayscale(num_output_channels=1)\n",
        "    ])\n",
        "\n",
        "    image = torchvision.io.read_image(image_path).type(torch.float32)\n",
        "    image = image / 255.\n",
        "    image = transform(image)\n",
        "\n",
        "    device = 'cuda' if torch.cuda.is_available() else 'cpu'\n",
        "    model.to(device)\n",
        "    model.eval()\n",
        "    with torch.inference_mode():\n",
        "        image = image.unsqueeze(dim=0) # add an extra dimension to image\n",
        "        image_pred = model(image.to(device))\n",
        "\n",
        "    image_pred_probs = torch.softmax(image_pred, dim=1) # convert logits --> prediction probabilities\n",
        "    image_pred_label = torch.argmax(image_pred_probs, dim=1) # convert prediction probabilities --> prediction labels\n",
        "\n",
        "    if class_names:\n",
        "        prediction = class_names[image_pred_label.cpu()]\n",
        "        probability = image_pred_probs.max().cpu()\n",
        "        return prediction\n",
        "    else:\n",
        "        prediction = image_pred_label.cpu()\n",
        "        probability = image_pred_probs.max().cpu()\n",
        "        return prediction"
      ]
    },
    {
      "cell_type": "markdown",
      "source": [
        "### 4.1 Create table"
      ],
      "metadata": {
        "id": "KIKS37l6khAJ"
      }
    },
    {
      "cell_type": "code",
      "source": [
        "!rm -r output/TIME_processed; rm -r output/CAP_processed; rm -r output/SCORE_processed\n",
        "!mkdir output/TIME_processed; mkdir output/CAP_processed; mkdir output/SCORE_processed"
      ],
      "metadata": {
        "id": "ttY3q-5LvvEr"
      },
      "execution_count": null,
      "outputs": []
    },
    {
      "cell_type": "code",
      "source": [
        "dark_score = [0,0,0,0,0]\n",
        "white_score = [0,0,0,0,0]\n",
        "quarter = 1\n",
        "\n",
        "table = [['ROW','TIME','CAP','TEAM','REMARKS','SCORE']]\n",
        "for row in range(65):\n",
        "    cell = f'sheet{SCORESHEET}_row{row+1}.png'\n",
        "\n",
        "    team = predict_cell(model=team_model,\n",
        "                        image_path=f'/content/output/TEAM/{cell}',\n",
        "                        class_names=['D', 'W', '-----'],\n",
        "                        train_dim=(28,28))\n",
        "\n",
        "    remarks = predict_cell(model=remarks_model,\n",
        "                        image_path=f'/content/output/REMARKS/{cell}',\n",
        "                        class_names=['C-card', 'E-ejection', 'G-goal', 'P-penalty', 'TO-timeout', '-----'],\n",
        "                        train_dim=(28,73))\n",
        "\n",
        "    time_digit_paths = process_cap_cell(f'/content/output/TIME/{cell}')\n",
        "    time = ''\n",
        "    for digit_path in time_digit_paths:\n",
        "        digit = predict_cell(model=mnist_model,\n",
        "                            image_path=digit_path,\n",
        "                            class_names=[str(i) for i in range(10)],\n",
        "                            train_dim=(28,28))\n",
        "        time += str(digit)\n",
        "\n",
        "    cap_digit_paths = process_cap_cell(f'/content/output/CAP/{cell}')\n",
        "    cap = ''\n",
        "    for digit_path in cap_digit_paths:\n",
        "        digit = predict_cell(model=mnist_model,\n",
        "                            image_path=digit_path,\n",
        "                            class_names=[str(i) for i in range(10)],\n",
        "                            train_dim=(28,28))\n",
        "        cap += str(digit)\n",
        "\n",
        "    score_digit_paths = process_cap_cell(f'/content/output/SCORE/{cell}')\n",
        "    score = ''\n",
        "    for digit_path in score_digit_paths:\n",
        "        digit = predict_cell(model=mnist_model,\n",
        "                            image_path=digit_path,\n",
        "                            class_names=[str(i) for i in range(10)],\n",
        "                            train_dim=(28,28))\n",
        "        score += str(digit)\n",
        "\n",
        "    if team=='-----' and remarks=='-----':\n",
        "        quarter = min(quarter+1,5)\n",
        "        team = ' ----- '; remarks = ' ----- '; cap = ' ----- '; score = ' ----- '; time = ' ----- '\n",
        "    if time=='': time = ' ----- '\n",
        "    if cap=='': cap = '-----'\n",
        "    if score=='': score = '-----'\n",
        "    if remarks=='G-goal':\n",
        "        if team=='D': dark_score[quarter-1] += 1\n",
        "        elif team=='W': white_score[quarter-1] += 1\n",
        "    table.append([row+1, time, cap, team, remarks, score])\n",
        "\n",
        "results = [ ['QTR','DARK','WHITE'],\n",
        "            ['1', dark_score[0], white_score[0]],\n",
        "            ['2', dark_score[1], white_score[1]],\n",
        "            ['3', dark_score[2], white_score[2]],\n",
        "            ['4', dark_score[3], white_score[3]],\n",
        "            ['OT', dark_score[4], white_score[4]],\n",
        "            ['FINAL', sum(dark_score), sum(white_score)] ]\n",
        "print(tabulate.tabulate(results, headers='firstrow', tablefmt='fancy_grid'))\n",
        "print(tabulate.tabulate(table, headers='firstrow', tablefmt='fancy_grid'))"
      ],
      "metadata": {
        "colab": {
          "base_uri": "https://localhost:8080/"
        },
        "id": "wCJ46Taszp6L",
        "outputId": "a85538ad-29a3-4a3d-8fd2-0d7604bf2b96"
      },
      "execution_count": null,
      "outputs": [
        {
          "output_type": "stream",
          "name": "stdout",
          "text": [
            "╒═══════╤════════╤═════════╕\n",
            "│ QTR   │   DARK │   WHITE │\n",
            "╞═══════╪════════╪═════════╡\n",
            "│ 1     │      0 │       2 │\n",
            "├───────┼────────┼─────────┤\n",
            "│ 2     │      0 │       3 │\n",
            "├───────┼────────┼─────────┤\n",
            "│ 3     │      3 │       9 │\n",
            "├───────┼────────┼─────────┤\n",
            "│ 4     │      0 │       0 │\n",
            "├───────┼────────┼─────────┤\n",
            "│ OT    │      0 │       0 │\n",
            "├───────┼────────┼─────────┤\n",
            "│ FINAL │      3 │      14 │\n",
            "╘═══════╧════════╧═════════╛\n",
            "╒═══════╤════════╤═══════╤════════╤════════════╤═════════╕\n",
            "│   ROW │ TIME   │ CAP   │ TEAM   │ REMARKS    │ SCORE   │\n",
            "╞═══════╪════════╪═══════╪════════╪════════════╪═════════╡\n",
            "│     1 │ 070    │ 12    │ D      │ E-ejection │ -----   │\n",
            "├───────┼────────┼───────┼────────┼────────────┼─────────┤\n",
            "│     2 │ 2      │ 11    │ W      │ E-ejection │ -----   │\n",
            "├───────┼────────┼───────┼────────┼────────────┼─────────┤\n",
            "│     3 │ 488    │ ----- │ W      │ TO-timeout │ -----   │\n",
            "├───────┼────────┼───────┼────────┼────────────┼─────────┤\n",
            "│     4 │ 1      │ 2     │ W      │ G-goal     │ 81      │\n",
            "├───────┼────────┼───────┼────────┼────────────┼─────────┤\n",
            "│     5 │ 218    │ ----- │ D      │ TO-timeout │ -----   │\n",
            "├───────┼────────┼───────┼────────┼────────────┼─────────┤\n",
            "│     6 │ 01     │ 9     │ W      │ G-goal     │ 82      │\n",
            "├───────┼────────┼───────┼────────┼────────────┼─────────┤\n",
            "│     7 │ 158    │ 3     │ D      │ E-ejection │ -----   │\n",
            "├───────┼────────┼───────┼────────┼────────────┼─────────┤\n",
            "│     8 │ -----  │ ----- │ -----  │ -----      │ -----   │\n",
            "├───────┼────────┼───────┼────────┼────────────┼─────────┤\n",
            "│     9 │ 01     │ 4     │ W      │ E-ejection │ -----   │\n",
            "├───────┼────────┼───────┼────────┼────────────┼─────────┤\n",
            "│    10 │ 85     │ 9     │ W      │ G-goal     │ 03      │\n",
            "├───────┼────────┼───────┼────────┼────────────┼─────────┤\n",
            "│    11 │ 53     │ 8     │ W      │ G-goal     │ 04      │\n",
            "├───────┼────────┼───────┼────────┼────────────┼─────────┤\n",
            "│    12 │ 53     │ ----- │ D      │ TO-timeout │ -----   │\n",
            "├───────┼────────┼───────┼────────┼────────────┼─────────┤\n",
            "│    13 │ 23521  │ 6     │ W      │ E-ejection │ -----   │\n",
            "├───────┼────────┼───────┼────────┼────────────┼─────────┤\n",
            "│    14 │ 122    │ ----- │ W      │ TO-timeout │ -----   │\n",
            "├───────┼────────┼───────┼────────┼────────────┼─────────┤\n",
            "│    15 │ 122    │ 4     │ W      │ G-goal     │ -----   │\n",
            "├───────┼────────┼───────┼────────┼────────────┼─────────┤\n",
            "│    16 │ -----  │ ----- │ -----  │ -----      │ -----   │\n",
            "├───────┼────────┼───────┼────────┼────────────┼─────────┤\n",
            "│    17 │ 244    │ 4     │ W      │ G-goal     │ 06      │\n",
            "├───────┼────────┼───────┼────────┼────────────┼─────────┤\n",
            "│    18 │ 15     │ 5     │ W      │ G-goal     │ -----   │\n",
            "├───────┼────────┼───────┼────────┼────────────┼─────────┤\n",
            "│    19 │ 0      │ 12    │ D      │ G-goal     │ -----   │\n",
            "├───────┼────────┼───────┼────────┼────────────┼─────────┤\n",
            "│    20 │ 638    │ 10    │ D      │ G-goal     │ 16      │\n",
            "├───────┼────────┼───────┼────────┼────────────┼─────────┤\n",
            "│    21 │ 114    │ 9     │ W      │ G-goal     │ 17      │\n",
            "├───────┼────────┼───────┼────────┼────────────┼─────────┤\n",
            "│    22 │ 341    │ 3     │ W      │ G-goal     │ 18      │\n",
            "├───────┼────────┼───────┼────────┼────────────┼─────────┤\n",
            "│    23 │ 125    │ 5     │ W      │ G-goal     │ 19      │\n",
            "├───────┼────────┼───────┼────────┼────────────┼─────────┤\n",
            "│    24 │ 2152   │ 8     │ W      │ E-ejection │ -----   │\n",
            "├───────┼────────┼───────┼────────┼────────────┼─────────┤\n",
            "│    25 │ 2144   │ 8     │ W      │ G-goal     │ -----   │\n",
            "├───────┼────────┼───────┼────────┼────────────┼─────────┤\n",
            "│    26 │ 233    │ 7     │ D      │ G-goal     │ 29      │\n",
            "├───────┼────────┼───────┼────────┼────────────┼─────────┤\n",
            "│    27 │ 0      │ 17    │ W      │ E-ejection │ -----   │\n",
            "├───────┼────────┼───────┼────────┼────────────┼─────────┤\n",
            "│    28 │ 08     │ 8     │ W      │ E-ejection │ -----   │\n",
            "├───────┼────────┼───────┼────────┼────────────┼─────────┤\n",
            "│    29 │ 15     │ ----- │ D      │ TO-timeout │ -----   │\n",
            "├───────┼────────┼───────┼────────┼────────────┼─────────┤\n",
            "│    30 │ 23     │ 4     │ W      │ G-goal     │ 210     │\n",
            "├───────┼────────┼───────┼────────┼────────────┼─────────┤\n",
            "│    31 │ 258    │ 12    │ W      │ G-goal     │ 811     │\n",
            "├───────┼────────┼───────┼────────┼────────────┼─────────┤\n",
            "│    32 │ 229    │ 7     │ W      │ G-goal     │ 20      │\n",
            "├───────┼────────┼───────┼────────┼────────────┼─────────┤\n",
            "│    33 │ 127    │ 2     │ W      │ E-ejection │ -----   │\n",
            "├───────┼────────┼───────┼────────┼────────────┼─────────┤\n",
            "│    34 │ -----  │ ----- │ -----  │ -----      │ -----   │\n",
            "├───────┼────────┼───────┼────────┼────────────┼─────────┤\n",
            "│    35 │ -----  │ ----- │ -----  │ -----      │ -----   │\n",
            "├───────┼────────┼───────┼────────┼────────────┼─────────┤\n",
            "│    36 │ -----  │ ----- │ -----  │ -----      │ -----   │\n",
            "├───────┼────────┼───────┼────────┼────────────┼─────────┤\n",
            "│    37 │ -----  │ ----- │ -----  │ -----      │ -----   │\n",
            "├───────┼────────┼───────┼────────┼────────────┼─────────┤\n",
            "│    38 │ -----  │ ----- │ -----  │ -----      │ -----   │\n",
            "├───────┼────────┼───────┼────────┼────────────┼─────────┤\n",
            "│    39 │ -----  │ ----- │ -----  │ -----      │ -----   │\n",
            "├───────┼────────┼───────┼────────┼────────────┼─────────┤\n",
            "│    40 │ -----  │ ----- │ -----  │ -----      │ -----   │\n",
            "├───────┼────────┼───────┼────────┼────────────┼─────────┤\n",
            "│    41 │ -----  │ ----- │ -----  │ -----      │ -----   │\n",
            "├───────┼────────┼───────┼────────┼────────────┼─────────┤\n",
            "│    42 │ -----  │ ----- │ -----  │ -----      │ -----   │\n",
            "├───────┼────────┼───────┼────────┼────────────┼─────────┤\n",
            "│    43 │ -----  │ ----- │ -----  │ -----      │ -----   │\n",
            "├───────┼────────┼───────┼────────┼────────────┼─────────┤\n",
            "│    44 │ -----  │ ----- │ -----  │ -----      │ -----   │\n",
            "├───────┼────────┼───────┼────────┼────────────┼─────────┤\n",
            "│    45 │ -----  │ ----- │ D      │ -----      │ -----   │\n",
            "├───────┼────────┼───────┼────────┼────────────┼─────────┤\n",
            "│    46 │ -----  │ ----- │ -----  │ -----      │ -----   │\n",
            "├───────┼────────┼───────┼────────┼────────────┼─────────┤\n",
            "│    47 │ -----  │ ----- │ -----  │ -----      │ -----   │\n",
            "├───────┼────────┼───────┼────────┼────────────┼─────────┤\n",
            "│    48 │ -----  │ ----- │ -----  │ -----      │ -----   │\n",
            "├───────┼────────┼───────┼────────┼────────────┼─────────┤\n",
            "│    49 │ -----  │ ----- │ -----  │ -----      │ -----   │\n",
            "├───────┼────────┼───────┼────────┼────────────┼─────────┤\n",
            "│    50 │ -----  │ ----- │ -----  │ -----      │ -----   │\n",
            "├───────┼────────┼───────┼────────┼────────────┼─────────┤\n",
            "│    51 │ -----  │ ----- │ -----  │ -----      │ -----   │\n",
            "├───────┼────────┼───────┼────────┼────────────┼─────────┤\n",
            "│    52 │ -----  │ ----- │ -----  │ -----      │ -----   │\n",
            "├───────┼────────┼───────┼────────┼────────────┼─────────┤\n",
            "│    53 │ -----  │ ----- │ -----  │ -----      │ -----   │\n",
            "├───────┼────────┼───────┼────────┼────────────┼─────────┤\n",
            "│    54 │ -----  │ ----- │ -----  │ -----      │ -----   │\n",
            "├───────┼────────┼───────┼────────┼────────────┼─────────┤\n",
            "│    55 │ -----  │ ----- │ -----  │ -----      │ -----   │\n",
            "├───────┼────────┼───────┼────────┼────────────┼─────────┤\n",
            "│    56 │ -----  │ ----- │ -----  │ -----      │ -----   │\n",
            "├───────┼────────┼───────┼────────┼────────────┼─────────┤\n",
            "│    57 │ -----  │ ----- │ -----  │ -----      │ -----   │\n",
            "├───────┼────────┼───────┼────────┼────────────┼─────────┤\n",
            "│    58 │ -----  │ ----- │ -----  │ -----      │ -----   │\n",
            "├───────┼────────┼───────┼────────┼────────────┼─────────┤\n",
            "│    59 │ -----  │ ----- │ -----  │ -----      │ -----   │\n",
            "├───────┼────────┼───────┼────────┼────────────┼─────────┤\n",
            "│    60 │ -----  │ ----- │ -----  │ -----      │ -----   │\n",
            "├───────┼────────┼───────┼────────┼────────────┼─────────┤\n",
            "│    61 │ -----  │ ----- │ -----  │ -----      │ -----   │\n",
            "├───────┼────────┼───────┼────────┼────────────┼─────────┤\n",
            "│    62 │ -----  │ ----- │ -----  │ -----      │ -----   │\n",
            "├───────┼────────┼───────┼────────┼────────────┼─────────┤\n",
            "│    63 │ -----  │ ----- │ -----  │ -----      │ -----   │\n",
            "├───────┼────────┼───────┼────────┼────────────┼─────────┤\n",
            "│    64 │ -----  │ ----- │ -----  │ -----      │ -----   │\n",
            "├───────┼────────┼───────┼────────┼────────────┼─────────┤\n",
            "│    65 │ -----  │ ----- │ -----  │ -----      │ -----   │\n",
            "╘═══════╧════════╧═══════╧════════╧════════════╧═════════╛\n"
          ]
        }
      ]
    },
    {
      "cell_type": "markdown",
      "source": [
        "Ideas to improve:\n",
        "\n",
        "\n",
        "*   if the next score is exactly 1 above the previous, delete all goals in between and change to 2nd best choice\n",
        "*   if the next score is exactly 1 above the previous, add a goal??\n",
        "*   if goal and it adds to one side, then check that W / D is correct\n",
        "*   first, cycle through the score column to see what the score should be, if there are goals with proper scores, then add those goals (we only care about increments)\n",
        "\n"
      ],
      "metadata": {
        "id": "FiDlsMhQnT9d"
      }
    }
  ],
  "metadata": {
    "colab": {
      "provenance": [],
      "collapsed_sections": [
        "i2Ji6g4hMqSY",
        "7x0uDUxG9xxD",
        "WbrBUfIg9QXC",
        "RFg3pw9SQNGR",
        "Jq63EE83MMrE",
        "5vo1DAEMMR6y",
        "Q0cOhHvnvgR3",
        "p4eR-9p9uiMd",
        "sDtfiwBMsdvd",
        "jb93gOdHQKfp",
        "f5mwR4U3nn9z",
        "oYTtfimM-YLG",
        "KqT2sxeH-dn0",
        "Lk_SXYrWiIQz"
      ],
      "gpuType": "T4",
      "mount_file_id": "1ywFbjldTqul6UzMEJaJlpSxrzGUut4CJ",
      "authorship_tag": "ABX9TyNrNJhWGOeYegwFtI90MIZg",
      "include_colab_link": true
    },
    "kernelspec": {
      "display_name": "Python 3",
      "name": "python3"
    },
    "language_info": {
      "name": "python"
    },
    "accelerator": "GPU"
  },
  "nbformat": 4,
  "nbformat_minor": 0
}
